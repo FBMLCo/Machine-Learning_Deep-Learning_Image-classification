{
 "cells": [
  {
   "cell_type": "markdown",
   "metadata": {},
   "source": [
    "# Support Vector Machine (SVM)"
   ]
  },
  {
   "cell_type": "markdown",
   "metadata": {},
   "source": [
    "### Different strategies would be considered:\n",
    "* Cross-validation with stratified k-fold of 5. We will apply a stratified approach for keeping the proportion of different classes during the process. Stratified kfolds performs the train/test split once while stratifiedshufflesplit will shuffle data each time before the split. The latter method would imply some overalp of the test sets. At this stage, we will focus on the stratified kfolds.\n",
    "\n",
    "* PCA will be applied to optimize the computation time (c# of componenets explaining 80% and 95% of the variance will be tested)\n",
    "\n",
    "* Standarscaler will be applied to optimize model perform, especially if SGDCClassifier will be performed\n",
    "\n",
    "* In terms of models, we will perform first a SVC with linear kernel tuning C which will set a baseline. We will move to SVC with RBF kernel optimizing C and Gamma. \n",
    "\n",
    "* We would consider to perfom SGDClassifier depending on the results of the the first 2 approaches. It appears to be more adapted to large set of data but would require more effort for hyperparameter tuning"
   ]
  },
  {
   "cell_type": "markdown",
   "metadata": {},
   "source": [
    "## Import libraries"
   ]
  },
  {
   "cell_type": "code",
   "execution_count": 1,
   "metadata": {},
   "outputs": [],
   "source": [
    "import numpy as np\n",
    "import pandas as pd\n",
    "import seaborn as sns\n",
    "from sklearn.preprocessing import StandardScaler\n",
    "from sklearn.neighbors import KNeighborsClassifier\n",
    "from sklearn.neighbors import NearestNeighbors\n",
    "from sklearn.pipeline import Pipeline\n",
    "from sklearn.model_selection import train_test_split\n",
    "from sklearn.dummy import DummyClassifier\n",
    "from sklearn.neighbors import KNeighborsClassifier\n",
    "%matplotlib inline\n",
    "import matplotlib.pyplot as plt\n",
    "from PIL import Image\n",
    "from sklearn.preprocessing import StandardScaler\n",
    "import pickle\n",
    "from sklearn.model_selection import train_test_split\n",
    "from sklearn.pipeline import Pipeline\n",
    "from sklearn.model_selection import ParameterGrid\n",
    "\n",
    "from sklearn import datasets\n",
    "from sklearn.linear_model import LogisticRegression\n",
    "\n",
    "from sklearn.model_selection import KFold\n",
    "from sklearn.model_selection import cross_validate\n",
    "from sklearn.model_selection import ShuffleSplit\n",
    "from sklearn.model_selection import GridSearchCV\n",
    "from sklearn.linear_model import LogisticRegressionCV\n",
    "from sklearn.cluster import KMeans\n",
    "from sklearn.decomposition import PCA\n",
    "\n",
    "from sklearn.tree import DecisionTreeClassifier\n",
    "from sklearn.tree import export_graphviz\n",
    "import graphviz\n",
    "from sklearn.datasets import make_circles\n",
    "from sklearn.ensemble import RandomForestClassifier\n",
    "\n",
    "from sklearn.svm import LinearSVC\n",
    "from sklearn.svm import SVC\n",
    "\n",
    "from sklearn.metrics import confusion_matrix\n",
    "from sklearn.metrics import roc_auc_score\n",
    "from sklearn.metrics import classification_report\n",
    "from sklearn.metrics import roc_curve\n",
    "\n",
    "import random\n",
    "from sklearn import ensemble\n",
    "\n",
    "from sklearn.model_selection import StratifiedShuffleSplit\n",
    "\n",
    "import warnings\n",
    "warnings.filterwarnings(\"ignore\")\n",
    "warnings.simplefilter(\"ignore\")\n",
    "\n",
    "# Activate Seaborn style\n",
    "sns.set()"
   ]
  },
  {
   "cell_type": "markdown",
   "metadata": {},
   "source": [
    "## Import data"
   ]
  },
  {
   "cell_type": "code",
   "execution_count": 2,
   "metadata": {},
   "outputs": [],
   "source": [
    "# Load the npz file\n",
    "with np.load('Cifar4-train.npz', allow_pickle=False) as cifar_df:\n",
    "    # It's a dictionary-like object\n",
    "    cifar4 = dict(cifar_df.items())"
   ]
  },
  {
   "cell_type": "code",
   "execution_count": 3,
   "metadata": {},
   "outputs": [
    {
     "name": "stdout",
     "output_type": "stream",
     "text": [
      "(5000, 4096) float32\n",
      "(5000,) int64\n",
      "(4,) <U8\n"
     ]
    }
   ],
   "source": [
    "X=cifar4['overfeat']\n",
    "y=cifar4['labels']\n",
    "names=cifar4['names']\n",
    "\n",
    "print(X.shape, X.dtype)\n",
    "print(y.shape, y.dtype)\n",
    "print(names.shape, names.dtype)"
   ]
  },
  {
   "cell_type": "markdown",
   "metadata": {},
   "source": [
    "### Split data in Train (4000) / Test (1000) data sets"
   ]
  },
  {
   "cell_type": "code",
   "execution_count": 4,
   "metadata": {},
   "outputs": [
    {
     "name": "stdout",
     "output_type": "stream",
     "text": [
      "Train: (4000, 4096) (4000,)\n",
      "Test: (1000, 4096) (1000,)\n"
     ]
    }
   ],
   "source": [
    "# Convert the type of the input matrix to float\n",
    "X = X.astype(np.float)\n",
    "\n",
    "# Create train set\n",
    "X_tr, X_te, y_tr, y_te = train_test_split(X,\n",
    "    y,\n",
    "    test_size=1000, random_state=0)\n",
    "\n",
    "print('Train:', X_tr.shape, y_tr.shape)\n",
    "print('Test:', X_te.shape, y_te.shape)"
   ]
  },
  {
   "cell_type": "code",
   "execution_count": 5,
   "metadata": {},
   "outputs": [
    {
     "data": {
      "text/plain": [
       "1    0.25575\n",
       "2    0.25075\n",
       "3    0.24800\n",
       "0    0.24550\n",
       "dtype: float64"
      ]
     },
     "execution_count": 5,
     "metadata": {},
     "output_type": "execute_result"
    }
   ],
   "source": [
    "# Image distribution y_tr\n",
    "pd.value_counts(y_tr, normalize=True)"
   ]
  },
  {
   "cell_type": "code",
   "execution_count": 6,
   "metadata": {},
   "outputs": [
    {
     "data": {
      "text/plain": [
       "0    0.268\n",
       "3    0.258\n",
       "2    0.247\n",
       "1    0.227\n",
       "dtype: float64"
      ]
     },
     "execution_count": 6,
     "metadata": {},
     "output_type": "execute_result"
    }
   ],
   "source": [
    "# Image distribution y_te\n",
    "pd.value_counts(y_te, normalize=True)"
   ]
  },
  {
   "cell_type": "markdown",
   "metadata": {},
   "source": [
    "### **Create a SVM with linear kernel pipeline**"
   ]
  },
  {
   "cell_type": "code",
   "execution_count": 7,
   "metadata": {},
   "outputs": [],
   "source": [
    "# Create SVM pipeline\n",
    "pipe1 = Pipeline([\n",
    "    ('scaler', StandardScaler()), # with standardization StandardScaler()\n",
    "    ('PCA', PCA()),\n",
    "    ('svc_linear', SVC(kernel='linear', random_state=0))  \n",
    "])"
   ]
  },
  {
   "cell_type": "code",
   "execution_count": 8,
   "metadata": {},
   "outputs": [
    {
     "data": {
      "text/plain": [
       "{'memory': None,\n",
       " 'steps': [('scaler',\n",
       "   StandardScaler(copy=True, with_mean=True, with_std=True)),\n",
       "  ('PCA',\n",
       "   PCA(copy=True, iterated_power='auto', n_components=None, random_state=None,\n",
       "       svd_solver='auto', tol=0.0, whiten=False)),\n",
       "  ('svc_linear', SVC(C=1.0, cache_size=200, class_weight=None, coef0=0.0,\n",
       "       decision_function_shape='ovr', degree=3, gamma='auto_deprecated',\n",
       "       kernel='linear', max_iter=-1, probability=False, random_state=0,\n",
       "       shrinking=True, tol=0.001, verbose=False))],\n",
       " 'verbose': False,\n",
       " 'scaler': StandardScaler(copy=True, with_mean=True, with_std=True),\n",
       " 'PCA': PCA(copy=True, iterated_power='auto', n_components=None, random_state=None,\n",
       "     svd_solver='auto', tol=0.0, whiten=False),\n",
       " 'svc_linear': SVC(C=1.0, cache_size=200, class_weight=None, coef0=0.0,\n",
       "     decision_function_shape='ovr', degree=3, gamma='auto_deprecated',\n",
       "     kernel='linear', max_iter=-1, probability=False, random_state=0,\n",
       "     shrinking=True, tol=0.001, verbose=False),\n",
       " 'scaler__copy': True,\n",
       " 'scaler__with_mean': True,\n",
       " 'scaler__with_std': True,\n",
       " 'PCA__copy': True,\n",
       " 'PCA__iterated_power': 'auto',\n",
       " 'PCA__n_components': None,\n",
       " 'PCA__random_state': None,\n",
       " 'PCA__svd_solver': 'auto',\n",
       " 'PCA__tol': 0.0,\n",
       " 'PCA__whiten': False,\n",
       " 'svc_linear__C': 1.0,\n",
       " 'svc_linear__cache_size': 200,\n",
       " 'svc_linear__class_weight': None,\n",
       " 'svc_linear__coef0': 0.0,\n",
       " 'svc_linear__decision_function_shape': 'ovr',\n",
       " 'svc_linear__degree': 3,\n",
       " 'svc_linear__gamma': 'auto_deprecated',\n",
       " 'svc_linear__kernel': 'linear',\n",
       " 'svc_linear__max_iter': -1,\n",
       " 'svc_linear__probability': False,\n",
       " 'svc_linear__random_state': 0,\n",
       " 'svc_linear__shrinking': True,\n",
       " 'svc_linear__tol': 0.001,\n",
       " 'svc_linear__verbose': False}"
      ]
     },
     "execution_count": 8,
     "metadata": {},
     "output_type": "execute_result"
    }
   ],
   "source": [
    "pipe1.get_params()"
   ]
  },
  {
   "cell_type": "markdown",
   "metadata": {},
   "source": [
    "### Define a cross-validation object with a grid of parameters for the SVC with linear kernel"
   ]
  },
  {
   "cell_type": "code",
   "execution_count": 9,
   "metadata": {},
   "outputs": [
    {
     "data": {
      "text/plain": [
       "GridSearchCV(cv=5, error_score='raise-deprecating',\n",
       "             estimator=Pipeline(memory=None,\n",
       "                                steps=[('scaler',\n",
       "                                        StandardScaler(copy=True,\n",
       "                                                       with_mean=True,\n",
       "                                                       with_std=True)),\n",
       "                                       ('PCA',\n",
       "                                        PCA(copy=True, iterated_power='auto',\n",
       "                                            n_components=None,\n",
       "                                            random_state=None,\n",
       "                                            svd_solver='auto', tol=0.0,\n",
       "                                            whiten=False)),\n",
       "                                       ('svc_linear',\n",
       "                                        SVC(C=1.0, cache_size=200,\n",
       "                                            class_weight=None, coef0=0.0,\n",
       "                                            decision_...\n",
       "                                            degree=3, gamma='auto_deprecated',\n",
       "                                            kernel='linear', max_iter=-1,\n",
       "                                            probability=False, random_state=0,\n",
       "                                            shrinking=True, tol=0.001,\n",
       "                                            verbose=False))],\n",
       "                                verbose=False),\n",
       "             iid='warn', n_jobs=None,\n",
       "             param_grid=[{'PCA__n_components': [175],\n",
       "                          'svc_linear__C': [0.001, 0.01, 0.1],\n",
       "                          'svc_linear__decision_function_shape': ['ovo',\n",
       "                                                                  'ovr']}],\n",
       "             pre_dispatch='2*n_jobs', refit=True, return_train_score=True,\n",
       "             scoring=None, verbose=0)"
      ]
     },
     "execution_count": 9,
     "metadata": {},
     "output_type": "execute_result"
    }
   ],
   "source": [
    "# Create cross-validation object\n",
    "grid_svc_linear = GridSearchCV(pipe1, [{\n",
    "    'PCA__n_components':[175], # nb of components explaining 95% of the variance (previous run with 61 components; 80% explained has been tested)\n",
    "    'svc_linear__C':[0.001,0.01,0.1], # range of C defining the moel complexity\n",
    "    'svc_linear__decision_function_shape':['ovo', 'ovr'], # OnevsOne (ovo) and OnevsRest (ovr). The latter beiing more appropriate for multi-class strategy\n",
    "}],return_train_score=True, cv=5)\n",
    "\n",
    "# Fit estimator\n",
    "grid_svc_linear.fit(X_tr, y_tr)"
   ]
  },
  {
   "cell_type": "code",
   "execution_count": 10,
   "metadata": {},
   "outputs": [
    {
     "data": {
      "text/plain": [
       "dict_keys(['mean_fit_time', 'std_fit_time', 'mean_score_time', 'std_score_time', 'param_PCA__n_components', 'param_svc_linear__C', 'param_svc_linear__decision_function_shape', 'params', 'split0_test_score', 'split1_test_score', 'split2_test_score', 'split3_test_score', 'split4_test_score', 'mean_test_score', 'std_test_score', 'rank_test_score', 'split0_train_score', 'split1_train_score', 'split2_train_score', 'split3_train_score', 'split4_train_score', 'mean_train_score', 'std_train_score'])"
      ]
     },
     "execution_count": 10,
     "metadata": {},
     "output_type": "execute_result"
    }
   ],
   "source": [
    "# Get the results with \"cv_results_\"\n",
    "grid_svc_linear.cv_results_.keys()"
   ]
  },
  {
   "cell_type": "code",
   "execution_count": 11,
   "metadata": {},
   "outputs": [
    {
     "data": {
      "text/html": [
       "<div>\n",
       "<style scoped>\n",
       "    .dataframe tbody tr th:only-of-type {\n",
       "        vertical-align: middle;\n",
       "    }\n",
       "\n",
       "    .dataframe tbody tr th {\n",
       "        vertical-align: top;\n",
       "    }\n",
       "\n",
       "    .dataframe thead th {\n",
       "        text-align: right;\n",
       "    }\n",
       "</style>\n",
       "<table border=\"1\" class=\"dataframe\">\n",
       "  <thead>\n",
       "    <tr style=\"text-align: right;\">\n",
       "      <th></th>\n",
       "      <th>PCA</th>\n",
       "      <th>C</th>\n",
       "      <th>Decision</th>\n",
       "      <th>mean_tr</th>\n",
       "      <th>mean_te</th>\n",
       "      <th>std_te_score</th>\n",
       "    </tr>\n",
       "  </thead>\n",
       "  <tbody>\n",
       "    <tr>\n",
       "      <th>1</th>\n",
       "      <td>175</td>\n",
       "      <td>0.001</td>\n",
       "      <td>ovr</td>\n",
       "      <td>0.886064</td>\n",
       "      <td>0.83300</td>\n",
       "      <td>0.014781</td>\n",
       "    </tr>\n",
       "    <tr>\n",
       "      <th>0</th>\n",
       "      <td>175</td>\n",
       "      <td>0.001</td>\n",
       "      <td>ovo</td>\n",
       "      <td>0.886814</td>\n",
       "      <td>0.83225</td>\n",
       "      <td>0.014909</td>\n",
       "    </tr>\n",
       "    <tr>\n",
       "      <th>3</th>\n",
       "      <td>175</td>\n",
       "      <td>0.01</td>\n",
       "      <td>ovr</td>\n",
       "      <td>0.915940</td>\n",
       "      <td>0.82050</td>\n",
       "      <td>0.014741</td>\n",
       "    </tr>\n",
       "    <tr>\n",
       "      <th>2</th>\n",
       "      <td>175</td>\n",
       "      <td>0.01</td>\n",
       "      <td>ovo</td>\n",
       "      <td>0.915564</td>\n",
       "      <td>0.81550</td>\n",
       "      <td>0.013574</td>\n",
       "    </tr>\n",
       "    <tr>\n",
       "      <th>5</th>\n",
       "      <td>175</td>\n",
       "      <td>0.1</td>\n",
       "      <td>ovr</td>\n",
       "      <td>0.936628</td>\n",
       "      <td>0.79725</td>\n",
       "      <td>0.012635</td>\n",
       "    </tr>\n",
       "    <tr>\n",
       "      <th>4</th>\n",
       "      <td>175</td>\n",
       "      <td>0.1</td>\n",
       "      <td>ovo</td>\n",
       "      <td>0.937502</td>\n",
       "      <td>0.79675</td>\n",
       "      <td>0.015706</td>\n",
       "    </tr>\n",
       "  </tbody>\n",
       "</table>\n",
       "</div>"
      ],
      "text/plain": [
       "   PCA      C Decision   mean_tr  mean_te  std_te_score\n",
       "1  175  0.001      ovr  0.886064  0.83300      0.014781\n",
       "0  175  0.001      ovo  0.886814  0.83225      0.014909\n",
       "3  175   0.01      ovr  0.915940  0.82050      0.014741\n",
       "2  175   0.01      ovo  0.915564  0.81550      0.013574\n",
       "5  175    0.1      ovr  0.936628  0.79725      0.012635\n",
       "4  175    0.1      ovo  0.937502  0.79675      0.015706"
      ]
     },
     "execution_count": 11,
     "metadata": {},
     "output_type": "execute_result"
    }
   ],
   "source": [
    "# Collect results in a DataFrame\n",
    "df_svc_linear = pd.DataFrame.from_items([\n",
    "    ('PCA', grid_svc_linear.cv_results_['param_PCA__n_components']),\n",
    "    ('C', grid_svc_linear.cv_results_['param_svc_linear__C']),\n",
    "    ('Decision', grid_svc_linear.cv_results_['param_svc_linear__decision_function_shape']),\n",
    "    ('mean_tr', grid_svc_linear.cv_results_['mean_train_score']),\n",
    "    ('mean_te', grid_svc_linear.cv_results_['mean_test_score']),\n",
    "    ('std_te_score', grid_svc_linear.cv_results_['std_test_score']),\n",
    "    \n",
    "])\n",
    "df_svc_linear.sort_values(by='mean_te', ascending=False)"
   ]
  },
  {
   "cell_type": "markdown",
   "metadata": {},
   "source": [
    "### Find the best combination of parameters"
   ]
  },
  {
   "cell_type": "code",
   "execution_count": 12,
   "metadata": {},
   "outputs": [
    {
     "name": "stdout",
     "output_type": "stream",
     "text": [
      "Top test accuracy on set 1\n",
      "Accuracy on test set 0.833\n"
     ]
    }
   ],
   "source": [
    "# Find best combination\n",
    "idx = np.argmax(df_svc_linear['mean_te'])\n",
    "print('Top test accuracy on set {:}'.format(idx))\n",
    "\n",
    "print('Accuracy on test set {:.3f}'.format(\n",
    "     df_svc_linear.mean_te[idx]\n",
    "     ))\n",
    "\n"
   ]
  },
  {
   "cell_type": "markdown",
   "metadata": {},
   "source": [
    "### Save SVM Linear results"
   ]
  },
  {
   "cell_type": "code",
   "execution_count": 13,
   "metadata": {},
   "outputs": [
    {
     "name": "stdout",
     "output_type": "stream",
     "text": [
      "Stored 'SVC_Linear' (float)\n"
     ]
    }
   ],
   "source": [
    "SVC_Linear=0.829\n",
    "%store SVC_Linear"
   ]
  },
  {
   "cell_type": "markdown",
   "metadata": {},
   "source": [
    "### **Create a SVM with RBF kernel pipeline**"
   ]
  },
  {
   "cell_type": "code",
   "execution_count": 14,
   "metadata": {},
   "outputs": [],
   "source": [
    "# Create SVM pipeline\n",
    "pipe2 = Pipeline([\n",
    "    ('scaler', StandardScaler()), # with standardization StandardScaler()\n",
    "    ('PCA', PCA(n_components=175)), # 175 components to explain 95% of the variance (ref. Data Exploration section)\n",
    "    ('svc_RBF', SVC(kernel='rbf', random_state=0))  \n",
    "])"
   ]
  },
  {
   "cell_type": "code",
   "execution_count": 15,
   "metadata": {},
   "outputs": [
    {
     "data": {
      "text/plain": [
       "{'memory': None,\n",
       " 'steps': [('scaler',\n",
       "   StandardScaler(copy=True, with_mean=True, with_std=True)),\n",
       "  ('PCA',\n",
       "   PCA(copy=True, iterated_power='auto', n_components=175, random_state=None,\n",
       "       svd_solver='auto', tol=0.0, whiten=False)),\n",
       "  ('svc_RBF', SVC(C=1.0, cache_size=200, class_weight=None, coef0=0.0,\n",
       "       decision_function_shape='ovr', degree=3, gamma='auto_deprecated',\n",
       "       kernel='rbf', max_iter=-1, probability=False, random_state=0,\n",
       "       shrinking=True, tol=0.001, verbose=False))],\n",
       " 'verbose': False,\n",
       " 'scaler': StandardScaler(copy=True, with_mean=True, with_std=True),\n",
       " 'PCA': PCA(copy=True, iterated_power='auto', n_components=175, random_state=None,\n",
       "     svd_solver='auto', tol=0.0, whiten=False),\n",
       " 'svc_RBF': SVC(C=1.0, cache_size=200, class_weight=None, coef0=0.0,\n",
       "     decision_function_shape='ovr', degree=3, gamma='auto_deprecated',\n",
       "     kernel='rbf', max_iter=-1, probability=False, random_state=0,\n",
       "     shrinking=True, tol=0.001, verbose=False),\n",
       " 'scaler__copy': True,\n",
       " 'scaler__with_mean': True,\n",
       " 'scaler__with_std': True,\n",
       " 'PCA__copy': True,\n",
       " 'PCA__iterated_power': 'auto',\n",
       " 'PCA__n_components': 175,\n",
       " 'PCA__random_state': None,\n",
       " 'PCA__svd_solver': 'auto',\n",
       " 'PCA__tol': 0.0,\n",
       " 'PCA__whiten': False,\n",
       " 'svc_RBF__C': 1.0,\n",
       " 'svc_RBF__cache_size': 200,\n",
       " 'svc_RBF__class_weight': None,\n",
       " 'svc_RBF__coef0': 0.0,\n",
       " 'svc_RBF__decision_function_shape': 'ovr',\n",
       " 'svc_RBF__degree': 3,\n",
       " 'svc_RBF__gamma': 'auto_deprecated',\n",
       " 'svc_RBF__kernel': 'rbf',\n",
       " 'svc_RBF__max_iter': -1,\n",
       " 'svc_RBF__probability': False,\n",
       " 'svc_RBF__random_state': 0,\n",
       " 'svc_RBF__shrinking': True,\n",
       " 'svc_RBF__tol': 0.001,\n",
       " 'svc_RBF__verbose': False}"
      ]
     },
     "execution_count": 15,
     "metadata": {},
     "output_type": "execute_result"
    }
   ],
   "source": [
    "pipe2.get_params()"
   ]
  },
  {
   "cell_type": "markdown",
   "metadata": {},
   "source": [
    "### Define a cross-validation object with a grid of parameters for the SVC with RBF kernel"
   ]
  },
  {
   "cell_type": "code",
   "execution_count": 16,
   "metadata": {},
   "outputs": [
    {
     "data": {
      "text/plain": [
       "GridSearchCV(cv=5, error_score='raise-deprecating',\n",
       "             estimator=Pipeline(memory=None,\n",
       "                                steps=[('scaler',\n",
       "                                        StandardScaler(copy=True,\n",
       "                                                       with_mean=True,\n",
       "                                                       with_std=True)),\n",
       "                                       ('PCA',\n",
       "                                        PCA(copy=True, iterated_power='auto',\n",
       "                                            n_components=175, random_state=None,\n",
       "                                            svd_solver='auto', tol=0.0,\n",
       "                                            whiten=False)),\n",
       "                                       ('svc_RBF',\n",
       "                                        SVC(C=1.0, cache_size=200,\n",
       "                                            class_weight=None, coef0=0.0,\n",
       "                                            decision_func...\n",
       "                                            kernel='rbf', max_iter=-1,\n",
       "                                            probability=False, random_state=0,\n",
       "                                            shrinking=True, tol=0.001,\n",
       "                                            verbose=False))],\n",
       "                                verbose=False),\n",
       "             iid='warn', n_jobs=None,\n",
       "             param_grid=[{'PCA__n_components': [175], 'svc_RBF__C': [10, 50],\n",
       "                          'svc_RBF__decision_function_shape': ['ovr', 'ovo'],\n",
       "                          'svc_RBF__gamma': [0.001, 0.0001, 1e-05]}],\n",
       "             pre_dispatch='2*n_jobs', refit=True, return_train_score=False,\n",
       "             scoring=None, verbose=0)"
      ]
     },
     "execution_count": 16,
     "metadata": {},
     "output_type": "execute_result"
    }
   ],
   "source": [
    "# Create cross-validation object\n",
    "grid_svc_rbf = GridSearchCV(pipe2, [{\n",
    "    'PCA__n_components':[175], # nb of components explaining 95% of the variance (previous run with 61 components; 80% explained has been tested)\n",
    "    'svc_RBF__C':[10, 50], # range of C defining the model complexity (tested but not good: 1, 0.1)\n",
    "    'svc_RBF__gamma':[0.001, 0.0001,0.00001], # try lower than 0.001\n",
    "    'svc_RBF__decision_function_shape':['ovr', 'ovo'], # OnevsRest (ovr)\n",
    "}],cv=5)\n",
    "\n",
    "# Fit estimator\n",
    "grid_svc_rbf.fit(X_tr, y_tr)"
   ]
  },
  {
   "cell_type": "code",
   "execution_count": 18,
   "metadata": {},
   "outputs": [
    {
     "data": {
      "text/plain": [
       "dict_keys(['mean_fit_time', 'std_fit_time', 'mean_score_time', 'std_score_time', 'param_PCA__n_components', 'param_svc_RBF__C', 'param_svc_RBF__decision_function_shape', 'param_svc_RBF__gamma', 'params', 'split0_test_score', 'split1_test_score', 'split2_test_score', 'split3_test_score', 'split4_test_score', 'mean_test_score', 'std_test_score', 'rank_test_score'])"
      ]
     },
     "execution_count": 18,
     "metadata": {},
     "output_type": "execute_result"
    }
   ],
   "source": [
    "# Get the results with \"cv_results_\"\n",
    "grid_svc_rbf.cv_results_.keys()"
   ]
  },
  {
   "cell_type": "markdown",
   "metadata": {},
   "source": [
    "### Collect results in a dataframe"
   ]
  },
  {
   "cell_type": "code",
   "execution_count": 19,
   "metadata": {},
   "outputs": [
    {
     "data": {
      "text/html": [
       "<div>\n",
       "<style scoped>\n",
       "    .dataframe tbody tr th:only-of-type {\n",
       "        vertical-align: middle;\n",
       "    }\n",
       "\n",
       "    .dataframe tbody tr th {\n",
       "        vertical-align: top;\n",
       "    }\n",
       "\n",
       "    .dataframe thead th {\n",
       "        text-align: right;\n",
       "    }\n",
       "</style>\n",
       "<table border=\"1\" class=\"dataframe\">\n",
       "  <thead>\n",
       "    <tr style=\"text-align: right;\">\n",
       "      <th></th>\n",
       "      <th>PCA</th>\n",
       "      <th>C</th>\n",
       "      <th>Gamma</th>\n",
       "      <th>Decision</th>\n",
       "      <th>mean_te</th>\n",
       "      <th>std_te_score</th>\n",
       "    </tr>\n",
       "  </thead>\n",
       "  <tbody>\n",
       "    <tr>\n",
       "      <th>4</th>\n",
       "      <td>175</td>\n",
       "      <td>0.0001</td>\n",
       "      <td>10</td>\n",
       "      <td>ovo</td>\n",
       "      <td>0.84250</td>\n",
       "      <td>0.012280</td>\n",
       "    </tr>\n",
       "    <tr>\n",
       "      <th>1</th>\n",
       "      <td>175</td>\n",
       "      <td>0.0001</td>\n",
       "      <td>10</td>\n",
       "      <td>ovr</td>\n",
       "      <td>0.83875</td>\n",
       "      <td>0.012090</td>\n",
       "    </tr>\n",
       "    <tr>\n",
       "      <th>5</th>\n",
       "      <td>175</td>\n",
       "      <td>1e-05</td>\n",
       "      <td>10</td>\n",
       "      <td>ovo</td>\n",
       "      <td>0.83425</td>\n",
       "      <td>0.005819</td>\n",
       "    </tr>\n",
       "    <tr>\n",
       "      <th>8</th>\n",
       "      <td>175</td>\n",
       "      <td>1e-05</td>\n",
       "      <td>50</td>\n",
       "      <td>ovr</td>\n",
       "      <td>0.83325</td>\n",
       "      <td>0.010828</td>\n",
       "    </tr>\n",
       "    <tr>\n",
       "      <th>7</th>\n",
       "      <td>175</td>\n",
       "      <td>0.0001</td>\n",
       "      <td>50</td>\n",
       "      <td>ovr</td>\n",
       "      <td>0.83175</td>\n",
       "      <td>0.010381</td>\n",
       "    </tr>\n",
       "    <tr>\n",
       "      <th>10</th>\n",
       "      <td>175</td>\n",
       "      <td>0.0001</td>\n",
       "      <td>50</td>\n",
       "      <td>ovo</td>\n",
       "      <td>0.83175</td>\n",
       "      <td>0.009067</td>\n",
       "    </tr>\n",
       "    <tr>\n",
       "      <th>2</th>\n",
       "      <td>175</td>\n",
       "      <td>1e-05</td>\n",
       "      <td>10</td>\n",
       "      <td>ovr</td>\n",
       "      <td>0.83125</td>\n",
       "      <td>0.006849</td>\n",
       "    </tr>\n",
       "    <tr>\n",
       "      <th>11</th>\n",
       "      <td>175</td>\n",
       "      <td>1e-05</td>\n",
       "      <td>50</td>\n",
       "      <td>ovo</td>\n",
       "      <td>0.82975</td>\n",
       "      <td>0.013941</td>\n",
       "    </tr>\n",
       "    <tr>\n",
       "      <th>3</th>\n",
       "      <td>175</td>\n",
       "      <td>0.001</td>\n",
       "      <td>10</td>\n",
       "      <td>ovo</td>\n",
       "      <td>0.78575</td>\n",
       "      <td>0.006465</td>\n",
       "    </tr>\n",
       "    <tr>\n",
       "      <th>9</th>\n",
       "      <td>175</td>\n",
       "      <td>0.001</td>\n",
       "      <td>50</td>\n",
       "      <td>ovo</td>\n",
       "      <td>0.78575</td>\n",
       "      <td>0.006930</td>\n",
       "    </tr>\n",
       "    <tr>\n",
       "      <th>6</th>\n",
       "      <td>175</td>\n",
       "      <td>0.001</td>\n",
       "      <td>50</td>\n",
       "      <td>ovr</td>\n",
       "      <td>0.78550</td>\n",
       "      <td>0.006911</td>\n",
       "    </tr>\n",
       "    <tr>\n",
       "      <th>0</th>\n",
       "      <td>175</td>\n",
       "      <td>0.001</td>\n",
       "      <td>10</td>\n",
       "      <td>ovr</td>\n",
       "      <td>0.78500</td>\n",
       "      <td>0.007087</td>\n",
       "    </tr>\n",
       "  </tbody>\n",
       "</table>\n",
       "</div>"
      ],
      "text/plain": [
       "    PCA       C Gamma Decision  mean_te  std_te_score\n",
       "4   175  0.0001    10      ovo  0.84250      0.012280\n",
       "1   175  0.0001    10      ovr  0.83875      0.012090\n",
       "5   175   1e-05    10      ovo  0.83425      0.005819\n",
       "8   175   1e-05    50      ovr  0.83325      0.010828\n",
       "7   175  0.0001    50      ovr  0.83175      0.010381\n",
       "10  175  0.0001    50      ovo  0.83175      0.009067\n",
       "2   175   1e-05    10      ovr  0.83125      0.006849\n",
       "11  175   1e-05    50      ovo  0.82975      0.013941\n",
       "3   175   0.001    10      ovo  0.78575      0.006465\n",
       "9   175   0.001    50      ovo  0.78575      0.006930\n",
       "6   175   0.001    50      ovr  0.78550      0.006911\n",
       "0   175   0.001    10      ovr  0.78500      0.007087"
      ]
     },
     "execution_count": 19,
     "metadata": {},
     "output_type": "execute_result"
    }
   ],
   "source": [
    "# Collect results in a DataFrame\n",
    "df_svc_rbf = pd.DataFrame.from_items([\n",
    "    ('PCA', grid_svc_rbf.cv_results_['param_PCA__n_components']),\n",
    "    ('C', grid_svc_rbf.cv_results_['param_svc_RBF__gamma']),\n",
    "    ('Gamma', grid_svc_rbf.cv_results_['param_svc_RBF__C']),\n",
    "    ('Decision', grid_svc_rbf.cv_results_['param_svc_RBF__decision_function_shape']),\n",
    "    ('mean_te', grid_svc_rbf.cv_results_['mean_test_score']),\n",
    "    ('std_te_score', grid_svc_rbf.cv_results_['std_test_score']),\n",
    "    \n",
    "])\n",
    "df_svc_rbf.sort_values(by='mean_te', ascending=False)"
   ]
  },
  {
   "cell_type": "markdown",
   "metadata": {},
   "source": [
    "### Save SVC RBF results"
   ]
  },
  {
   "cell_type": "code",
   "execution_count": 1,
   "metadata": {},
   "outputs": [
    {
     "name": "stdout",
     "output_type": "stream",
     "text": [
      "Stored 'SVC_RBF' (float)\n"
     ]
    }
   ],
   "source": [
    "SVC_RBF=0.843\n",
    "%store SVC_RBF"
   ]
  },
  {
   "cell_type": "code",
   "execution_count": null,
   "metadata": {},
   "outputs": [],
   "source": []
  },
  {
   "cell_type": "code",
   "execution_count": null,
   "metadata": {},
   "outputs": [],
   "source": []
  },
  {
   "cell_type": "code",
   "execution_count": null,
   "metadata": {},
   "outputs": [],
   "source": []
  }
 ],
 "metadata": {
  "kernelspec": {
   "display_name": "Python 3",
   "language": "python",
   "name": "python3"
  },
  "language_info": {
   "codemirror_mode": {
    "name": "ipython",
    "version": 3
   },
   "file_extension": ".py",
   "mimetype": "text/x-python",
   "name": "python",
   "nbconvert_exporter": "python",
   "pygments_lexer": "ipython3",
   "version": "3.6.9"
  }
 },
 "nbformat": 4,
 "nbformat_minor": 4
}
