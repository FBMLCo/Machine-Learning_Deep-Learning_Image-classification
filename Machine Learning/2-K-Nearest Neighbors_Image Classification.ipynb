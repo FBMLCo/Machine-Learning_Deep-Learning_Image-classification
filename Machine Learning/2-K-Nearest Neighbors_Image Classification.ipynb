{
 "cells": [
  {
   "cell_type": "markdown",
   "metadata": {},
   "source": [
    "# K-Nearrest Neighbors"
   ]
  },
  {
   "cell_type": "markdown",
   "metadata": {},
   "source": [
    "## Tasks"
   ]
  },
  {
   "cell_type": "markdown",
   "metadata": {},
   "source": [
    "### Create a k-NN classifier with PCA. Tune k and the distance metric\n",
    "* Encapsulate your KNeighborsClassifier into a Pipeline object with a  PCA preprocessing step\n",
    "* Set the number of components using your scree plot, e.g., select the number of components to retain 90% of the variance explained\n",
    "* Split the train set (4,000 points) into a (smaller) train and validation sets with respectively 3,200 and 800 samples. Tune k and the distance metric (try \n",
    "L1 and L2) using grid search on these train and validation sets\n",
    "* Create a k-NN classifier for each combination of parameter in the grid, fit it to the train set and evaluate it on the validation set**\n",
    "* Print the accuracy of each combination of parameters on the validation set - using a DataFrame for instance\n",
    "* Find (using code) the combination with the best validation accuracy and print it\n",
    "* Fit your k-NN classifier with the tuned parameters to the entire train data with the 4,000 data points and evaluate its accuracy on the test set, i.e., the remaining 1,000 labeled points\n",
    "\n",
    "\n",
    "### Choose an image from the test set and plot its 10 nearest neighbors\n",
    "* Extract the PCA transformer and the  KNeighborsClassifier estimator from your pipeline\n",
    "* Apply PCA to your test image and pass the result to the kneighbors(X, n_neighbors) function of your k-NN estimator\n",
    "* Use the indexes to extract the pixels of the ten images from the matrix of pixels and plot them with the imshow() function\n"
   ]
  },
  {
   "cell_type": "markdown",
   "metadata": {},
   "source": [
    "## Import libraries"
   ]
  },
  {
   "cell_type": "code",
   "execution_count": 1,
   "metadata": {},
   "outputs": [],
   "source": [
    "import numpy as np\n",
    "import pandas as pd\n",
    "import seaborn as sns\n",
    "from sklearn.preprocessing import StandardScaler\n",
    "from sklearn.neighbors import KNeighborsClassifier\n",
    "from sklearn.neighbors import NearestNeighbors\n",
    "from sklearn.pipeline import Pipeline\n",
    "from sklearn.model_selection import train_test_split\n",
    "from sklearn.dummy import DummyClassifier\n",
    "from sklearn.neighbors import KNeighborsClassifier\n",
    "from sklearn.neighbors import NearestNeighbors\n",
    "%matplotlib inline\n",
    "import matplotlib.pyplot as plt\n",
    "from PIL import Image\n",
    "from sklearn.preprocessing import StandardScaler\n",
    "import pickle\n",
    "from sklearn.model_selection import train_test_split\n",
    "from sklearn.pipeline import Pipeline\n",
    "from sklearn.model_selection import ParameterGrid\n",
    "\n",
    "from sklearn import datasets\n",
    "from sklearn.linear_model import LogisticRegression\n",
    "\n",
    "from sklearn.model_selection import KFold\n",
    "from sklearn.model_selection import cross_validate\n",
    "from sklearn.model_selection import ShuffleSplit\n",
    "from sklearn.model_selection import GridSearchCV\n",
    "from sklearn.linear_model import LogisticRegressionCV\n",
    "from sklearn.cluster import KMeans\n",
    "from sklearn.decomposition import PCA\n",
    "\n",
    "from sklearn.metrics import confusion_matrix\n",
    "from sklearn.metrics import roc_auc_score\n",
    "from sklearn.metrics import classification_report\n",
    "from sklearn.metrics import roc_curve\n",
    "\n",
    "import random\n",
    "\n",
    "import warnings\n",
    "warnings.simplefilter(\"ignore\")\n",
    "warnings.filterwarnings(\"ignore\")\n",
    "\n",
    "# Activate Seaborn style\n",
    "sns.set()"
   ]
  },
  {
   "cell_type": "markdown",
   "metadata": {},
   "source": [
    "## Import data"
   ]
  },
  {
   "cell_type": "code",
   "execution_count": 2,
   "metadata": {},
   "outputs": [],
   "source": [
    "# Load the npz file\n",
    "with np.load('Cifar4-train.npz', allow_pickle=False) as cifar_df:\n",
    "    # It's a dictionary-like object\n",
    "    cifar4 = dict(cifar_df.items())"
   ]
  },
  {
   "cell_type": "code",
   "execution_count": 3,
   "metadata": {},
   "outputs": [
    {
     "name": "stdout",
     "output_type": "stream",
     "text": [
      "(5000, 4096) float32\n",
      "(5000, 3072) uint8\n",
      "(5000,) int64\n",
      "(4,) <U8\n"
     ]
    }
   ],
   "source": [
    "X=cifar4['overfeat']\n",
    "Xp=cifar4['pixels']\n",
    "y=cifar4['labels']\n",
    "names=cifar4['names']\n",
    "\n",
    "print(X.shape, X.dtype)\n",
    "print(Xp.shape, Xp.dtype)\n",
    "print(y.shape, y.dtype)\n",
    "print(names.shape, names.dtype)"
   ]
  },
  {
   "cell_type": "markdown",
   "metadata": {},
   "source": [
    "## Create X/y arrays"
   ]
  },
  {
   "cell_type": "code",
   "execution_count": 4,
   "metadata": {},
   "outputs": [
    {
     "name": "stdout",
     "output_type": "stream",
     "text": [
      "Train: (4000, 4096) (4000,)\n",
      "Test: (1000, 4096) (1000,)\n",
      "Train2: (3200, 4096) (3200,)\n",
      "Valid: (800, 4096) (1000,)\n",
      "Train_p: (4000, 3072)\n",
      "test_p: (1000, 3072)\n"
     ]
    }
   ],
   "source": [
    "# Convert the type of the input matrix to float\n",
    "X = X.astype(np.float)\n",
    "Xp=Xp.astype(np.float)\n",
    "\n",
    "# Create train set\n",
    "X_tr_main, X_test, Xp_tr_main, Xp_test, y_tr_main, y_test = train_test_split(X, Xp, y, test_size=1000, random_state=0)\n",
    "\n",
    "# Create validation and test sets\n",
    "X_tr_2nd, X_valid, Xp_tr_2nd, Xp_valid ,y_tr_2nd, y_valid = train_test_split(\n",
    "    X_tr_main, Xp_tr_main, y_tr_main, test_size=800, random_state=0)\n",
    "\n",
    "print('Train:', X_tr_main.shape, y_tr_main.shape)\n",
    "print('Test:', X_test.shape, y_test.shape)\n",
    "print('Train2:', X_tr_2nd.shape, y_tr_2nd.shape)\n",
    "print('Valid:', X_valid.shape, y_test.shape)\n",
    "print('Train_p:', Xp_tr_main.shape)\n",
    "print('test_p:',Xp_test.shape)"
   ]
  },
  {
   "cell_type": "code",
   "execution_count": 5,
   "metadata": {},
   "outputs": [
    {
     "data": {
      "text/plain": [
       "1    0.25575\n",
       "2    0.25075\n",
       "3    0.24800\n",
       "0    0.24550\n",
       "dtype: float64"
      ]
     },
     "execution_count": 5,
     "metadata": {},
     "output_type": "execute_result"
    }
   ],
   "source": [
    "# Image distribution y_tr\n",
    "pd.value_counts(y_tr_main, normalize=True)"
   ]
  },
  {
   "cell_type": "code",
   "execution_count": 6,
   "metadata": {},
   "outputs": [
    {
     "data": {
      "text/plain": [
       "0    0.268\n",
       "3    0.258\n",
       "2    0.247\n",
       "1    0.227\n",
       "dtype: float64"
      ]
     },
     "execution_count": 6,
     "metadata": {},
     "output_type": "execute_result"
    }
   ],
   "source": [
    "# Image distribution y_te\n",
    "pd.value_counts(y_test, normalize=True)"
   ]
  },
  {
   "cell_type": "code",
   "execution_count": 7,
   "metadata": {},
   "outputs": [
    {
     "data": {
      "text/plain": [
       "1    0.259688\n",
       "3    0.250625\n",
       "2    0.247500\n",
       "0    0.242188\n",
       "dtype: float64"
      ]
     },
     "execution_count": 7,
     "metadata": {},
     "output_type": "execute_result"
    }
   ],
   "source": [
    "# Image distribution y_te\n",
    "pd.value_counts(y_tr_2nd, normalize=True)"
   ]
  },
  {
   "cell_type": "code",
   "execution_count": 8,
   "metadata": {},
   "outputs": [
    {
     "data": {
      "text/plain": [
       "2    0.26375\n",
       "0    0.25875\n",
       "1    0.24000\n",
       "3    0.23750\n",
       "dtype: float64"
      ]
     },
     "execution_count": 8,
     "metadata": {},
     "output_type": "execute_result"
    }
   ],
   "source": [
    "# Image distribution y_te\n",
    "pd.value_counts(y_valid, normalize=True)"
   ]
  },
  {
   "cell_type": "markdown",
   "metadata": {},
   "source": [
    "* Distribution of images is balanced across train/test samples (As Scikit Learn default stratify parameter uses class labels)"
   ]
  },
  {
   "cell_type": "markdown",
   "metadata": {},
   "source": [
    "## Create a pipeline for performing the K-NN\n",
    "* Data exploration part shows that 90% of the variance (applying PCA) could be explained with 175 components"
   ]
  },
  {
   "cell_type": "markdown",
   "metadata": {},
   "source": [
    "### Create K-NN classifier pipeline"
   ]
  },
  {
   "cell_type": "code",
   "execution_count": 9,
   "metadata": {},
   "outputs": [],
   "source": [
    "# Create k-NN classifier\n",
    "pipe = Pipeline([\n",
    "    ('scaler', StandardScaler()), # with standardization\n",
    "    ('PCA', PCA(n_components=175)), # 175 components to explain 90% of the variance (ref. Data Exploration section)\n",
    "    ('knn', KNeighborsClassifier(\n",
    "        algorithm='brute', # Brute-force search\n",
    "        n_jobs=-1, # As many parallel jobs as possible\n",
    "    ))\n",
    "])"
   ]
  },
  {
   "cell_type": "markdown",
   "metadata": {},
   "source": [
    "### Define key parameters for the K-NN"
   ]
  },
  {
   "cell_type": "code",
   "execution_count": 10,
   "metadata": {},
   "outputs": [
    {
     "name": "stdout",
     "output_type": "stream",
     "text": [
      "Number of combinations: 32\n"
     ]
    }
   ],
   "source": [
    "# Grid of parameters\n",
    "grid = ParameterGrid({\n",
    "    'knn__n_neighbors': [5, 10, 15, 20, 25, 30, 35, 40], # k\n",
    "    'knn__weights': ['uniform', 'distance'], # Weighting function\n",
    "    'knn__p': [1, 2], # L1 and L2 distance metrics\n",
    "})\n",
    "\n",
    "# Print the number of combinations\n",
    "print('Number of combinations:', len(grid))"
   ]
  },
  {
   "cell_type": "markdown",
   "metadata": {},
   "source": [
    "### Run the K-NN model on sub-train data set (3200 data points) and test accuracy on the validation data set (800 data points)"
   ]
  },
  {
   "cell_type": "code",
   "execution_count": 11,
   "metadata": {},
   "outputs": [
    {
     "name": "stdout",
     "output_type": "stream",
     "text": [
      "Combination 1/32\n",
      "Combination 2/32\n",
      "Combination 3/32\n",
      "Combination 4/32\n",
      "Combination 5/32\n",
      "Combination 6/32\n",
      "Combination 7/32\n",
      "Combination 8/32\n",
      "Combination 9/32\n",
      "Combination 10/32\n",
      "Combination 11/32\n",
      "Combination 12/32\n",
      "Combination 13/32\n",
      "Combination 14/32\n",
      "Combination 15/32\n",
      "Combination 16/32\n",
      "Combination 17/32\n",
      "Combination 18/32\n",
      "Combination 19/32\n",
      "Combination 20/32\n",
      "Combination 21/32\n",
      "Combination 22/32\n",
      "Combination 23/32\n",
      "Combination 24/32\n",
      "Combination 25/32\n",
      "Combination 26/32\n",
      "Combination 27/32\n",
      "Combination 28/32\n",
      "Combination 29/32\n",
      "Combination 30/32\n",
      "Combination 31/32\n",
      "Combination 32/32\n",
      "done\n"
     ]
    }
   ],
   "source": [
    "# Save accuracy on test set\n",
    "valid_scores = []\n",
    "\n",
    "# Enumerate combinations starting from 1\n",
    "for i, params_dict in enumerate(grid, 1):\n",
    "    # Print progress\n",
    "    print('Combination {}/{}'.format(\n",
    "        i, len(grid) # Total number of combinations\n",
    "    ))\n",
    "    \n",
    "    # Set parameters\n",
    "    pipe.set_params(**params_dict)\n",
    "\n",
    "    # Fit a k-NN classifier\n",
    "    pipe.fit(X_tr_2nd, y_tr_2nd) # Train2 3200 data points\n",
    "\n",
    "    # Save accuracy on validation set\n",
    "    params_dict['accuracy'] = pipe.score(X_valid, y_valid)\n",
    "\n",
    "    # Save result\n",
    "    valid_scores.append(params_dict)\n",
    "\n",
    "print('done')"
   ]
  },
  {
   "cell_type": "markdown",
   "metadata": {},
   "source": [
    "### Print the results of the best model parameters based on level of accuracy"
   ]
  },
  {
   "cell_type": "code",
   "execution_count": 12,
   "metadata": {},
   "outputs": [
    {
     "data": {
      "text/html": [
       "<div>\n",
       "<style scoped>\n",
       "    .dataframe tbody tr th:only-of-type {\n",
       "        vertical-align: middle;\n",
       "    }\n",
       "\n",
       "    .dataframe tbody tr th {\n",
       "        vertical-align: top;\n",
       "    }\n",
       "\n",
       "    .dataframe thead th {\n",
       "        text-align: right;\n",
       "    }\n",
       "</style>\n",
       "<table border=\"1\" class=\"dataframe\">\n",
       "  <thead>\n",
       "    <tr style=\"text-align: right;\">\n",
       "      <th></th>\n",
       "      <th>knn__n_neighbors</th>\n",
       "      <th>knn__p</th>\n",
       "      <th>knn__weights</th>\n",
       "      <th>accuracy</th>\n",
       "    </tr>\n",
       "  </thead>\n",
       "  <tbody>\n",
       "    <tr>\n",
       "      <th>19</th>\n",
       "      <td>25</td>\n",
       "      <td>2</td>\n",
       "      <td>distance</td>\n",
       "      <td>0.79750</td>\n",
       "    </tr>\n",
       "    <tr>\n",
       "      <th>18</th>\n",
       "      <td>25</td>\n",
       "      <td>2</td>\n",
       "      <td>uniform</td>\n",
       "      <td>0.79125</td>\n",
       "    </tr>\n",
       "    <tr>\n",
       "      <th>15</th>\n",
       "      <td>20</td>\n",
       "      <td>2</td>\n",
       "      <td>distance</td>\n",
       "      <td>0.79000</td>\n",
       "    </tr>\n",
       "    <tr>\n",
       "      <th>25</th>\n",
       "      <td>35</td>\n",
       "      <td>1</td>\n",
       "      <td>distance</td>\n",
       "      <td>0.78625</td>\n",
       "    </tr>\n",
       "    <tr>\n",
       "      <th>14</th>\n",
       "      <td>20</td>\n",
       "      <td>2</td>\n",
       "      <td>uniform</td>\n",
       "      <td>0.78500</td>\n",
       "    </tr>\n",
       "    <tr>\n",
       "      <th>13</th>\n",
       "      <td>20</td>\n",
       "      <td>1</td>\n",
       "      <td>distance</td>\n",
       "      <td>0.78375</td>\n",
       "    </tr>\n",
       "    <tr>\n",
       "      <th>27</th>\n",
       "      <td>35</td>\n",
       "      <td>2</td>\n",
       "      <td>distance</td>\n",
       "      <td>0.78250</td>\n",
       "    </tr>\n",
       "    <tr>\n",
       "      <th>16</th>\n",
       "      <td>25</td>\n",
       "      <td>1</td>\n",
       "      <td>uniform</td>\n",
       "      <td>0.78125</td>\n",
       "    </tr>\n",
       "    <tr>\n",
       "      <th>23</th>\n",
       "      <td>30</td>\n",
       "      <td>2</td>\n",
       "      <td>distance</td>\n",
       "      <td>0.78125</td>\n",
       "    </tr>\n",
       "    <tr>\n",
       "      <th>22</th>\n",
       "      <td>30</td>\n",
       "      <td>2</td>\n",
       "      <td>uniform</td>\n",
       "      <td>0.78125</td>\n",
       "    </tr>\n",
       "    <tr>\n",
       "      <th>21</th>\n",
       "      <td>30</td>\n",
       "      <td>1</td>\n",
       "      <td>distance</td>\n",
       "      <td>0.78000</td>\n",
       "    </tr>\n",
       "    <tr>\n",
       "      <th>7</th>\n",
       "      <td>10</td>\n",
       "      <td>2</td>\n",
       "      <td>distance</td>\n",
       "      <td>0.78000</td>\n",
       "    </tr>\n",
       "    <tr>\n",
       "      <th>12</th>\n",
       "      <td>20</td>\n",
       "      <td>1</td>\n",
       "      <td>uniform</td>\n",
       "      <td>0.78000</td>\n",
       "    </tr>\n",
       "    <tr>\n",
       "      <th>31</th>\n",
       "      <td>40</td>\n",
       "      <td>2</td>\n",
       "      <td>distance</td>\n",
       "      <td>0.77875</td>\n",
       "    </tr>\n",
       "    <tr>\n",
       "      <th>11</th>\n",
       "      <td>15</td>\n",
       "      <td>2</td>\n",
       "      <td>distance</td>\n",
       "      <td>0.77875</td>\n",
       "    </tr>\n",
       "    <tr>\n",
       "      <th>10</th>\n",
       "      <td>15</td>\n",
       "      <td>2</td>\n",
       "      <td>uniform</td>\n",
       "      <td>0.77875</td>\n",
       "    </tr>\n",
       "    <tr>\n",
       "      <th>30</th>\n",
       "      <td>40</td>\n",
       "      <td>2</td>\n",
       "      <td>uniform</td>\n",
       "      <td>0.77750</td>\n",
       "    </tr>\n",
       "    <tr>\n",
       "      <th>20</th>\n",
       "      <td>30</td>\n",
       "      <td>1</td>\n",
       "      <td>uniform</td>\n",
       "      <td>0.77625</td>\n",
       "    </tr>\n",
       "    <tr>\n",
       "      <th>26</th>\n",
       "      <td>35</td>\n",
       "      <td>2</td>\n",
       "      <td>uniform</td>\n",
       "      <td>0.77500</td>\n",
       "    </tr>\n",
       "    <tr>\n",
       "      <th>24</th>\n",
       "      <td>35</td>\n",
       "      <td>1</td>\n",
       "      <td>uniform</td>\n",
       "      <td>0.77375</td>\n",
       "    </tr>\n",
       "    <tr>\n",
       "      <th>29</th>\n",
       "      <td>40</td>\n",
       "      <td>1</td>\n",
       "      <td>distance</td>\n",
       "      <td>0.77375</td>\n",
       "    </tr>\n",
       "    <tr>\n",
       "      <th>28</th>\n",
       "      <td>40</td>\n",
       "      <td>1</td>\n",
       "      <td>uniform</td>\n",
       "      <td>0.77125</td>\n",
       "    </tr>\n",
       "    <tr>\n",
       "      <th>17</th>\n",
       "      <td>25</td>\n",
       "      <td>1</td>\n",
       "      <td>distance</td>\n",
       "      <td>0.77125</td>\n",
       "    </tr>\n",
       "    <tr>\n",
       "      <th>9</th>\n",
       "      <td>15</td>\n",
       "      <td>1</td>\n",
       "      <td>distance</td>\n",
       "      <td>0.76750</td>\n",
       "    </tr>\n",
       "    <tr>\n",
       "      <th>6</th>\n",
       "      <td>10</td>\n",
       "      <td>2</td>\n",
       "      <td>uniform</td>\n",
       "      <td>0.76625</td>\n",
       "    </tr>\n",
       "    <tr>\n",
       "      <th>8</th>\n",
       "      <td>15</td>\n",
       "      <td>1</td>\n",
       "      <td>uniform</td>\n",
       "      <td>0.76250</td>\n",
       "    </tr>\n",
       "    <tr>\n",
       "      <th>5</th>\n",
       "      <td>10</td>\n",
       "      <td>1</td>\n",
       "      <td>distance</td>\n",
       "      <td>0.76125</td>\n",
       "    </tr>\n",
       "    <tr>\n",
       "      <th>4</th>\n",
       "      <td>10</td>\n",
       "      <td>1</td>\n",
       "      <td>uniform</td>\n",
       "      <td>0.75625</td>\n",
       "    </tr>\n",
       "    <tr>\n",
       "      <th>2</th>\n",
       "      <td>5</td>\n",
       "      <td>2</td>\n",
       "      <td>uniform</td>\n",
       "      <td>0.75625</td>\n",
       "    </tr>\n",
       "    <tr>\n",
       "      <th>3</th>\n",
       "      <td>5</td>\n",
       "      <td>2</td>\n",
       "      <td>distance</td>\n",
       "      <td>0.74875</td>\n",
       "    </tr>\n",
       "    <tr>\n",
       "      <th>0</th>\n",
       "      <td>5</td>\n",
       "      <td>1</td>\n",
       "      <td>uniform</td>\n",
       "      <td>0.73500</td>\n",
       "    </tr>\n",
       "    <tr>\n",
       "      <th>1</th>\n",
       "      <td>5</td>\n",
       "      <td>1</td>\n",
       "      <td>distance</td>\n",
       "      <td>0.73250</td>\n",
       "    </tr>\n",
       "  </tbody>\n",
       "</table>\n",
       "</div>"
      ],
      "text/plain": [
       "    knn__n_neighbors  knn__p knn__weights  accuracy\n",
       "19                25       2     distance   0.79750\n",
       "18                25       2      uniform   0.79125\n",
       "15                20       2     distance   0.79000\n",
       "25                35       1     distance   0.78625\n",
       "14                20       2      uniform   0.78500\n",
       "13                20       1     distance   0.78375\n",
       "27                35       2     distance   0.78250\n",
       "16                25       1      uniform   0.78125\n",
       "23                30       2     distance   0.78125\n",
       "22                30       2      uniform   0.78125\n",
       "21                30       1     distance   0.78000\n",
       "7                 10       2     distance   0.78000\n",
       "12                20       1      uniform   0.78000\n",
       "31                40       2     distance   0.77875\n",
       "11                15       2     distance   0.77875\n",
       "10                15       2      uniform   0.77875\n",
       "30                40       2      uniform   0.77750\n",
       "20                30       1      uniform   0.77625\n",
       "26                35       2      uniform   0.77500\n",
       "24                35       1      uniform   0.77375\n",
       "29                40       1     distance   0.77375\n",
       "28                40       1      uniform   0.77125\n",
       "17                25       1     distance   0.77125\n",
       "9                 15       1     distance   0.76750\n",
       "6                 10       2      uniform   0.76625\n",
       "8                 15       1      uniform   0.76250\n",
       "5                 10       1     distance   0.76125\n",
       "4                 10       1      uniform   0.75625\n",
       "2                  5       2      uniform   0.75625\n",
       "3                  5       2     distance   0.74875\n",
       "0                  5       1      uniform   0.73500\n",
       "1                  5       1     distance   0.73250"
      ]
     },
     "execution_count": 12,
     "metadata": {},
     "output_type": "execute_result"
    }
   ],
   "source": [
    "# Create DataFrame with test scores\n",
    "scores_df = pd.DataFrame(valid_scores)\n",
    "\n",
    "# Print scores\n",
    "scores_df.sort_values(by='accuracy', ascending=False)"
   ]
  },
  {
   "cell_type": "markdown",
   "metadata": {},
   "source": [
    "### Print the best estimator parameters"
   ]
  },
  {
   "cell_type": "code",
   "execution_count": 13,
   "metadata": {},
   "outputs": [
    {
     "name": "stdout",
     "output_type": "stream",
     "text": [
      "Top validation accuracy on set 19\n",
      "Accuracy on validation set: 0.797\n",
      "n_neighbors: 25\n",
      "Distance metrix: 2\n",
      "Weight function: distance\n"
     ]
    }
   ],
   "source": [
    "# Find best combination\n",
    "idx = np.argmax(scores_df['accuracy'])\n",
    "print('Top validation accuracy on set {:}'.format(idx))\n",
    "\n",
    "print('Accuracy on validation set: {:.3f}'.format(\n",
    "     scores_df.accuracy[idx]\n",
    "     ))\n",
    "\n",
    "# Print n neighbors\n",
    "print('n_neighbors: {:}'.format(\n",
    "    scores_df.knn__n_neighbors[idx], \n",
    "))\n",
    "\n",
    "# Print distance metric\n",
    "print('Distance metrix: {:}'.format(\n",
    "    scores_df.knn__p[idx], \n",
    "))\n",
    "\n",
    "# Print weight function\n",
    "print('Weight function: {:}'.format(\n",
    "    scores_df.knn__weights[idx], \n",
    "))\n"
   ]
  },
  {
   "cell_type": "markdown",
   "metadata": {},
   "source": [
    "### Run the Best K-NN model on the full train data set (4000 data points) and test its accuracy on the test data set (1000 data points)\n",
    "* **Best Model (Accuracy = 0.791): n_neighbors 25, L2 distance metrics and uniform weight function**"
   ]
  },
  {
   "cell_type": "markdown",
   "metadata": {},
   "source": [
    "#### Create the K-NN classifier with Best results"
   ]
  },
  {
   "cell_type": "code",
   "execution_count": 14,
   "metadata": {},
   "outputs": [],
   "source": [
    "# Create k-NN classifier\n",
    "pipe2 = Pipeline([\n",
    "    ('scaler', StandardScaler()), # with standardization\n",
    "    ('PCA', PCA(n_components=175)), # 175 components to explain 90% of the variance (ref. Data Exploration section)\n",
    "    ('knn', KNeighborsClassifier(\n",
    "        n_neighbors=25,\n",
    "        weights='distance',\n",
    "        p=2,\n",
    "        leaf_size=30,\n",
    "        algorithm='brute', # Brute-force search\n",
    "        n_jobs=-1 # As many parallel jobs as possible\n",
    "    ))\n",
    "])"
   ]
  },
  {
   "cell_type": "code",
   "execution_count": 15,
   "metadata": {},
   "outputs": [
    {
     "name": "stdout",
     "output_type": "stream",
     "text": [
      "[{'knn__n_neighbors': 40, 'knn__p': 2, 'knn__weights': 'distance', 'accuracy': 0.781}]\n"
     ]
    }
   ],
   "source": [
    "# Save accuracy on test set\n",
    "test_scores1 = []\n",
    "\n",
    "# Fit a k-NN classifier\n",
    "pipe2.fit(X_tr_main, y_tr_main) # Train2 3800 data points\n",
    "\n",
    "# Save accuracy on test set\n",
    "params_dict['accuracy'] = pipe2.score(X_test, y_test)\n",
    "\n",
    "# Save result\n",
    "test_scores1.append(params_dict)\n",
    "\n",
    "print(test_scores1)"
   ]
  },
  {
   "cell_type": "markdown",
   "metadata": {},
   "source": [
    "#### **Accuracy of the baseline model (K-NN) = 0.785**"
   ]
  },
  {
   "cell_type": "markdown",
   "metadata": {},
   "source": [
    "### Save the results of the Baseline"
   ]
  },
  {
   "cell_type": "code",
   "execution_count": 16,
   "metadata": {},
   "outputs": [
    {
     "name": "stdout",
     "output_type": "stream",
     "text": [
      "Stored 'Baseline_K_NN' (float)\n"
     ]
    }
   ],
   "source": [
    "Baseline_K_NN=0.785\n",
    "%store Baseline_K_NN"
   ]
  },
  {
   "cell_type": "markdown",
   "metadata": {},
   "source": [
    "## Choose an image from the test set and plot its 10 nearest neighbors\n",
    "* Extract the PCA transformer and the  KNeighborsClassifier estimator from your pipeline\n",
    "* Apply PCA to your test image and pass the result to the kneighbors(X, n_neighbors) function of your k-NN estimator\n",
    "* Use the indexes to extract the pixels of the ten images from the matrix of pixels and plot them with the imshow() function"
   ]
  },
  {
   "cell_type": "markdown",
   "metadata": {},
   "source": [
    "#### Select an image from the test set"
   ]
  },
  {
   "cell_type": "code",
   "execution_count": 17,
   "metadata": {},
   "outputs": [],
   "source": [
    "# Select an image from the Overfeat and Pixels Test data set\n",
    "img1_over=X_test[50, :] # 51th row from Overfeat\n",
    "flat_img1_pix=Xp_test[50, :] # 51th row from Pixels"
   ]
  },
  {
   "cell_type": "code",
   "execution_count": 18,
   "metadata": {},
   "outputs": [
    {
     "data": {
      "text/plain": [
       "(4096,)"
      ]
     },
     "execution_count": 18,
     "metadata": {},
     "output_type": "execute_result"
    }
   ],
   "source": [
    "img1_over.shape"
   ]
  },
  {
   "cell_type": "code",
   "execution_count": 19,
   "metadata": {},
   "outputs": [],
   "source": [
    "# Reshape the image\n",
    "img1_re=img1_over.reshape(1,-1)"
   ]
  },
  {
   "cell_type": "code",
   "execution_count": 20,
   "metadata": {},
   "outputs": [
    {
     "data": {
      "text/plain": [
       "(1, 4096)"
      ]
     },
     "execution_count": 20,
     "metadata": {},
     "output_type": "execute_result"
    }
   ],
   "source": [
    "img1_re.shape"
   ]
  },
  {
   "cell_type": "markdown",
   "metadata": {},
   "source": [
    "### Visualize the selected image"
   ]
  },
  {
   "cell_type": "code",
   "execution_count": 21,
   "metadata": {},
   "outputs": [
    {
     "data": {
      "image/png": "[encoded data removed]",
      "text/plain": [
       "<Figure size 432x288 with 1 Axes>"
      ]
     },
     "metadata": {
      "needs_background": "light"
     },
     "output_type": "display_data"
    }
   ],
   "source": [
    "# Print the image from Test Pixels\n",
    "\n",
    "# Reshape the image\n",
    "img1_pix = flat_img1_pix.reshape(32, 32, 3)\n",
    "\n",
    "# Plot the rescaled image\n",
    "plt.imshow(img1_pix/255)\n",
    "plt.axis('off')\n",
    "plt.show()"
   ]
  },
  {
   "cell_type": "markdown",
   "metadata": {},
   "source": [
    "#### Apply Best estimator parameters to the selected image"
   ]
  },
  {
   "cell_type": "code",
   "execution_count": 22,
   "metadata": {},
   "outputs": [],
   "source": [
    "# Rescale overfeatures of test set image\n",
    "scaler3 = pipe2.named_steps['scaler'] \n",
    "img1_over_resc = scaler3.transform(img1_re)"
   ]
  },
  {
   "cell_type": "code",
   "execution_count": 23,
   "metadata": {},
   "outputs": [],
   "source": [
    "# apply PCA:\n",
    "pca3 = pipe2.named_steps['PCA'] \n",
    "img1_over_pca = pca3.transform(img1_over_resc)"
   ]
  },
  {
   "cell_type": "code",
   "execution_count": 24,
   "metadata": {},
   "outputs": [],
   "source": [
    "# Get KNN trained model:\n",
    "knn3 = pipe2.named_steps['knn']"
   ]
  },
  {
   "cell_type": "code",
   "execution_count": 25,
   "metadata": {},
   "outputs": [],
   "source": [
    "# Get the 10 neighbors parameters\n",
    "ten_neighb_dist, ten_neighb_idx= knn3.kneighbors(img1_over_pca, 10, return_distance=True)"
   ]
  },
  {
   "cell_type": "code",
   "execution_count": 26,
   "metadata": {},
   "outputs": [
    {
     "data": {
      "text/plain": [
       "array([[58.41668456, 64.58561598, 66.54093342, 66.79281354, 66.85458539,\n",
       "        67.227499  , 67.71266505, 67.87884716, 67.89264886, 68.17599445]])"
      ]
     },
     "execution_count": 26,
     "metadata": {},
     "output_type": "execute_result"
    }
   ],
   "source": [
    "ten_neighb_dist"
   ]
  },
  {
   "cell_type": "code",
   "execution_count": 27,
   "metadata": {},
   "outputs": [
    {
     "data": {
      "text/plain": [
       "array([[1477, 1324, 1782, 1381, 2486, 2295,  350, 3067, 2313,  757]],\n",
       "      dtype=int64)"
      ]
     },
     "execution_count": 27,
     "metadata": {},
     "output_type": "execute_result"
    }
   ],
   "source": [
    "ten_neighb_idx"
   ]
  },
  {
   "cell_type": "markdown",
   "metadata": {},
   "source": [
    "#### Check parameters consistency with selected estimators"
   ]
  },
  {
   "cell_type": "code",
   "execution_count": 28,
   "metadata": {},
   "outputs": [
    {
     "data": {
      "text/plain": [
       "{'algorithm': 'brute',\n",
       " 'leaf_size': 30,\n",
       " 'metric': 'minkowski',\n",
       " 'metric_params': None,\n",
       " 'n_jobs': -1,\n",
       " 'n_neighbors': 25,\n",
       " 'p': 2,\n",
       " 'weights': 'distance'}"
      ]
     },
     "execution_count": 28,
     "metadata": {},
     "output_type": "execute_result"
    }
   ],
   "source": [
    "knn3.get_params()"
   ]
  },
  {
   "cell_type": "markdown",
   "metadata": {},
   "source": [
    "#### Vissualize one of the image"
   ]
  },
  {
   "cell_type": "code",
   "execution_count": 29,
   "metadata": {},
   "outputs": [
    {
     "data": {
      "image/png": "[encoded data removed]",
      "text/plain": [
       "<Figure size 432x288 with 1 Axes>"
      ]
     },
     "metadata": {
      "needs_background": "light"
     },
     "output_type": "display_data"
    }
   ],
   "source": [
    "pix1=Xp_test[350,:]\n",
    "\n",
    "# Reshape the image\n",
    "pixn = pix1.reshape(32, 32, 3)\n",
    "\n",
    "# Plot the rescaled image\n",
    "plt.imshow(pixn/255)\n",
    "plt.axis('off')\n",
    "plt.show()"
   ]
  },
  {
   "cell_type": "code",
   "execution_count": null,
   "metadata": {},
   "outputs": [],
   "source": []
  },
  {
   "cell_type": "code",
   "execution_count": null,
   "metadata": {},
   "outputs": [],
   "source": []
  },
  {
   "cell_type": "code",
   "execution_count": null,
   "metadata": {},
   "outputs": [],
   "source": []
  }
 ],
 "metadata": {
  "kernelspec": {
   "display_name": "Python 3",
   "language": "python",
   "name": "python3"
  },
  "language_info": {
   "codemirror_mode": {
    "name": "ipython",
    "version": 3
   },
   "file_extension": ".py",
   "mimetype": "text/x-python",
   "name": "python",
   "nbconvert_exporter": "python",
   "pygments_lexer": "ipython3",
   "version": "3.6.9"
  }
 },
 "nbformat": 4,
 "nbformat_minor": 4
}
