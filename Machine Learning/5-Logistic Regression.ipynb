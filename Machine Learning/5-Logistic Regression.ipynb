{
 "cells": [
  {
   "cell_type": "markdown",
   "metadata": {},
   "source": [
    "# Logistic Regression"
   ]
  },
  {
   "cell_type": "markdown",
   "metadata": {},
   "source": [
    "## Import libraries"
   ]
  },
  {
   "cell_type": "code",
   "execution_count": 1,
   "metadata": {
    "collapsed": true,
    "jupyter": {
     "outputs_hidden": true
    }
   },
   "outputs": [
    {
     "name": "stderr",
     "output_type": "stream",
     "text": [
      "C:\\Users\\fbaff\\AppData\\Roaming\\Python\\Python36\\site-packages\\tensorflow\\python\\framework\\dtypes.py:458: FutureWarning: Passing (type, 1) or '1type' as a synonym of type is deprecated; in a future version of numpy, it will be understood as (type, (1,)) / '(1,)type'.\n",
      "  _np_qint8 = np.dtype([(\"qint8\", np.int8, 1)])\n",
      "C:\\Users\\fbaff\\AppData\\Roaming\\Python\\Python36\\site-packages\\tensorflow\\python\\framework\\dtypes.py:459: FutureWarning: Passing (type, 1) or '1type' as a synonym of type is deprecated; in a future version of numpy, it will be understood as (type, (1,)) / '(1,)type'.\n",
      "  _np_quint8 = np.dtype([(\"quint8\", np.uint8, 1)])\n",
      "C:\\Users\\fbaff\\AppData\\Roaming\\Python\\Python36\\site-packages\\tensorflow\\python\\framework\\dtypes.py:460: FutureWarning: Passing (type, 1) or '1type' as a synonym of type is deprecated; in a future version of numpy, it will be understood as (type, (1,)) / '(1,)type'.\n",
      "  _np_qint16 = np.dtype([(\"qint16\", np.int16, 1)])\n",
      "C:\\Users\\fbaff\\AppData\\Roaming\\Python\\Python36\\site-packages\\tensorflow\\python\\framework\\dtypes.py:461: FutureWarning: Passing (type, 1) or '1type' as a synonym of type is deprecated; in a future version of numpy, it will be understood as (type, (1,)) / '(1,)type'.\n",
      "  _np_quint16 = np.dtype([(\"quint16\", np.uint16, 1)])\n",
      "C:\\Users\\fbaff\\AppData\\Roaming\\Python\\Python36\\site-packages\\tensorflow\\python\\framework\\dtypes.py:462: FutureWarning: Passing (type, 1) or '1type' as a synonym of type is deprecated; in a future version of numpy, it will be understood as (type, (1,)) / '(1,)type'.\n",
      "  _np_qint32 = np.dtype([(\"qint32\", np.int32, 1)])\n",
      "C:\\Users\\fbaff\\AppData\\Roaming\\Python\\Python36\\site-packages\\tensorflow\\python\\framework\\dtypes.py:465: FutureWarning: Passing (type, 1) or '1type' as a synonym of type is deprecated; in a future version of numpy, it will be understood as (type, (1,)) / '(1,)type'.\n",
      "  np_resource = np.dtype([(\"resource\", np.ubyte, 1)])\n"
     ]
    }
   ],
   "source": [
    "import numpy as np\n",
    "import pandas as pd\n",
    "import seaborn as sns\n",
    "from sklearn.preprocessing import StandardScaler\n",
    "from sklearn.neighbors import KNeighborsClassifier\n",
    "from sklearn.neighbors import NearestNeighbors\n",
    "from sklearn.pipeline import Pipeline\n",
    "from sklearn.model_selection import train_test_split\n",
    "from sklearn.dummy import DummyClassifier\n",
    "from sklearn.neighbors import KNeighborsClassifier\n",
    "%matplotlib inline\n",
    "import matplotlib.pyplot as plt\n",
    "from PIL import Image\n",
    "from sklearn.preprocessing import StandardScaler\n",
    "import pickle\n",
    "from sklearn.model_selection import train_test_split\n",
    "from sklearn.pipeline import Pipeline\n",
    "from sklearn.model_selection import ParameterGrid\n",
    "\n",
    "from sklearn import datasets\n",
    "from sklearn.linear_model import LogisticRegression\n",
    "from sklearn.linear_model import SGDClassifier\n",
    "\n",
    "from sklearn.model_selection import KFold\n",
    "from sklearn.model_selection import cross_validate\n",
    "from sklearn.model_selection import ShuffleSplit\n",
    "from sklearn.model_selection import GridSearchCV\n",
    "from sklearn.linear_model import LogisticRegressionCV\n",
    "from sklearn.cluster import KMeans\n",
    "from sklearn.decomposition import PCA\n",
    "\n",
    "from sklearn.tree import DecisionTreeClassifier\n",
    "from sklearn.tree import export_graphviz\n",
    "import graphviz\n",
    "from sklearn.datasets import make_circles\n",
    "from sklearn.ensemble import RandomForestClassifier\n",
    "\n",
    "from sklearn.svm import LinearSVC\n",
    "from sklearn.svm import SVC\n",
    "\n",
    "from sklearn.metrics import confusion_matrix\n",
    "from sklearn.metrics import roc_auc_score\n",
    "from sklearn.metrics import classification_report\n",
    "from sklearn.metrics import roc_curve\n",
    "\n",
    "import tensorflow as tf\n",
    "\n",
    "import random\n",
    "from sklearn import ensemble\n",
    "\n",
    "from sklearn.model_selection import StratifiedShuffleSplit\n",
    "\n",
    "import warnings\n",
    "warnings.simplefilter(\"ignore\")\n",
    "\n",
    "# Activate Seaborn style\n",
    "sns.set()"
   ]
  },
  {
   "cell_type": "markdown",
   "metadata": {},
   "source": [
    "## Import data"
   ]
  },
  {
   "cell_type": "code",
   "execution_count": 2,
   "metadata": {},
   "outputs": [],
   "source": [
    "# Load the npz file\n",
    "with np.load('C:/Users/fbaff/EPFL ML Python/4- Machine Learning 2/ML 2 Project/Cifar4-train.npz', allow_pickle=False) as cifar_df:\n",
    "    # It's a dictionary-like object\n",
    "    cifar4 = dict(cifar_df.items())"
   ]
  },
  {
   "cell_type": "code",
   "execution_count": 3,
   "metadata": {},
   "outputs": [
    {
     "name": "stdout",
     "output_type": "stream",
     "text": [
      "(5000, 4096) float32\n",
      "(5000,) int64\n",
      "(4,) <U8\n"
     ]
    }
   ],
   "source": [
    "X=cifar4['overfeat']\n",
    "Xp=cifar4['pixels']\n",
    "y=cifar4['labels']\n",
    "names=cifar4['names']\n",
    "\n",
    "print(X.shape, X.dtype)\n",
    "print(y.shape, y.dtype)\n",
    "print(names.shape, names.dtype)"
   ]
  },
  {
   "cell_type": "markdown",
   "metadata": {},
   "source": [
    "### Split in Train (4000) and Test (1000) data set"
   ]
  },
  {
   "cell_type": "code",
   "execution_count": 4,
   "metadata": {},
   "outputs": [
    {
     "name": "stdout",
     "output_type": "stream",
     "text": [
      "Train: (4000, 4096) (4000,)\n",
      "Test: (1000, 4096) (1000,)\n",
      "Train Pix: (4000, 3072)\n",
      "Test Pix: (1000, 3072)\n"
     ]
    }
   ],
   "source": [
    "# Convert the type of the input matrix to float\n",
    "X = X.astype(np.float)\n",
    "Xp=Xp.astype(np.float)\n",
    "\n",
    "# Create train set\n",
    "X_tr, X_te, Xp_tr, Xp_te, y_tr, y_te = train_test_split(X, Xp, y, test_size=1000, random_state=0)\n",
    "\n",
    "print('Train:', X_tr.shape, y_tr.shape)\n",
    "print('Test:', X_te.shape, y_te.shape)\n",
    "print('Train Pix:', Xp_tr.shape)\n",
    "print('Test Pix:', Xp_te.shape)"
   ]
  },
  {
   "cell_type": "markdown",
   "metadata": {},
   "source": [
    "## Create a Logistic Regression pipeline"
   ]
  },
  {
   "cell_type": "code",
   "execution_count": 5,
   "metadata": {},
   "outputs": [],
   "source": [
    "# Create SGDClassifier with log loss (i.e Logistic Regression Classifier) pipeline\n",
    "pipe3 = Pipeline([\n",
    "    ('scaler', StandardScaler()), # with standardization StandardScaler()\n",
    "    ('PCA', None), # optional\n",
    "    ('sgd_logreg', SGDClassifier(loss='log', max_iter=1000, tol=1e-3, random_state=0, n_jobs=-1))\n",
    "])"
   ]
  },
  {
   "cell_type": "code",
   "execution_count": 6,
   "metadata": {},
   "outputs": [
    {
     "data": {
      "text/plain": [
       "{'memory': None,\n",
       " 'steps': [('scaler',\n",
       "   StandardScaler(copy=True, with_mean=True, with_std=True)),\n",
       "  ('PCA', None),\n",
       "  ('sgd_logreg', SGDClassifier(alpha=0.0001, average=False, class_weight=None,\n",
       "                 early_stopping=False, epsilon=0.1, eta0=0.0, fit_intercept=True,\n",
       "                 l1_ratio=0.15, learning_rate='optimal', loss='log', max_iter=1000,\n",
       "                 n_iter_no_change=5, n_jobs=-1, penalty='l2', power_t=0.5,\n",
       "                 random_state=0, shuffle=True, tol=0.001, validation_fraction=0.1,\n",
       "                 verbose=0, warm_start=False))],\n",
       " 'verbose': False,\n",
       " 'scaler': StandardScaler(copy=True, with_mean=True, with_std=True),\n",
       " 'PCA': None,\n",
       " 'sgd_logreg': SGDClassifier(alpha=0.0001, average=False, class_weight=None,\n",
       "               early_stopping=False, epsilon=0.1, eta0=0.0, fit_intercept=True,\n",
       "               l1_ratio=0.15, learning_rate='optimal', loss='log', max_iter=1000,\n",
       "               n_iter_no_change=5, n_jobs=-1, penalty='l2', power_t=0.5,\n",
       "               random_state=0, shuffle=True, tol=0.001, validation_fraction=0.1,\n",
       "               verbose=0, warm_start=False),\n",
       " 'scaler__copy': True,\n",
       " 'scaler__with_mean': True,\n",
       " 'scaler__with_std': True,\n",
       " 'sgd_logreg__alpha': 0.0001,\n",
       " 'sgd_logreg__average': False,\n",
       " 'sgd_logreg__class_weight': None,\n",
       " 'sgd_logreg__early_stopping': False,\n",
       " 'sgd_logreg__epsilon': 0.1,\n",
       " 'sgd_logreg__eta0': 0.0,\n",
       " 'sgd_logreg__fit_intercept': True,\n",
       " 'sgd_logreg__l1_ratio': 0.15,\n",
       " 'sgd_logreg__learning_rate': 'optimal',\n",
       " 'sgd_logreg__loss': 'log',\n",
       " 'sgd_logreg__max_iter': 1000,\n",
       " 'sgd_logreg__n_iter_no_change': 5,\n",
       " 'sgd_logreg__n_jobs': -1,\n",
       " 'sgd_logreg__penalty': 'l2',\n",
       " 'sgd_logreg__power_t': 0.5,\n",
       " 'sgd_logreg__random_state': 0,\n",
       " 'sgd_logreg__shuffle': True,\n",
       " 'sgd_logreg__tol': 0.001,\n",
       " 'sgd_logreg__validation_fraction': 0.1,\n",
       " 'sgd_logreg__verbose': 0,\n",
       " 'sgd_logreg__warm_start': False}"
      ]
     },
     "execution_count": 6,
     "metadata": {},
     "output_type": "execute_result"
    }
   ],
   "source": [
    "pipe3.get_params()"
   ]
  },
  {
   "cell_type": "markdown",
   "metadata": {},
   "source": [
    "### Define a cross-validation object with a grid of parameters for the SGDCLassifier with Log loss (Logistic Regression)"
   ]
  },
  {
   "cell_type": "markdown",
   "metadata": {},
   "source": [
    "### Grid search with PCA and without PCA, range of regularization strength"
   ]
  },
  {
   "cell_type": "code",
   "execution_count": 7,
   "metadata": {},
   "outputs": [
    {
     "data": {
      "text/plain": [
       "GridSearchCV(cv=5, error_score='raise-deprecating',\n",
       "             estimator=Pipeline(memory=None,\n",
       "                                steps=[('scaler',\n",
       "                                        StandardScaler(copy=True,\n",
       "                                                       with_mean=True,\n",
       "                                                       with_std=True)),\n",
       "                                       ('PCA', None),\n",
       "                                       ('sgd_logreg',\n",
       "                                        SGDClassifier(alpha=0.0001,\n",
       "                                                      average=False,\n",
       "                                                      class_weight=None,\n",
       "                                                      early_stopping=False,\n",
       "                                                      epsilon=0.1, eta0=0.0,\n",
       "                                                      fit_intercept=True,\n",
       "                                                      l1_ratio=0.15,\n",
       "                                                      learning_rate='optimal',\n",
       "                                                      loss='log',...\n",
       "                                                      warm_start=False))],\n",
       "                                verbose=False),\n",
       "             iid='warn', n_jobs=None,\n",
       "             param_grid=[{'PCA': [PCA(copy=True, iterated_power='auto',\n",
       "                                      n_components=175, random_state=None,\n",
       "                                      svd_solver='auto', tol=0.0,\n",
       "                                      whiten=False)],\n",
       "                          'sgd_logreg__alpha': [0.0001, 0.001, 0.01, 0.1]},\n",
       "                         {'sgd_logreg__alpha': [0.0001, 0.001, 0.01, 0.1]}],\n",
       "             pre_dispatch='2*n_jobs', refit=True, return_train_score=False,\n",
       "             scoring=None, verbose=0)"
      ]
     },
     "execution_count": 7,
     "metadata": {},
     "output_type": "execute_result"
    }
   ],
   "source": [
    "# Create cross-validation object\n",
    "grid_sgd_logreg = GridSearchCV(pipe3, [{\n",
    "    'PCA':[PCA(175)], # nb of components explaining 95% of the variance\n",
    "    'sgd_logreg__alpha':[0.0001, 0.001,0.01,0.1], # regularization strength\n",
    "}, {\n",
    "    'sgd_logreg__alpha':[0.0001, 0.001,0.01,0.1]}], # regularization strength\n",
    "    cv=5)\n",
    "\n",
    "# Fit estimator\n",
    "grid_sgd_logreg.fit(X_tr, y_tr)"
   ]
  },
  {
   "cell_type": "code",
   "execution_count": 8,
   "metadata": {},
   "outputs": [
    {
     "data": {
      "text/plain": [
       "dict_keys(['mean_fit_time', 'std_fit_time', 'mean_score_time', 'std_score_time', 'param_PCA', 'param_sgd_logreg__alpha', 'params', 'split0_test_score', 'split1_test_score', 'split2_test_score', 'split3_test_score', 'split4_test_score', 'mean_test_score', 'std_test_score', 'rank_test_score'])"
      ]
     },
     "execution_count": 8,
     "metadata": {},
     "output_type": "execute_result"
    }
   ],
   "source": [
    "# Get the results with \"cv_results_\"\n",
    "grid_sgd_logreg.cv_results_.keys()"
   ]
  },
  {
   "cell_type": "markdown",
   "metadata": {},
   "source": [
    "### Collect results in a dataframe"
   ]
  },
  {
   "cell_type": "code",
   "execution_count": 10,
   "metadata": {},
   "outputs": [
    {
     "data": {
      "text/html": [
       "<div>\n",
       "<style scoped>\n",
       "    .dataframe tbody tr th:only-of-type {\n",
       "        vertical-align: middle;\n",
       "    }\n",
       "\n",
       "    .dataframe tbody tr th {\n",
       "        vertical-align: top;\n",
       "    }\n",
       "\n",
       "    .dataframe thead th {\n",
       "        text-align: right;\n",
       "    }\n",
       "</style>\n",
       "<table border=\"1\" class=\"dataframe\">\n",
       "  <thead>\n",
       "    <tr style=\"text-align: right;\">\n",
       "      <th></th>\n",
       "      <th>PCA</th>\n",
       "      <th>alpha</th>\n",
       "      <th>mean_te</th>\n",
       "      <th>std_te_score</th>\n",
       "    </tr>\n",
       "  </thead>\n",
       "  <tbody>\n",
       "    <tr>\n",
       "      <th>7</th>\n",
       "      <td>NaN</td>\n",
       "      <td>0.1</td>\n",
       "      <td>0.83050</td>\n",
       "      <td>0.008500</td>\n",
       "    </tr>\n",
       "    <tr>\n",
       "      <th>2</th>\n",
       "      <td>PCA(copy=True, iterated_power='auto', n_compon...</td>\n",
       "      <td>0.01</td>\n",
       "      <td>0.82525</td>\n",
       "      <td>0.013401</td>\n",
       "    </tr>\n",
       "    <tr>\n",
       "      <th>6</th>\n",
       "      <td>NaN</td>\n",
       "      <td>0.01</td>\n",
       "      <td>0.82500</td>\n",
       "      <td>0.013679</td>\n",
       "    </tr>\n",
       "    <tr>\n",
       "      <th>3</th>\n",
       "      <td>PCA(copy=True, iterated_power='auto', n_compon...</td>\n",
       "      <td>0.1</td>\n",
       "      <td>0.82475</td>\n",
       "      <td>0.005916</td>\n",
       "    </tr>\n",
       "    <tr>\n",
       "      <th>4</th>\n",
       "      <td>NaN</td>\n",
       "      <td>0.0001</td>\n",
       "      <td>0.82475</td>\n",
       "      <td>0.018503</td>\n",
       "    </tr>\n",
       "    <tr>\n",
       "      <th>1</th>\n",
       "      <td>PCA(copy=True, iterated_power='auto', n_compon...</td>\n",
       "      <td>0.001</td>\n",
       "      <td>0.82400</td>\n",
       "      <td>0.010151</td>\n",
       "    </tr>\n",
       "    <tr>\n",
       "      <th>5</th>\n",
       "      <td>NaN</td>\n",
       "      <td>0.001</td>\n",
       "      <td>0.82225</td>\n",
       "      <td>0.016856</td>\n",
       "    </tr>\n",
       "    <tr>\n",
       "      <th>0</th>\n",
       "      <td>PCA(copy=True, iterated_power='auto', n_compon...</td>\n",
       "      <td>0.0001</td>\n",
       "      <td>0.82150</td>\n",
       "      <td>0.009633</td>\n",
       "    </tr>\n",
       "  </tbody>\n",
       "</table>\n",
       "</div>"
      ],
      "text/plain": [
       "                                                 PCA   alpha  mean_te  \\\n",
       "7                                                NaN     0.1  0.83050   \n",
       "2  PCA(copy=True, iterated_power='auto', n_compon...    0.01  0.82525   \n",
       "6                                                NaN    0.01  0.82500   \n",
       "3  PCA(copy=True, iterated_power='auto', n_compon...     0.1  0.82475   \n",
       "4                                                NaN  0.0001  0.82475   \n",
       "1  PCA(copy=True, iterated_power='auto', n_compon...   0.001  0.82400   \n",
       "5                                                NaN   0.001  0.82225   \n",
       "0  PCA(copy=True, iterated_power='auto', n_compon...  0.0001  0.82150   \n",
       "\n",
       "   std_te_score  \n",
       "7      0.008500  \n",
       "2      0.013401  \n",
       "6      0.013679  \n",
       "3      0.005916  \n",
       "4      0.018503  \n",
       "1      0.010151  \n",
       "5      0.016856  \n",
       "0      0.009633  "
      ]
     },
     "execution_count": 10,
     "metadata": {},
     "output_type": "execute_result"
    }
   ],
   "source": [
    "# Collect results in a DataFrame\n",
    "df_sgd_logreg = pd.DataFrame.from_items([\n",
    "    ('PCA', grid_sgd_logreg.cv_results_['param_PCA']),\n",
    "    ('alpha', grid_sgd_logreg.cv_results_['param_sgd_logreg__alpha']),\n",
    "    ('mean_te', grid_sgd_logreg.cv_results_['mean_test_score']),\n",
    "    ('std_te_score', grid_sgd_logreg.cv_results_['std_test_score']),\n",
    "    \n",
    "])\n",
    "df_sgd_logreg.sort_values(by='mean_te', ascending=False)"
   ]
  },
  {
   "cell_type": "markdown",
   "metadata": {},
   "source": [
    "### Find the best combination of parameters"
   ]
  },
  {
   "cell_type": "code",
   "execution_count": 11,
   "metadata": {},
   "outputs": [
    {
     "name": "stdout",
     "output_type": "stream",
     "text": [
      "Top test accuracy on set 7\n",
      "Accuracy on test set 0.831\n",
      "PCA nan\n",
      "Alpha 0.100\n"
     ]
    }
   ],
   "source": [
    "# Find best combination\n",
    "idx = np.argmax(df_sgd_logreg['mean_te'])\n",
    "print('Top test accuracy on set {:}'.format(idx))\n",
    "\n",
    "print('Accuracy on test set {:.3f}'.format(\n",
    "     df_sgd_logreg.mean_te[idx]\n",
    "     ))\n",
    "\n",
    "print('PCA {:.3f}'.format(\n",
    "     df_sgd_logreg.PCA[idx]\n",
    "     ))\n",
    "print('Alpha {:.3f}'.format(\n",
    "     df_sgd_logreg.alpha[idx]\n",
    "     ))\n"
   ]
  },
  {
   "cell_type": "code",
   "execution_count": 12,
   "metadata": {},
   "outputs": [
    {
     "name": "stdout",
     "output_type": "stream",
     "text": [
      "Stored 'SGD_logreg' (float)\n"
     ]
    }
   ],
   "source": [
    "#Save the accuracy of the Best SGD Model\n",
    "SGD_logreg=0.831\n",
    "%store SGD_logreg"
   ]
  },
  {
   "cell_type": "markdown",
   "metadata": {},
   "source": [
    "## Select 10 images from the Test sets (1000), compute probability of each class and plot images"
   ]
  },
  {
   "cell_type": "markdown",
   "metadata": {},
   "source": [
    "### Select 10 images form the test Overfeat data set"
   ]
  },
  {
   "cell_type": "code",
   "execution_count": 13,
   "metadata": {},
   "outputs": [],
   "source": [
    "p0=X_te[50, :]\n",
    "p1=X_te[100, :]\n",
    "p2=X_te[253, :]\n",
    "p3=X_te[452, :]\n",
    "p4=X_te[600, :]\n",
    "p5=X_te[620, :]\n",
    "p6=X_te[750, :]\n",
    "p7=X_te[823, :]\n",
    "p8=X_te[885, :]\n",
    "p9=X_te[999, :]"
   ]
  },
  {
   "cell_type": "markdown",
   "metadata": {},
   "source": [
    "### Create an array with selected images"
   ]
  },
  {
   "cell_type": "code",
   "execution_count": 14,
   "metadata": {},
   "outputs": [
    {
     "data": {
      "text/plain": [
       "(array([ 4.98828125,  0.21936035, -0.06689453, ..., -0.68554688,\n",
       "         2.46289062, -2.16210938]),\n",
       " array([ 3.6796875 , -0.11376953,  1.40820312, ..., -2.64257812,\n",
       "         1.94628906,  0.90478516]),\n",
       " array([ 5.3046875 , -1.26757812,  0.19006348, ..., -1.95800781,\n",
       "        -0.51904297, -2.13671875]),\n",
       " array([ 4.04296875, -0.79833984,  0.15002441, ..., -0.76416016,\n",
       "         0.22436523, -1.03222656]),\n",
       " array([ 5.609375  , -0.62158203,  0.0904541 , ...,  0.05258179,\n",
       "         0.51220703, -2.66015625]),\n",
       " array([ 1.29589844, -1.75      ,  0.08966064, ...,  0.17175293,\n",
       "         1.00390625, -2.16796875]),\n",
       " array([ 1.86621094, -1.00195312,  2.46289062, ..., -1.68945312,\n",
       "         1.85742188, -2.12695312]),\n",
       " array([ 2.98242188, -1.09179688,  0.00716019, ..., -1.59179688,\n",
       "         2.13867188, -1.70507812]),\n",
       " array([ 4.54296875, -1.45019531,  0.55908203, ..., -1.94628906,\n",
       "         0.05508423,  0.03860474]),\n",
       " array([ 2.04492188,  0.48339844,  0.54638672, ...,  0.13928223,\n",
       "        -0.07000732, -1.37304688]))"
      ]
     },
     "execution_count": 14,
     "metadata": {},
     "output_type": "execute_result"
    }
   ],
   "source": [
    "select_p=(p0,p1,p2,p3,p4,p5,p6,p7,p8,p9)\n",
    "select_p"
   ]
  },
  {
   "cell_type": "markdown",
   "metadata": {},
   "source": [
    "### Select Best estimator parameters"
   ]
  },
  {
   "cell_type": "code",
   "execution_count": 15,
   "metadata": {},
   "outputs": [],
   "source": [
    "pipe4 = Pipeline([\n",
    "    ('scaler', StandardScaler()), # with standardization StandardScaler()\n",
    "    ('PCA', None), # optional\n",
    "    ('sgd_logreg', SGDClassifier(alpha=100, loss='log', max_iter=1000, tol=1e-3, random_state=0, n_jobs=-1))\n",
    "])\n",
    "\n",
    "# Fit model on train data set\n",
    "model4=pipe4.fit(X_tr, y_tr)"
   ]
  },
  {
   "cell_type": "markdown",
   "metadata": {},
   "source": [
    "### Compute the prediction probabiliyt for each class for the selected images"
   ]
  },
  {
   "cell_type": "code",
   "execution_count": 16,
   "metadata": {},
   "outputs": [],
   "source": [
    "test=model4.predict_proba(select_p)"
   ]
  },
  {
   "cell_type": "markdown",
   "metadata": {},
   "source": [
    "### Create a dataframe with results"
   ]
  },
  {
   "cell_type": "code",
   "execution_count": 17,
   "metadata": {},
   "outputs": [
    {
     "data": {
      "text/html": [
       "<div>\n",
       "<style scoped>\n",
       "    .dataframe tbody tr th:only-of-type {\n",
       "        vertical-align: middle;\n",
       "    }\n",
       "\n",
       "    .dataframe tbody tr th {\n",
       "        vertical-align: top;\n",
       "    }\n",
       "\n",
       "    .dataframe thead th {\n",
       "        text-align: right;\n",
       "    }\n",
       "</style>\n",
       "<table border=\"1\" class=\"dataframe\">\n",
       "  <thead>\n",
       "    <tr style=\"text-align: right;\">\n",
       "      <th></th>\n",
       "      <th>Truck</th>\n",
       "      <th>Car</th>\n",
       "      <th>Plane</th>\n",
       "      <th>Boat</th>\n",
       "    </tr>\n",
       "  </thead>\n",
       "  <tbody>\n",
       "    <tr>\n",
       "      <th>0</th>\n",
       "      <td>0.2839</td>\n",
       "      <td>0.3182</td>\n",
       "      <td>0.2163</td>\n",
       "      <td>0.1817</td>\n",
       "    </tr>\n",
       "    <tr>\n",
       "      <th>1</th>\n",
       "      <td>0.3616</td>\n",
       "      <td>0.2467</td>\n",
       "      <td>0.1902</td>\n",
       "      <td>0.2014</td>\n",
       "    </tr>\n",
       "    <tr>\n",
       "      <th>2</th>\n",
       "      <td>0.2693</td>\n",
       "      <td>0.1520</td>\n",
       "      <td>0.2935</td>\n",
       "      <td>0.2852</td>\n",
       "    </tr>\n",
       "    <tr>\n",
       "      <th>3</th>\n",
       "      <td>0.1691</td>\n",
       "      <td>0.1687</td>\n",
       "      <td>0.3713</td>\n",
       "      <td>0.2909</td>\n",
       "    </tr>\n",
       "    <tr>\n",
       "      <th>4</th>\n",
       "      <td>0.2945</td>\n",
       "      <td>0.3304</td>\n",
       "      <td>0.2161</td>\n",
       "      <td>0.1590</td>\n",
       "    </tr>\n",
       "    <tr>\n",
       "      <th>5</th>\n",
       "      <td>0.1998</td>\n",
       "      <td>0.1541</td>\n",
       "      <td>0.4142</td>\n",
       "      <td>0.2320</td>\n",
       "    </tr>\n",
       "    <tr>\n",
       "      <th>6</th>\n",
       "      <td>0.2667</td>\n",
       "      <td>0.1753</td>\n",
       "      <td>0.3347</td>\n",
       "      <td>0.2233</td>\n",
       "    </tr>\n",
       "    <tr>\n",
       "      <th>7</th>\n",
       "      <td>0.3130</td>\n",
       "      <td>0.2290</td>\n",
       "      <td>0.1879</td>\n",
       "      <td>0.2700</td>\n",
       "    </tr>\n",
       "    <tr>\n",
       "      <th>8</th>\n",
       "      <td>0.2172</td>\n",
       "      <td>0.1972</td>\n",
       "      <td>0.2766</td>\n",
       "      <td>0.3089</td>\n",
       "    </tr>\n",
       "    <tr>\n",
       "      <th>9</th>\n",
       "      <td>0.2285</td>\n",
       "      <td>0.2163</td>\n",
       "      <td>0.3190</td>\n",
       "      <td>0.2362</td>\n",
       "    </tr>\n",
       "  </tbody>\n",
       "</table>\n",
       "</div>"
      ],
      "text/plain": [
       "   Truck    Car  Plane   Boat\n",
       "0 0.2839 0.3182 0.2163 0.1817\n",
       "1 0.3616 0.2467 0.1902 0.2014\n",
       "2 0.2693 0.1520 0.2935 0.2852\n",
       "3 0.1691 0.1687 0.3713 0.2909\n",
       "4 0.2945 0.3304 0.2161 0.1590\n",
       "5 0.1998 0.1541 0.4142 0.2320\n",
       "6 0.2667 0.1753 0.3347 0.2233\n",
       "7 0.3130 0.2290 0.1879 0.2700\n",
       "8 0.2172 0.1972 0.2766 0.3089\n",
       "9 0.2285 0.2163 0.3190 0.2362"
      ]
     },
     "execution_count": 17,
     "metadata": {},
     "output_type": "execute_result"
    }
   ],
   "source": [
    "# Create DataFrame with test scores\n",
    "proba_c = pd.DataFrame(test)\n",
    "proba_c.columns=['Truck','Car','Plane','Boat']\n",
    "pd.options.display.float_format = '{:.4f}'.format\n",
    "proba_c"
   ]
  },
  {
   "cell_type": "markdown",
   "metadata": {},
   "source": [
    "### Analysis\n",
    "> It appears that when value of **alpha is less than 0.1** (e.g. 0.01, 0.01, 0.001). **The probability per class does not vary a lot** vs the optimal value of 0.1 for the Best Estimator.\n",
    ">\n",
    "> When the alpha value **is tuned up** (e.g. 1, 5, 10, 100). The **model performs badly** and the probability of classification tends to converge towards 0.25 per class."
   ]
  },
  {
   "cell_type": "markdown",
   "metadata": {},
   "source": [
    "### Select 10 images from the test data set"
   ]
  },
  {
   "cell_type": "code",
   "execution_count": 18,
   "metadata": {},
   "outputs": [],
   "source": [
    "img1=Xp_te[50, :].reshape(32,32,3)/255\n",
    "img2=Xp_te[100, :].reshape(32,32,3)/255\n",
    "img3=Xp_te[253, :].reshape(32,32,3)/255\n",
    "img4=Xp_te[452, :].reshape(32,32,3)/255\n",
    "img5=Xp_te[600, :].reshape(32,32,3)/255\n",
    "img6=Xp_te[620, :].reshape(32,32,3)/255\n",
    "img7=Xp_te[750, :].reshape(32,32,3)/255\n",
    "img8=Xp_te[823, :].reshape(32,32,3)/255\n",
    "img9=Xp_te[885, :].reshape(32,32,3)/255\n",
    "img10=Xp_te[999, :].reshape(32,32,3)/255"
   ]
  },
  {
   "cell_type": "markdown",
   "metadata": {},
   "source": [
    "### Visualize images"
   ]
  },
  {
   "cell_type": "code",
   "execution_count": 19,
   "metadata": {},
   "outputs": [
    {
     "data": {
      "image/png": "[encoded data removed]",
      "text/plain": [
       "<Figure size 432x288 with 1 Axes>"
      ]
     },
     "metadata": {
      "needs_background": "light"
     },
     "output_type": "display_data"
    },
    {
     "data": {
      "image/png": "[encoded data removed]",
      "text/plain": [
       "<Figure size 432x288 with 1 Axes>"
      ]
     },
     "metadata": {
      "needs_background": "light"
     },
     "output_type": "display_data"
    },
    {
     "data": {
      "image/png": "[encoded data removed]",
      "text/plain": [
       "<Figure size 432x288 with 1 Axes>"
      ]
     },
     "metadata": {
      "needs_background": "light"
     },
     "output_type": "display_data"
    },
    {
     "data": {
      "image/png": "[encoded data removed]",
      "text/plain": [
       "<Figure size 432x288 with 1 Axes>"
      ]
     },
     "metadata": {
      "needs_background": "light"
     },
     "output_type": "display_data"
    },
    {
     "data": {
      "image/png": "[encoded data removed]",
      "text/plain": [
       "<Figure size 432x288 with 1 Axes>"
      ]
     },
     "metadata": {
      "needs_background": "light"
     },
     "output_type": "display_data"
    },
    {
     "data": {
      "image/png": "[encoded data removed]",
      "text/plain": [
       "<Figure size 432x288 with 1 Axes>"
      ]
     },
     "metadata": {
      "needs_background": "light"
     },
     "output_type": "display_data"
    },
    {
     "data": {
      "image/png": "[encoded data removed]",
      "text/plain": [
       "<Figure size 432x288 with 1 Axes>"
      ]
     },
     "metadata": {
      "needs_background": "light"
     },
     "output_type": "display_data"
    },
    {
     "data": {
      "image/png": "[encoded data removed]",
      "text/plain": [
       "<Figure size 432x288 with 1 Axes>"
      ]
     },
     "metadata": {
      "needs_background": "light"
     },
     "output_type": "display_data"
    },
    {
     "data": {
      "image/png": "[encoded data removed]",
      "text/plain": [
       "<Figure size 432x288 with 1 Axes>"
      ]
     },
     "metadata": {
      "needs_background": "light"
     },
     "output_type": "display_data"
    },
    {
     "data": {
      "image/png": "[encoded data removed]",
      "text/plain": [
       "<Figure size 432x288 with 1 Axes>"
      ]
     },
     "metadata": {
      "needs_background": "light"
     },
     "output_type": "display_data"
    }
   ],
   "source": [
    "plt.imshow(img1)\n",
    "plt.axis('off') # Hide the x- and y-axis\n",
    "plt.title('img0')\n",
    "plt.show()\n",
    "\n",
    "plt.imshow(img2)\n",
    "plt.title('img1')\n",
    "plt.axis('off') # Hide the x- and y-axis\n",
    "plt.show()\n",
    "\n",
    "plt.imshow(img3)\n",
    "plt.title('img2')\n",
    "plt.axis('off') # Hide the x- and y-axis\n",
    "plt.show()\n",
    "\n",
    "plt.imshow(img4)\n",
    "plt.title('img3')\n",
    "plt.axis('off') # Hide the x- and y-axis\n",
    "plt.show()\n",
    "\n",
    "plt.imshow(img5)\n",
    "plt.title('img4')\n",
    "plt.axis('off') # Hide the x- and y-axis\n",
    "plt.show()\n",
    "\n",
    "plt.imshow(img6)\n",
    "plt.title('img5')\n",
    "plt.axis('off') # Hide the x- and y-axis\n",
    "plt.show()\n",
    "\n",
    "plt.imshow(img7)\n",
    "plt.title('img6')\n",
    "plt.axis('off') # Hide the x- and y-axis\n",
    "plt.show()\n",
    "\n",
    "plt.imshow(img8)\n",
    "plt.title('img7')\n",
    "plt.axis('off') # Hide the x- and y-axis\n",
    "plt.show()\n",
    "\n",
    "plt.imshow(img9)\n",
    "plt.title('img8')\n",
    "plt.axis('off') # Hide the x- and y-axis\n",
    "plt.show()\n",
    "\n",
    "plt.imshow(img10)\n",
    "plt.title('img9')\n",
    "plt.axis('off') # Hide the x- and y-axis\n",
    "plt.show()"
   ]
  },
  {
   "cell_type": "code",
   "execution_count": null,
   "metadata": {},
   "outputs": [],
   "source": []
  },
  {
   "cell_type": "code",
   "execution_count": null,
   "metadata": {},
   "outputs": [],
   "source": []
  },
  {
   "cell_type": "code",
   "execution_count": null,
   "metadata": {},
   "outputs": [],
   "source": []
  },
  {
   "cell_type": "code",
   "execution_count": null,
   "metadata": {},
   "outputs": [],
   "source": []
  }
 ],
 "metadata": {
  "kernelspec": {
   "display_name": "Python 3",
   "language": "python",
   "name": "python3"
  },
  "language_info": {
   "codemirror_mode": {
    "name": "ipython",
    "version": 3
   },
   "file_extension": ".py",
   "mimetype": "text/x-python",
   "name": "python",
   "nbconvert_exporter": "python",
   "pygments_lexer": "ipython3",
   "version": "3.6.9"
  }
 },
 "nbformat": 4,
 "nbformat_minor": 4
}
