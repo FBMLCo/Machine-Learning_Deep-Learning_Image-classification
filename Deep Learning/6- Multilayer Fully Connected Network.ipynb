{
 "cells": [
  {
   "cell_type": "markdown",
   "metadata": {},
   "source": [
    "# Multilayer Fully Connected Network"
   ]
  },
  {
   "cell_type": "markdown",
   "metadata": {},
   "source": [
    "## Summary of the network\n",
    ">\n",
    "> **Network structure**\n",
    "* Input layer with the 4,096 OverFeat features\n",
    "* Hidden layer with 64 hidden units and ReLU activation\n",
    "* Output layer with 4 units (the four logits)\n",
    "* Add dropout to the input and hidden units with a rate of 0.5, and an L2\n",
    " regularization term to the cross-entropy loss to penalize large values in the hidden and output weight matrices W1, W2 \n",
    "\n",
    ">\n",
    ">**Accuracy on test (training data set) = 0.825**"
   ]
  },
  {
   "cell_type": "markdown",
   "metadata": {},
   "source": [
    "## Import libraries"
   ]
  },
  {
   "cell_type": "code",
   "execution_count": 1,
   "metadata": {},
   "outputs": [
    {
     "name": "stderr",
     "output_type": "stream",
     "text": [
      "C:\\Users\\fbaff\\AppData\\Roaming\\Python\\Python36\\site-packages\\tensorflow\\python\\framework\\dtypes.py:458: FutureWarning: Passing (type, 1) or '1type' as a synonym of type is deprecated; in a future version of numpy, it will be understood as (type, (1,)) / '(1,)type'.\n",
      "  _np_qint8 = np.dtype([(\"qint8\", np.int8, 1)])\n",
      "C:\\Users\\fbaff\\AppData\\Roaming\\Python\\Python36\\site-packages\\tensorflow\\python\\framework\\dtypes.py:459: FutureWarning: Passing (type, 1) or '1type' as a synonym of type is deprecated; in a future version of numpy, it will be understood as (type, (1,)) / '(1,)type'.\n",
      "  _np_quint8 = np.dtype([(\"quint8\", np.uint8, 1)])\n",
      "C:\\Users\\fbaff\\AppData\\Roaming\\Python\\Python36\\site-packages\\tensorflow\\python\\framework\\dtypes.py:460: FutureWarning: Passing (type, 1) or '1type' as a synonym of type is deprecated; in a future version of numpy, it will be understood as (type, (1,)) / '(1,)type'.\n",
      "  _np_qint16 = np.dtype([(\"qint16\", np.int16, 1)])\n",
      "C:\\Users\\fbaff\\AppData\\Roaming\\Python\\Python36\\site-packages\\tensorflow\\python\\framework\\dtypes.py:461: FutureWarning: Passing (type, 1) or '1type' as a synonym of type is deprecated; in a future version of numpy, it will be understood as (type, (1,)) / '(1,)type'.\n",
      "  _np_quint16 = np.dtype([(\"quint16\", np.uint16, 1)])\n",
      "C:\\Users\\fbaff\\AppData\\Roaming\\Python\\Python36\\site-packages\\tensorflow\\python\\framework\\dtypes.py:462: FutureWarning: Passing (type, 1) or '1type' as a synonym of type is deprecated; in a future version of numpy, it will be understood as (type, (1,)) / '(1,)type'.\n",
      "  _np_qint32 = np.dtype([(\"qint32\", np.int32, 1)])\n",
      "C:\\Users\\fbaff\\AppData\\Roaming\\Python\\Python36\\site-packages\\tensorflow\\python\\framework\\dtypes.py:465: FutureWarning: Passing (type, 1) or '1type' as a synonym of type is deprecated; in a future version of numpy, it will be understood as (type, (1,)) / '(1,)type'.\n",
      "  np_resource = np.dtype([(\"resource\", np.ubyte, 1)])\n"
     ]
    }
   ],
   "source": [
    "import numpy as np\n",
    "import pandas as pd\n",
    "import seaborn as sns\n",
    "from sklearn.preprocessing import StandardScaler\n",
    "from sklearn.neighbors import KNeighborsClassifier\n",
    "from sklearn.neighbors import NearestNeighbors\n",
    "from sklearn.pipeline import Pipeline\n",
    "from sklearn.model_selection import train_test_split\n",
    "from sklearn.dummy import DummyClassifier\n",
    "from sklearn.neighbors import KNeighborsClassifier\n",
    "%matplotlib inline\n",
    "import matplotlib.pyplot as plt\n",
    "from PIL import Image\n",
    "from sklearn.preprocessing import StandardScaler\n",
    "import pickle\n",
    "from sklearn.model_selection import train_test_split\n",
    "from sklearn.pipeline import Pipeline\n",
    "from sklearn.model_selection import ParameterGrid\n",
    "\n",
    "from sklearn import datasets\n",
    "from sklearn.linear_model import LogisticRegression\n",
    "from sklearn.linear_model import SGDClassifier\n",
    "\n",
    "from sklearn.model_selection import KFold\n",
    "from sklearn.model_selection import cross_validate\n",
    "from sklearn.model_selection import ShuffleSplit\n",
    "from sklearn.model_selection import GridSearchCV\n",
    "from sklearn.linear_model import LogisticRegressionCV\n",
    "from sklearn.cluster import KMeans\n",
    "from sklearn.decomposition import PCA\n",
    "\n",
    "from sklearn.tree import DecisionTreeClassifier\n",
    "from sklearn.tree import export_graphviz\n",
    "import graphviz\n",
    "from sklearn.datasets import make_circles\n",
    "from sklearn.ensemble import RandomForestClassifier\n",
    "\n",
    "from sklearn.svm import LinearSVC\n",
    "from sklearn.svm import SVC\n",
    "\n",
    "from sklearn.metrics import confusion_matrix\n",
    "from sklearn.metrics import roc_auc_score\n",
    "from sklearn.metrics import classification_report\n",
    "from sklearn.metrics import roc_curve\n",
    "\n",
    "import tensorflow as tf\n",
    "\n",
    "import random\n",
    "from sklearn import ensemble\n",
    "\n",
    "from sklearn.model_selection import StratifiedShuffleSplit\n",
    "\n",
    "import warnings\n",
    "warnings.filterwarnings(\"ignore\")\n",
    "warnings.simplefilter(\"ignore\")\n",
    "\n",
    "# Activate Seaborn style\n",
    "sns.set()"
   ]
  },
  {
   "cell_type": "markdown",
   "metadata": {},
   "source": [
    "## Import data"
   ]
  },
  {
   "cell_type": "code",
   "execution_count": 2,
   "metadata": {},
   "outputs": [],
   "source": [
    "# Load the npz file\n",
    "with np.load('Cifar4-train.npz', allow_pickle=False) as cifar_df:\n",
    "    # It's a dictionary-like object\n",
    "    cifar4 = dict(cifar_df.items())"
   ]
  },
  {
   "cell_type": "code",
   "execution_count": 3,
   "metadata": {},
   "outputs": [
    {
     "name": "stdout",
     "output_type": "stream",
     "text": [
      "(5000, 4096) float32\n",
      "(5000,) int64\n",
      "(4,) <U8\n"
     ]
    }
   ],
   "source": [
    "X=cifar4['overfeat']\n",
    "y=cifar4['labels']\n",
    "names=cifar4['names']\n",
    "\n",
    "print(X.shape, X.dtype)\n",
    "print(y.shape, y.dtype)\n",
    "print(names.shape, names.dtype)"
   ]
  },
  {
   "cell_type": "code",
   "execution_count": 4,
   "metadata": {},
   "outputs": [
    {
     "name": "stdout",
     "output_type": "stream",
     "text": [
      "Train: (3200, 4096) (3200,)\n",
      "Valid: (800, 4096) (800,)\n",
      "Test: (1000, 4096) (1000,)\n"
     ]
    }
   ],
   "source": [
    "# Create train set\n",
    "X_train, X_test, y_train, y_test = train_test_split(\n",
    "    cifar4['overfeat'], cifar4['labels'],\n",
    "    test_size=1800, random_state=0)\n",
    "\n",
    "# Create validation and test sets\n",
    "X_valid, X_test, y_valid, y_test = train_test_split(\n",
    "    X_test, y_test, test_size=1000, random_state=0)\n",
    "\n",
    "# Rescale input data\n",
    "scaler = StandardScaler()\n",
    "X_train = scaler.fit_transform(X_train)\n",
    "X_valid = scaler.transform(X_valid)\n",
    "X_test = scaler.transform(X_test)\n",
    "\n",
    "print('Train:', X_train.shape, y_train.shape)\n",
    "print('Valid:', X_valid.shape, y_valid.shape)\n",
    "print('Test:', X_test.shape, y_test.shape)"
   ]
  },
  {
   "cell_type": "code",
   "execution_count": 5,
   "metadata": {},
   "outputs": [],
   "source": [
    "# Batch generator\n",
    "def get_batches(X, y, batch_size):\n",
    "    # Shuffle X,y\n",
    "    shuffled_idx = np.arange(len(y)) # 1,2,...,n\n",
    "    np.random.shuffle(shuffled_idx)\n",
    "    \n",
    "    # Enumerate indexes by steps of batch_size\n",
    "    # i: 0, b, 2b, 3b, 4b, .. where b is the batch size\n",
    "    for i in range(0, len(y), batch_size):\n",
    "        # Batch indexes\n",
    "        batch_idx = shuffled_idx[i:i+batch_size]\n",
    "        yield X[batch_idx], y[batch_idx]"
   ]
  },
  {
   "cell_type": "markdown",
   "metadata": {},
   "source": [
    "## Create a multilayer network\n",
    "* Input layer with the 4,096 OverFeat features\n",
    "* Hidden layer with 64 hidden units and ReLU activation\n",
    "* Output layer with 4 units (the four logits)\n",
    "* Add dropout to the input and hidden units with a rate of 0.5, and an L2\n",
    " regularization term to the cross-entropy loss to penalize large values in the hidden and output weight matrices W1, W2 "
   ]
  },
  {
   "cell_type": "markdown",
   "metadata": {},
   "source": [
    "### Define the graph: Hidden and output layers"
   ]
  },
  {
   "cell_type": "code",
   "execution_count": 6,
   "metadata": {},
   "outputs": [],
   "source": [
    "# Define the graph\n",
    "graph = tf.Graph()\n",
    "\n",
    "with graph.as_default():\n",
    "    # Create placeholders\n",
    "    X = tf.placeholder(dtype=tf.float32, shape=[None, 4096])\n",
    "    y = tf.placeholder(dtype=tf.int32, shape=[None])\n",
    "    \n",
    "    # Create training placeholder for the Dropout\n",
    "    training = tf.placeholder(dtype=tf.bool)\n",
    "    \n",
    "    # Apply dropout to the input layer X with a rate of 0.5\n",
    "    X = tf.layers.dropout(\n",
    "        X, rate=0.5, seed=0, training=training)\n",
    "\n",
    "    # Hidden layer with 64 units\n",
    "    hidden = tf.layers.dense(\n",
    "        X, 64, activation=tf.nn.relu, # ReLU\n",
    "        kernel_initializer=tf.variance_scaling_initializer(scale=2, seed=0),\n",
    "        bias_initializer=tf.zeros_initializer(),\n",
    "        name='hidden'\n",
    "    )\n",
    "    # Apply dropout to the hidden layer with a rate of 0.5\n",
    "    hidden = tf.layers.dropout(\n",
    "        hidden, rate=0.5, seed=0, training=training)\n",
    "\n",
    "    # Output layer with 4 units\n",
    "    logits = tf.layers.dense(\n",
    "        hidden, 4, activation=None, # No activation function\n",
    "        kernel_initializer=tf.variance_scaling_initializer(scale=1, seed=0),\n",
    "        bias_initializer=tf.zeros_initializer(),\n",
    "        name='output'\n",
    "    )"
   ]
  },
  {
   "cell_type": "markdown",
   "metadata": {},
   "source": [
    "### Define the graph: Hidden/output layer wights + Loss function"
   ]
  },
  {
   "cell_type": "code",
   "execution_count": 7,
   "metadata": {},
   "outputs": [],
   "source": [
    "with graph.as_default():\n",
    "    \n",
    "    # Hidden layer weights\n",
    "    with tf.variable_scope('hidden', reuse=True):\n",
    "        W1 = tf.get_variable('kernel')\n",
    "    \n",
    "    # Output layer weight\n",
    "    with tf.variable_scope('output', reuse=True):\n",
    "        W2 = tf.get_variable('kernel')\n",
    "    \n",
    "    # L2 term\n",
    "    l2_term = tf.nn.l2_loss(W1) + tf.nn.l2_loss(W2)\n",
    "\n",
    "    # Regularization strength\n",
    "    alpha = tf.placeholder(dtype=tf.float32)\n",
    "\n",
    "    # Loss fuction: mean cross-entropy\n",
    "    mean_ce = tf.reduce_mean(\n",
    "        tf.nn.sparse_softmax_cross_entropy_with_logits(\n",
    "            labels=y, logits=logits))\n",
    "    \n",
    "    loss = mean_ce + alpha*l2_term\n",
    "\n",
    "    # Gradient descent\n",
    "    lr = tf.placeholder(dtype=tf.float32)\n",
    "    gd = tf.train.GradientDescentOptimizer(learning_rate=lr)\n",
    "\n",
    "    # Minimize cross-entropy\n",
    "    train_op = gd.minimize(loss)\n",
    "\n",
    "    # Compute predictions and accuracy\n",
    "    predictions = tf.argmax(logits, axis=1, output_type=tf.int32)\n",
    "    is_correct = tf.equal(y, predictions)\n",
    "    accuracy = tf.reduce_mean(tf.cast(is_correct, dtype=tf.float32))"
   ]
  },
  {
   "cell_type": "code",
   "execution_count": 8,
   "metadata": {},
   "outputs": [
    {
     "name": "stdout",
     "output_type": "stream",
     "text": [
      "Epoch 1 - valid: 0.760 train: 0.610 (mean)\n",
      "Epoch 2 - valid: 0.790 train: 0.830 (mean)\n",
      "Epoch 3 - valid: 0.806 train: 0.760 (mean)\n",
      "Epoch 4 - valid: 0.814 train: 0.750 (mean)\n",
      "Epoch 5 - valid: 0.817 train: 0.830 (mean)\n",
      "Epoch 6 - valid: 0.819 train: 0.720 (mean)\n",
      "Epoch 7 - valid: 0.815 train: 0.890 (mean)\n",
      "Epoch 8 - valid: 0.825 train: 0.840 (mean)\n",
      "Epoch 9 - valid: 0.825 train: 0.920 (mean)\n",
      "Epoch 10 - valid: 0.829 train: 0.810 (mean)\n",
      "Epoch 11 - valid: 0.830 train: 0.830 (mean)\n",
      "Epoch 12 - valid: 0.826 train: 0.850 (mean)\n",
      "Epoch 13 - valid: 0.827 train: 0.900 (mean)\n",
      "Epoch 14 - valid: 0.825 train: 0.790 (mean)\n",
      "Epoch 15 - valid: 0.832 train: 0.870 (mean)\n",
      "Epoch 16 - valid: 0.830 train: 0.880 (mean)\n",
      "Epoch 17 - valid: 0.834 train: 0.820 (mean)\n",
      "Epoch 18 - valid: 0.831 train: 0.900 (mean)\n",
      "Epoch 19 - valid: 0.837 train: 0.880 (mean)\n",
      "Epoch 20 - valid: 0.840 train: 0.830 (mean)\n",
      "Epoch 21 - valid: 0.831 train: 0.880 (mean)\n",
      "Epoch 22 - valid: 0.842 train: 0.850 (mean)\n",
      "Epoch 23 - valid: 0.836 train: 0.880 (mean)\n",
      "Epoch 24 - valid: 0.831 train: 0.910 (mean)\n",
      "Epoch 25 - valid: 0.832 train: 0.890 (mean)\n",
      "Epoch 26 - valid: 0.835 train: 0.940 (mean)\n",
      "Epoch 27 - valid: 0.834 train: 0.890 (mean)\n",
      "Epoch 28 - valid: 0.839 train: 0.860 (mean)\n",
      "Epoch 29 - valid: 0.836 train: 0.920 (mean)\n",
      "Epoch 30 - valid: 0.837 train: 0.900 (mean)\n",
      "Epoch 31 - valid: 0.836 train: 0.850 (mean)\n",
      "Epoch 32 - valid: 0.836 train: 0.860 (mean)\n",
      "Epoch 33 - valid: 0.837 train: 0.910 (mean)\n",
      "Epoch 34 - valid: 0.836 train: 0.860 (mean)\n",
      "Epoch 35 - valid: 0.834 train: 0.880 (mean)\n",
      "Epoch 36 - valid: 0.842 train: 0.930 (mean)\n",
      "Epoch 37 - valid: 0.834 train: 0.880 (mean)\n",
      "Epoch 38 - valid: 0.837 train: 0.900 (mean)\n",
      "Epoch 39 - valid: 0.837 train: 0.900 (mean)\n",
      "Epoch 40 - valid: 0.832 train: 0.890 (mean)\n",
      "Epoch 41 - valid: 0.837 train: 0.880 (mean)\n",
      "Epoch 42 - valid: 0.836 train: 0.900 (mean)\n",
      "Epoch 43 - valid: 0.839 train: 0.920 (mean)\n",
      "Epoch 44 - valid: 0.837 train: 0.890 (mean)\n",
      "Epoch 45 - valid: 0.839 train: 0.910 (mean)\n",
      "Epoch 46 - valid: 0.841 train: 0.910 (mean)\n",
      "Epoch 47 - valid: 0.835 train: 0.880 (mean)\n",
      "Epoch 48 - valid: 0.842 train: 0.890 (mean)\n",
      "Epoch 49 - valid: 0.836 train: 0.880 (mean)\n",
      "Epoch 50 - valid: 0.837 train: 0.930 (mean)\n",
      "Test accuracy: 0.825\n"
     ]
    }
   ],
   "source": [
    "# Validation accuracy\n",
    "train_acc_values = []\n",
    "valid_acc_values = []\n",
    "\n",
    "with tf.Session(graph=graph) as sess:\n",
    "    # Initialize variables\n",
    "    sess.run(tf.global_variables_initializer())\n",
    "\n",
    "    # Set seed\n",
    "    np.random.seed(0)\n",
    "\n",
    "    # Train several epochs\n",
    "    for epoch in range(50):\n",
    "        # Get batches of data\n",
    "        for X_batch, y_batch in get_batches(X_train, y_train, 100):\n",
    "            # Run training and evaluate accuracy\n",
    "            _, train_acc = sess.run([train_op, accuracy], feed_dict={\n",
    "                X: X_batch,\n",
    "                y: y_batch,\n",
    "                lr: 0.01, # Learning rate\n",
    "                training: True, # Apply dropout\n",
    "                alpha: 0.05 # Regularization strength\n",
    "            })\n",
    "\n",
    "            # Save accuracy (current batch)\n",
    "            train_acc_values.append(train_acc)\n",
    "\n",
    "        # Evaluate validation accuracy\n",
    "        valid_acc = sess.run(accuracy, feed_dict={\n",
    "            X: X_valid,\n",
    "            y: y_valid,\n",
    "            training: False # Do not apply dropout\n",
    "        })\n",
    "        valid_acc_values.append(valid_acc)\n",
    "\n",
    "        # Print progress\n",
    "        print('Epoch {} - valid: {:.3f} train: {:.3f} (mean)'.format(\n",
    "            epoch+1, valid_acc, np.mean(train_acc)\n",
    "        ))\n",
    "        \n",
    "        # Evaluate test accuracy\n",
    "    test_acc = sess.run(accuracy, feed_dict={\n",
    "        X: X_test,\n",
    "        y: y_test,\n",
    "        training: False # Do not apply dropout\n",
    "    })\n",
    "    print('Test accuracy: {:.3f}'.format(test_acc))\n",
    "\n",
    "    # Weights of the hidden and output layers\n",
    "    weights_hidden = W1.eval()\n",
    "    weights_output = W2.eval()"
   ]
  },
  {
   "cell_type": "markdown",
   "metadata": {},
   "source": [
    "### Plot the accuracy"
   ]
  },
  {
   "cell_type": "code",
   "execution_count": 9,
   "metadata": {},
   "outputs": [
    {
     "data": {
      "image/png": "[encoded data removed]",
      "text/plain": [
       "<Figure size 432x288 with 1 Axes>"
      ]
     },
     "metadata": {
      "needs_background": "light"
     },
     "output_type": "display_data"
    }
   ],
   "source": [
    "# Plot accuracy values\n",
    "plt.plot(valid_acc_values)\n",
    "plt.plot()\n",
    "plt.title('Validation accuracy {:.3f} (mean last 3)'.format(\n",
    "    np.mean(valid_acc_values[-3:]) # last three values\n",
    "))\n",
    "plt.xlabel('epoch')\n",
    "plt.ylabel('accuracy')\n",
    "plt.show()"
   ]
  },
  {
   "cell_type": "markdown",
   "metadata": {},
   "source": [
    "### Results: Adjusted hyperparameter (Validation accuracy - last 3 epoch values)"
   ]
  },
  {
   "cell_type": "code",
   "execution_count": 10,
   "metadata": {},
   "outputs": [],
   "source": [
    "# Batch sizes: 64 (0.81), 100 (0.826), 150 (0.808), 200 (0.83), 256 (0.825)\n",
    "# Learning rate (batch size 100): 0.1 (0.826), 0.05 (0.834), 0.01 (0.836), 0.001 (0.815)\n",
    "# alpha (batch size 100, learning rate 0.01): 0.1 (0.836), 0.05 (0.839), 0.01 (0.836), 0.2 (0.83), 0.5 (0.819)\n",
    "# Number of epoch (batch size 100, learning rate 0.01, alpha = 0.05): 50 (0.839), 10 (0.826), 20 (0.836), 30 (0.837), 70 (0.836)"
   ]
  },
  {
   "cell_type": "markdown",
   "metadata": {},
   "source": [
    "### Selected model to compare with other models\n",
    ">\n",
    "> **Network architecture given in the project's instructions**\n",
    ">>\n",
    "> **Number of epoch: 50, Batch size 100, learning rate 0.01, alpha = 0.05**\n",
    ">>\n",
    "> **Test accuracy = 0.825**"
   ]
  },
  {
   "cell_type": "code",
   "execution_count": 11,
   "metadata": {},
   "outputs": [
    {
     "name": "stdout",
     "output_type": "stream",
     "text": [
      "Stored 'Fully_Connected_Network' (float)\n"
     ]
    }
   ],
   "source": [
    "#Save the accuracy of the Best Multilayer Fully Connected Network\n",
    "Fully_Connected_Network=0.825\n",
    "%store Fully_Connected_Network"
   ]
  },
  {
   "cell_type": "code",
   "execution_count": null,
   "metadata": {},
   "outputs": [],
   "source": []
  },
  {
   "cell_type": "code",
   "execution_count": null,
   "metadata": {},
   "outputs": [],
   "source": []
  },
  {
   "cell_type": "code",
   "execution_count": null,
   "metadata": {},
   "outputs": [],
   "source": []
  },
  {
   "cell_type": "code",
   "execution_count": null,
   "metadata": {},
   "outputs": [],
   "source": []
  }
 ],
 "metadata": {
  "kernelspec": {
   "display_name": "Python 3",
   "language": "python",
   "name": "python3"
  },
  "language_info": {
   "codemirror_mode": {
    "name": "ipython",
    "version": 3
   },
   "file_extension": ".py",
   "mimetype": "text/x-python",
   "name": "python",
   "nbconvert_exporter": "python",
   "pygments_lexer": "ipython3",
   "version": "3.6.9"
  }
 },
 "nbformat": 4,
 "nbformat_minor": 4
}
