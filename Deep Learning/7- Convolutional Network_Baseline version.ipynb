{
 "cells": [
  {
   "cell_type": "markdown",
   "metadata": {},
   "source": [
    "# Convolutional Network - Baseline Version"
   ]
  },
  {
   "cell_type": "markdown",
   "metadata": {},
   "source": [
    "## Summary of the network\n",
    ">## Summary of the network\n",
    ">\n",
    "> **Network structure**\n",
    "* conv1/kernel:0' shape=(5, 5, 3, 64)\n",
    "* conv1/bias:0' shape=(64,)\n",
    "* conv2/kernel:0' shape=(3, 3, 64, 64)\n",
    "* conv2/bias:0' shape=(64,)\n",
    "* dense/kernel:0' shape=(1024, 256)\n",
    "* dense/bias:0' shape=(256,)\n",
    "* dense_1/kernel:0' shape=(256, 4)\n",
    "* dense_1/bias:0' shape=(4,)\n",
    ">\n",
    ">**Hyper-parameters**: Loss function: Mean cross-entropy; Adam optimizer\n",
    ">\n",
    ">**Accuracy on test (tarining data set) = 0.792**"
   ]
  },
  {
   "cell_type": "markdown",
   "metadata": {},
   "source": [
    "## Import libraries"
   ]
  },
  {
   "cell_type": "code",
   "execution_count": 1,
   "metadata": {},
   "outputs": [
    {
     "name": "stderr",
     "output_type": "stream",
     "text": [
      "C:\\Users\\fbaff\\AppData\\Roaming\\Python\\Python36\\site-packages\\tensorflow\\python\\framework\\dtypes.py:458: FutureWarning: Passing (type, 1) or '1type' as a synonym of type is deprecated; in a future version of numpy, it will be understood as (type, (1,)) / '(1,)type'.\n",
      "  _np_qint8 = np.dtype([(\"qint8\", np.int8, 1)])\n",
      "C:\\Users\\fbaff\\AppData\\Roaming\\Python\\Python36\\site-packages\\tensorflow\\python\\framework\\dtypes.py:459: FutureWarning: Passing (type, 1) or '1type' as a synonym of type is deprecated; in a future version of numpy, it will be understood as (type, (1,)) / '(1,)type'.\n",
      "  _np_quint8 = np.dtype([(\"quint8\", np.uint8, 1)])\n",
      "C:\\Users\\fbaff\\AppData\\Roaming\\Python\\Python36\\site-packages\\tensorflow\\python\\framework\\dtypes.py:460: FutureWarning: Passing (type, 1) or '1type' as a synonym of type is deprecated; in a future version of numpy, it will be understood as (type, (1,)) / '(1,)type'.\n",
      "  _np_qint16 = np.dtype([(\"qint16\", np.int16, 1)])\n",
      "C:\\Users\\fbaff\\AppData\\Roaming\\Python\\Python36\\site-packages\\tensorflow\\python\\framework\\dtypes.py:461: FutureWarning: Passing (type, 1) or '1type' as a synonym of type is deprecated; in a future version of numpy, it will be understood as (type, (1,)) / '(1,)type'.\n",
      "  _np_quint16 = np.dtype([(\"quint16\", np.uint16, 1)])\n",
      "C:\\Users\\fbaff\\AppData\\Roaming\\Python\\Python36\\site-packages\\tensorflow\\python\\framework\\dtypes.py:462: FutureWarning: Passing (type, 1) or '1type' as a synonym of type is deprecated; in a future version of numpy, it will be understood as (type, (1,)) / '(1,)type'.\n",
      "  _np_qint32 = np.dtype([(\"qint32\", np.int32, 1)])\n",
      "C:\\Users\\fbaff\\AppData\\Roaming\\Python\\Python36\\site-packages\\tensorflow\\python\\framework\\dtypes.py:465: FutureWarning: Passing (type, 1) or '1type' as a synonym of type is deprecated; in a future version of numpy, it will be understood as (type, (1,)) / '(1,)type'.\n",
      "  np_resource = np.dtype([(\"resource\", np.ubyte, 1)])\n"
     ]
    }
   ],
   "source": [
    "import numpy as np\n",
    "import pandas as pd\n",
    "import seaborn as sns\n",
    "from sklearn.preprocessing import StandardScaler\n",
    "from sklearn.neighbors import KNeighborsClassifier\n",
    "from sklearn.neighbors import NearestNeighbors\n",
    "from sklearn.pipeline import Pipeline\n",
    "from sklearn.model_selection import train_test_split\n",
    "from sklearn.dummy import DummyClassifier\n",
    "from sklearn.neighbors import KNeighborsClassifier\n",
    "%matplotlib inline\n",
    "import matplotlib.pyplot as plt\n",
    "from PIL import Image\n",
    "from sklearn.preprocessing import StandardScaler\n",
    "import pickle\n",
    "from sklearn.model_selection import train_test_split\n",
    "from sklearn.pipeline import Pipeline\n",
    "from sklearn.model_selection import ParameterGrid\n",
    "\n",
    "from sklearn import datasets\n",
    "from sklearn.linear_model import LogisticRegression\n",
    "from sklearn.linear_model import SGDClassifier\n",
    "\n",
    "from sklearn.model_selection import KFold\n",
    "from sklearn.model_selection import cross_validate\n",
    "from sklearn.model_selection import ShuffleSplit\n",
    "from sklearn.model_selection import GridSearchCV\n",
    "from sklearn.linear_model import LogisticRegressionCV\n",
    "from sklearn.cluster import KMeans\n",
    "from sklearn.decomposition import PCA\n",
    "\n",
    "from sklearn.tree import DecisionTreeClassifier\n",
    "from sklearn.tree import export_graphviz\n",
    "import graphviz\n",
    "from sklearn.datasets import make_circles\n",
    "from sklearn.ensemble import RandomForestClassifier\n",
    "\n",
    "from sklearn.svm import LinearSVC\n",
    "from sklearn.svm import SVC\n",
    "\n",
    "from sklearn.metrics import confusion_matrix\n",
    "from sklearn.metrics import roc_auc_score\n",
    "from sklearn.metrics import classification_report\n",
    "from sklearn.metrics import roc_curve\n",
    "\n",
    "import tensorflow as tf\n",
    "\n",
    "import random\n",
    "from sklearn import ensemble\n",
    "\n",
    "from sklearn.model_selection import StratifiedShuffleSplit\n",
    "\n",
    "import warnings\n",
    "warnings.filterwarnings(\"ignore\")\n",
    "warnings.simplefilter(\"ignore\")\n",
    "\n",
    "# Activate Seaborn style\n",
    "sns.set()"
   ]
  },
  {
   "cell_type": "markdown",
   "metadata": {},
   "source": [
    "## Import data"
   ]
  },
  {
   "cell_type": "code",
   "execution_count": 2,
   "metadata": {},
   "outputs": [],
   "source": [
    "# Load the npz file\n",
    "with np.load('Cifar4-train.npz', allow_pickle=False) as cifar_df:\n",
    "    # It's a dictionary-like object\n",
    "    cifar4 = dict(cifar_df.items())\n",
    "\n",
    "# Convert pixels into floating point numbers\n",
    "data = cifar4['pixels'].astype(np.float32)\n",
    "\n",
    "# Rescale pixel values between -0.5 and 0.5\n",
    "data = (data - 128) / 255\n",
    "    "
   ]
  },
  {
   "cell_type": "code",
   "execution_count": 3,
   "metadata": {},
   "outputs": [
    {
     "name": "stdout",
     "output_type": "stream",
     "text": [
      "(5000, 3072) float32\n",
      "(5000,) int64\n",
      "(4,) <U8\n"
     ]
    }
   ],
   "source": [
    "X=data\n",
    "y=cifar4['labels']\n",
    "names=cifar4['names']\n",
    "\n",
    "print(X.shape, X.dtype)\n",
    "print(y.shape, y.dtype)\n",
    "print(names.shape, names.dtype)"
   ]
  },
  {
   "cell_type": "code",
   "execution_count": 4,
   "metadata": {},
   "outputs": [
    {
     "name": "stdout",
     "output_type": "stream",
     "text": [
      "Train: (3200, 32, 32, 3) (3200,)\n",
      "Valid: (800, 32, 32, 3) (800,)\n",
      "Test: (1000, 32, 32, 3) (1000,)\n"
     ]
    }
   ],
   "source": [
    "# Create train set\n",
    "X_train, X_test, y_train, y_test = train_test_split(\n",
    "    # Reshape images: 32 by 32 with 3 (RGB) color channels\n",
    "    data.reshape(-1, 32, 32, 3),\n",
    "    cifar4['labels'],\n",
    "    test_size=1800, random_state=0)\n",
    "\n",
    "# Create validation and test sets\n",
    "X_valid, X_test, y_valid, y_test = train_test_split(\n",
    "    X_test, y_test, test_size=1000, random_state=0)\n",
    "\n",
    "print('Train:', X_train.shape, y_train.shape)\n",
    "print('Valid:', X_valid.shape, y_valid.shape)\n",
    "print('Test:', X_test.shape, y_test.shape)"
   ]
  },
  {
   "cell_type": "code",
   "execution_count": 5,
   "metadata": {},
   "outputs": [],
   "source": [
    "# Batch generator\n",
    "def get_batches(X, y, batch_size):\n",
    "    # Shuffle X,y\n",
    "    shuffled_idx = np.arange(len(y)) # 1,2,...,n\n",
    "    np.random.shuffle(shuffled_idx)\n",
    "    \n",
    "    # Enumerate indexes by steps of batch_size\n",
    "    # i: 0, b, 2b, 3b, 4b, .. where b is the batch size\n",
    "    for i in range(0, len(y), batch_size):\n",
    "        # Batch indexes\n",
    "        batch_idx = shuffled_idx[i:i+batch_size]\n",
    "        yield X[batch_idx], y[batch_idx]"
   ]
  },
  {
   "cell_type": "markdown",
   "metadata": {},
   "source": [
    "## Create the ConvNet"
   ]
  },
  {
   "cell_type": "code",
   "execution_count": 6,
   "metadata": {},
   "outputs": [
    {
     "name": "stdout",
     "output_type": "stream",
     "text": [
      "Input: (?, 32, 32, 3)\n",
      "Convolutional layer: (?, 16, 16, 64)\n",
      "Maxpool: (?, 8, 8, 64)\n",
      "Convolutional layer: (?, 8, 8, 64)\n",
      "Maxpool: (?, 4, 4, 64)\n",
      "Flatten: (?, 1024)\n",
      "Dropout: (?, 1024)\n",
      "Fully-connected layer: (?, 256)\n",
      "Output layer: (?, 4)\n"
     ]
    }
   ],
   "source": [
    "import tensorflow as tf\n",
    "\n",
    "# Create new graph\n",
    "graph = tf.Graph()\n",
    "\n",
    "with graph.as_default():\n",
    "    # Placeholders\n",
    "    X = tf.placeholder(dtype=tf.float32, shape=[None, 32, 32, 3])\n",
    "    y = tf.placeholder(dtype=tf.int32, shape=[None])\n",
    "    print('Input:', X.shape)\n",
    "    \n",
    "    # Convolutional layer (64 filters, 5x5, stride: 2)\n",
    "    conv1 = tf.layers.conv2d(\n",
    "        X, 64, (5, 5), (2, 2), 'SAME', # \"same\" padding\n",
    "        activation=tf.nn.relu, # ReLU\n",
    "        kernel_initializer=tf.truncated_normal_initializer(stddev=0.01, seed=0),\n",
    "        name='conv1'\n",
    "    )\n",
    "    print('Convolutional layer:', conv1.shape)\n",
    "    \n",
    "    # Maxpool layer (2x2, stride: 2, \"same\" padding)\n",
    "    pool1 = tf.layers.max_pooling2d(conv1, (2, 2), (2, 2), 'SAME')\n",
    "    print('Maxpool:', pool1.shape)\n",
    "    \n",
    "    # Convolutional layer (64 filters, 3x3, stride: 1)\n",
    "    conv2 = tf.layers.conv2d(\n",
    "        pool1, 64, (3, 3), (1, 1), 'SAME', # \"same\" padding\n",
    "        activation=tf.nn.relu, # ReLU\n",
    "        kernel_initializer=tf.truncated_normal_initializer(stddev=0.01, seed=0),\n",
    "        name='conv2'\n",
    "    )\n",
    "    print('Convolutional layer:', conv2.shape)\n",
    "    \n",
    "    # Maxpool layer (2x2, stride: 2, \"same\" padding)\n",
    "    pool2 = tf.layers.max_pooling2d(conv2, (2, 2), (2, 2), 'SAME')\n",
    "    print('Maxpool:', pool2.shape)\n",
    "    \n",
    "    # Flatten output\n",
    "    flat_output = tf.contrib.layers.flatten(pool2)\n",
    "    print('Flatten:', flat_output.shape)\n",
    "    \n",
    "    # Dropout\n",
    "    training = tf.placeholder(dtype=tf.bool)\n",
    "    flat_output = tf.layers.dropout(flat_output, rate=0.5, seed=0, training=training)\n",
    "    print('Dropout:', flat_output.shape)\n",
    "    \n",
    "    # Fully connected layer\n",
    "    fc1 = tf.layers.dense(\n",
    "        flat_output, 256, # 256 hidden units\n",
    "        activation=tf.nn.relu, # ReLU\n",
    "        kernel_initializer=tf.variance_scaling_initializer(scale=2, seed=0),\n",
    "        bias_initializer=tf.zeros_initializer()\n",
    "    )\n",
    "    print('Fully-connected layer:', fc1.shape)\n",
    "    \n",
    "    # Output layer\n",
    "    logits = tf.layers.dense(\n",
    "        fc1, 4, # One output unit per category\n",
    "        activation=None, # No activation function\n",
    "        kernel_initializer=tf.variance_scaling_initializer(scale=1, seed=0),\n",
    "        bias_initializer=tf.zeros_initializer(),\n",
    "        name='output'\n",
    "    )\n",
    "    print('Output layer:', logits.shape)\n",
    "    \n",
    "    # Kernel of the 1st conv. layer\n",
    "    with tf.variable_scope('conv1', reuse=True):\n",
    "        conv_kernels1 = tf.get_variable('kernel')\n",
    "    \n",
    "    # Kernel of the output layer\n",
    "    with tf.variable_scope('output', reuse=True):\n",
    "        conv_kernels_output = tf.get_variable('kernel')\n",
    "    \n",
    "    # Mean cross-entropy\n",
    "    mean_ce = tf.reduce_mean(\n",
    "        tf.nn.sparse_softmax_cross_entropy_with_logits(\n",
    "            labels=y, logits=logits))\n",
    "    \n",
    "    # Adam optimizer\n",
    "    lr = tf.placeholder(dtype=tf.float32)\n",
    "    gd = tf.train.AdamOptimizer(learning_rate=lr)\n",
    "\n",
    "    # Minimize cross-entropy\n",
    "    train_op = gd.minimize(mean_ce)\n",
    "    \n",
    "    # Compute predictions and accuracy\n",
    "    predictions = tf.argmax(logits, axis=1, output_type=tf.int32)\n",
    "    is_correct = tf.equal(y, predictions)\n",
    "    accuracy = tf.reduce_mean(tf.cast(is_correct, dtype=tf.float32))"
   ]
  },
  {
   "cell_type": "markdown",
   "metadata": {},
   "source": [
    "## Train the model"
   ]
  },
  {
   "cell_type": "code",
   "execution_count": 7,
   "metadata": {},
   "outputs": [
    {
     "name": "stdout",
     "output_type": "stream",
     "text": [
      "Epoch 1 - valid: 0.496 train: 0.422 (mean)\n",
      "Epoch 2 - valid: 0.559 train: 0.518 (mean)\n",
      "Epoch 3 - valid: 0.584 train: 0.558 (mean)\n",
      "Epoch 4 - valid: 0.627 train: 0.584 (mean)\n",
      "Epoch 5 - valid: 0.635 train: 0.607 (mean)\n",
      "Epoch 6 - valid: 0.654 train: 0.638 (mean)\n",
      "Epoch 7 - valid: 0.685 train: 0.660 (mean)\n",
      "Epoch 8 - valid: 0.692 train: 0.674 (mean)\n",
      "Epoch 9 - valid: 0.695 train: 0.695 (mean)\n",
      "Epoch 10 - valid: 0.695 train: 0.723 (mean)\n",
      "Epoch 11 - valid: 0.689 train: 0.722 (mean)\n",
      "Epoch 12 - valid: 0.729 train: 0.733 (mean)\n",
      "Epoch 13 - valid: 0.735 train: 0.754 (mean)\n",
      "Epoch 14 - valid: 0.740 train: 0.769 (mean)\n",
      "Epoch 15 - valid: 0.748 train: 0.780 (mean)\n",
      "Epoch 16 - valid: 0.760 train: 0.797 (mean)\n",
      "Epoch 17 - valid: 0.750 train: 0.795 (mean)\n",
      "Epoch 18 - valid: 0.750 train: 0.807 (mean)\n",
      "Epoch 19 - valid: 0.740 train: 0.824 (mean)\n",
      "Epoch 20 - valid: 0.760 train: 0.824 (mean)\n",
      "Epoch 21 - valid: 0.755 train: 0.824 (mean)\n",
      "Epoch 22 - valid: 0.769 train: 0.823 (mean)\n",
      "Epoch 23 - valid: 0.769 train: 0.856 (mean)\n",
      "Epoch 24 - valid: 0.766 train: 0.853 (mean)\n",
      "Epoch 25 - valid: 0.741 train: 0.853 (mean)\n",
      "Epoch 26 - valid: 0.772 train: 0.858 (mean)\n",
      "Epoch 27 - valid: 0.781 train: 0.872 (mean)\n",
      "Epoch 28 - valid: 0.788 train: 0.876 (mean)\n",
      "Epoch 29 - valid: 0.764 train: 0.872 (mean)\n",
      "Epoch 30 - valid: 0.786 train: 0.883 (mean)\n",
      "Epoch 31 - valid: 0.781 train: 0.889 (mean)\n",
      "Epoch 32 - valid: 0.788 train: 0.894 (mean)\n",
      "Epoch 33 - valid: 0.779 train: 0.901 (mean)\n",
      "Epoch 34 - valid: 0.777 train: 0.902 (mean)\n",
      "Epoch 35 - valid: 0.777 train: 0.909 (mean)\n",
      "Epoch 36 - valid: 0.769 train: 0.920 (mean)\n",
      "Epoch 37 - valid: 0.783 train: 0.919 (mean)\n",
      "Epoch 38 - valid: 0.775 train: 0.932 (mean)\n",
      "Epoch 39 - valid: 0.785 train: 0.922 (mean)\n",
      "Epoch 40 - valid: 0.775 train: 0.924 (mean)\n",
      "Epoch 41 - valid: 0.762 train: 0.920 (mean)\n",
      "Epoch 42 - valid: 0.795 train: 0.929 (mean)\n",
      "Epoch 43 - valid: 0.784 train: 0.936 (mean)\n",
      "Epoch 44 - valid: 0.791 train: 0.933 (mean)\n",
      "Epoch 45 - valid: 0.801 train: 0.943 (mean)\n",
      "Epoch 46 - valid: 0.781 train: 0.938 (mean)\n",
      "Epoch 47 - valid: 0.777 train: 0.951 (mean)\n",
      "Epoch 48 - valid: 0.798 train: 0.952 (mean)\n",
      "Epoch 49 - valid: 0.785 train: 0.954 (mean)\n",
      "Epoch 50 - valid: 0.790 train: 0.950 (mean)\n",
      "Test accuracy: 0.792\n"
     ]
    }
   ],
   "source": [
    "# Validation accuracy\n",
    "valid_acc_values = []\n",
    "\n",
    "with tf.Session(graph=graph) as sess:\n",
    "    # Initialize variables\n",
    "    sess.run(tf.global_variables_initializer())\n",
    "    \n",
    "    # Set seed\n",
    "    np.random.seed(0)\n",
    "    \n",
    "    # Train several epochs\n",
    "    for epoch in range(50):\n",
    "        # Accuracy values (train) after each batch\n",
    "        batch_acc = []\n",
    "        \n",
    "        for X_batch, y_batch in get_batches(X_train, y_train, 100): # with batch size 64; accuracy on test = 0.781\n",
    "            # Run training and evaluate accuracy\n",
    "            _, acc_value = sess.run([train_op, accuracy], feed_dict={\n",
    "                X: X_batch,\n",
    "                y: y_batch,\n",
    "                lr: 0.001, # Learning rate\n",
    "                training: True\n",
    "            })\n",
    "            \n",
    "            # Save accuracy (current batch)\n",
    "            batch_acc.append(acc_value)\n",
    "\n",
    "        # Evaluate validation accuracy\n",
    "        valid_acc = sess.run(accuracy, feed_dict={\n",
    "            X: X_valid,\n",
    "            y: y_valid,\n",
    "            training: False\n",
    "        })\n",
    "        valid_acc_values.append(valid_acc)\n",
    "        \n",
    "        # Print progress\n",
    "        print('Epoch {} - valid: {:.3f} train: {:.3f} (mean)'.format(\n",
    "            epoch+1, valid_acc, np.mean(batch_acc)\n",
    "        ))\n",
    "        \n",
    "    # Get 1st conv. layer kernels\n",
    "    kernels1 = conv_kernels1.eval()\n",
    "    \n",
    "    # Get output conv. layer kernels\n",
    "    kernels2 = conv_kernels_output.eval()\n",
    "    \n",
    "    # Evaluate test accuracy\n",
    "    test_acc = sess.run(accuracy, feed_dict={\n",
    "        X: X_test,\n",
    "        y: y_test,\n",
    "            training: False\n",
    "    })\n",
    "    print('Test accuracy: {:.3f}'.format(test_acc))"
   ]
  },
  {
   "cell_type": "code",
   "execution_count": 8,
   "metadata": {},
   "outputs": [
    {
     "name": "stdout",
     "output_type": "stream",
     "text": [
      "Stored 'CNN_1_2convlyr' (float)\n"
     ]
    }
   ],
   "source": [
    "#Save the accuracy of the Best CNN 1 2 conv layers\n",
    "CNN_1_2convlyr=0.792\n",
    "%store CNN_1_2convlyr"
   ]
  },
  {
   "cell_type": "markdown",
   "metadata": {},
   "source": [
    "## Visualize first convolutional layer of the network"
   ]
  },
  {
   "cell_type": "code",
   "execution_count": 9,
   "metadata": {},
   "outputs": [
    {
     "data": {
      "image/png": "[encoded data removed]",
      "text/plain": [
       "<Figure size 576x576 with 64 Axes>"
      ]
     },
     "metadata": {
      "needs_background": "light"
     },
     "output_type": "display_data"
    }
   ],
   "source": [
    "# Create a grid of subplots\n",
    "fig, axes = plt.subplots(nrows=8, ncols=8, figsize=(8, 8))\n",
    "\n",
    "# Remove gaps between suplots\n",
    "plt.subplots_adjust(wspace=0, hspace=0)\n",
    "\n",
    "# Plot the 64 kernels from the first convolutional layer\n",
    "for i, axis in enumerate(axes.flatten()):\n",
    "    # Get i-th kernel (shape: 5x5x3)\n",
    "    kernel1 = kernels1[:, :, :, i].copy()\n",
    "    \n",
    "    # Rescale values between 0 and 1\n",
    "    kernel1 -= kernel1.min() # Rescale between 0 and max\n",
    "    kernel1 /= kernel1.max() # Rescale between 0 and 1\n",
    "    \n",
    "    # Plot kernel with imshow()\n",
    "    axis.imshow(kernel1)\n",
    "    axis.get_xaxis().set_visible(False) # disable x-axis\n",
    "    axis.get_yaxis().set_visible(False) # disable y-axis\n",
    "    \n",
    "plt.show()"
   ]
  },
  {
   "cell_type": "code",
   "execution_count": null,
   "metadata": {},
   "outputs": [],
   "source": []
  },
  {
   "cell_type": "code",
   "execution_count": null,
   "metadata": {},
   "outputs": [],
   "source": []
  },
  {
   "cell_type": "code",
   "execution_count": null,
   "metadata": {},
   "outputs": [],
   "source": []
  },
  {
   "cell_type": "code",
   "execution_count": null,
   "metadata": {},
   "outputs": [],
   "source": []
  },
  {
   "cell_type": "code",
   "execution_count": null,
   "metadata": {},
   "outputs": [],
   "source": []
  }
 ],
 "metadata": {
  "kernelspec": {
   "display_name": "Python 3",
   "language": "python",
   "name": "python3"
  },
  "language_info": {
   "codemirror_mode": {
    "name": "ipython",
    "version": 3
   },
   "file_extension": ".py",
   "mimetype": "text/x-python",
   "name": "python",
   "nbconvert_exporter": "python",
   "pygments_lexer": "ipython3",
   "version": "3.6.9"
  }
 },
 "nbformat": 4,
 "nbformat_minor": 4
}
