{
 "cells": [
  {
   "cell_type": "markdown",
   "metadata": {},
   "source": [
    "# Multilayer Fully Connected Network with Exponential Decay Learning Rate (dropout 50% and 30%)"
   ]
  },
  {
   "cell_type": "markdown",
   "metadata": {},
   "source": [
    "## Summary of the network\n",
    ">\n",
    "> **Network structure**\n",
    "* Dropout1: (?, 4096)\n",
    "* Hidden: (?, 512)\n",
    "* Dropout2: (?, 512)\n",
    "* Hidden1: (?, 258)\n",
    "* Dropout3: (?, 258)\n",
    "* hidden2: (?, 128)\n",
    "* Dropout4: (?, 128)\n",
    "* Output: (?, 4)\n",
    "\n",
    ">\n",
    ">**Hyper-parameters**: Loss function: mean_ce + alpha*l2_term (hidden and output layer); Gradient descent Optimizer, L2 regularization (alpha: 0.05), Exponential Decay learning rate; batch size 100\n",
    ">\n",
    ">**Accuracy on test (training data set) = 0.830**"
   ]
  },
  {
   "cell_type": "markdown",
   "metadata": {},
   "source": [
    "## Import libraries"
   ]
  },
  {
   "cell_type": "code",
   "execution_count": 1,
   "metadata": {},
   "outputs": [
    {
     "name": "stderr",
     "output_type": "stream",
     "text": [
      "C:\\Users\\fbaff\\AppData\\Roaming\\Python\\Python36\\site-packages\\tensorflow\\python\\framework\\dtypes.py:458: FutureWarning: Passing (type, 1) or '1type' as a synonym of type is deprecated; in a future version of numpy, it will be understood as (type, (1,)) / '(1,)type'.\n",
      "  _np_qint8 = np.dtype([(\"qint8\", np.int8, 1)])\n",
      "C:\\Users\\fbaff\\AppData\\Roaming\\Python\\Python36\\site-packages\\tensorflow\\python\\framework\\dtypes.py:459: FutureWarning: Passing (type, 1) or '1type' as a synonym of type is deprecated; in a future version of numpy, it will be understood as (type, (1,)) / '(1,)type'.\n",
      "  _np_quint8 = np.dtype([(\"quint8\", np.uint8, 1)])\n",
      "C:\\Users\\fbaff\\AppData\\Roaming\\Python\\Python36\\site-packages\\tensorflow\\python\\framework\\dtypes.py:460: FutureWarning: Passing (type, 1) or '1type' as a synonym of type is deprecated; in a future version of numpy, it will be understood as (type, (1,)) / '(1,)type'.\n",
      "  _np_qint16 = np.dtype([(\"qint16\", np.int16, 1)])\n",
      "C:\\Users\\fbaff\\AppData\\Roaming\\Python\\Python36\\site-packages\\tensorflow\\python\\framework\\dtypes.py:461: FutureWarning: Passing (type, 1) or '1type' as a synonym of type is deprecated; in a future version of numpy, it will be understood as (type, (1,)) / '(1,)type'.\n",
      "  _np_quint16 = np.dtype([(\"quint16\", np.uint16, 1)])\n",
      "C:\\Users\\fbaff\\AppData\\Roaming\\Python\\Python36\\site-packages\\tensorflow\\python\\framework\\dtypes.py:462: FutureWarning: Passing (type, 1) or '1type' as a synonym of type is deprecated; in a future version of numpy, it will be understood as (type, (1,)) / '(1,)type'.\n",
      "  _np_qint32 = np.dtype([(\"qint32\", np.int32, 1)])\n",
      "C:\\Users\\fbaff\\AppData\\Roaming\\Python\\Python36\\site-packages\\tensorflow\\python\\framework\\dtypes.py:465: FutureWarning: Passing (type, 1) or '1type' as a synonym of type is deprecated; in a future version of numpy, it will be understood as (type, (1,)) / '(1,)type'.\n",
      "  np_resource = np.dtype([(\"resource\", np.ubyte, 1)])\n"
     ]
    }
   ],
   "source": [
    "import numpy as np\n",
    "import pandas as pd\n",
    "import seaborn as sns\n",
    "from sklearn.preprocessing import StandardScaler\n",
    "from sklearn.neighbors import KNeighborsClassifier\n",
    "from sklearn.neighbors import NearestNeighbors\n",
    "from sklearn.pipeline import Pipeline\n",
    "from sklearn.model_selection import train_test_split\n",
    "from sklearn.dummy import DummyClassifier\n",
    "from sklearn.neighbors import KNeighborsClassifier\n",
    "%matplotlib inline\n",
    "import matplotlib.pyplot as plt\n",
    "from PIL import Image\n",
    "from sklearn.preprocessing import StandardScaler\n",
    "import pickle\n",
    "from sklearn.model_selection import train_test_split\n",
    "from sklearn.pipeline import Pipeline\n",
    "from sklearn.model_selection import ParameterGrid\n",
    "\n",
    "from sklearn import datasets\n",
    "from sklearn.linear_model import LogisticRegression\n",
    "from sklearn.linear_model import SGDClassifier\n",
    "\n",
    "from sklearn.model_selection import KFold\n",
    "from sklearn.model_selection import cross_validate\n",
    "from sklearn.model_selection import ShuffleSplit\n",
    "from sklearn.model_selection import GridSearchCV\n",
    "from sklearn.linear_model import LogisticRegressionCV\n",
    "from sklearn.cluster import KMeans\n",
    "from sklearn.decomposition import PCA\n",
    "\n",
    "from sklearn.tree import DecisionTreeClassifier\n",
    "from sklearn.tree import export_graphviz\n",
    "import graphviz\n",
    "from sklearn.datasets import make_circles\n",
    "from sklearn.ensemble import RandomForestClassifier\n",
    "\n",
    "from sklearn.svm import LinearSVC\n",
    "from sklearn.svm import SVC\n",
    "\n",
    "from sklearn.metrics import confusion_matrix\n",
    "from sklearn.metrics import roc_auc_score\n",
    "from sklearn.metrics import classification_report\n",
    "from sklearn.metrics import roc_curve\n",
    "\n",
    "import tensorflow as tf\n",
    "\n",
    "import random\n",
    "from sklearn import ensemble\n",
    "\n",
    "from sklearn.model_selection import StratifiedShuffleSplit\n",
    "\n",
    "import warnings\n",
    "warnings.filterwarnings(\"ignore\")\n",
    "warnings.simplefilter(\"ignore\")\n",
    "\n",
    "# Activate Seaborn style\n",
    "sns.set()"
   ]
  },
  {
   "cell_type": "markdown",
   "metadata": {},
   "source": [
    "## Import data"
   ]
  },
  {
   "cell_type": "code",
   "execution_count": 2,
   "metadata": {},
   "outputs": [],
   "source": [
    "# Load the train npz file\n",
    "with np.load('Cifar4-train.npz', allow_pickle=False) as cifar_df:\n",
    "    # It's a dictionary-like object\n",
    "    cifar4 = dict(cifar_df.items())"
   ]
  },
  {
   "cell_type": "code",
   "execution_count": 3,
   "metadata": {},
   "outputs": [
    {
     "name": "stdout",
     "output_type": "stream",
     "text": [
      "(5000, 4096) float32\n",
      "(5000,) int64\n",
      "(4,) <U8\n"
     ]
    }
   ],
   "source": [
    "X=cifar4['overfeat']\n",
    "y=cifar4['labels']\n",
    "names=cifar4['names']\n",
    "\n",
    "print(X.shape, X.dtype)\n",
    "print(y.shape, y.dtype)\n",
    "print(names.shape, names.dtype)"
   ]
  },
  {
   "cell_type": "code",
   "execution_count": 4,
   "metadata": {},
   "outputs": [
    {
     "name": "stdout",
     "output_type": "stream",
     "text": [
      "Train: (3200, 4096) (3200,)\n",
      "Valid: (800, 4096) (800,)\n",
      "Test: (1000, 4096) (1000,)\n"
     ]
    }
   ],
   "source": [
    "# Create train set\n",
    "X_train, X_test, y_train, y_test = train_test_split(\n",
    "    # Convert uint8 pixel values to float\n",
    "    cifar4['overfeat'], cifar4['labels'],\n",
    "    test_size=1800, random_state=0)\n",
    "\n",
    "# Create validation and test sets\n",
    "X_valid, X_test, y_valid, y_test = train_test_split(\n",
    "    X_test, y_test, test_size=1000, random_state=0)\n",
    "\n",
    "# Rescale input data\n",
    "scaler = StandardScaler()\n",
    "X_train = scaler.fit_transform(X_train)\n",
    "X_valid = scaler.transform(X_valid)\n",
    "X_test = scaler.transform(X_test)\n",
    "\n",
    "print('Train:', X_train.shape, y_train.shape)\n",
    "print('Valid:', X_valid.shape, y_valid.shape)\n",
    "print('Test:', X_test.shape, y_test.shape)"
   ]
  },
  {
   "cell_type": "code",
   "execution_count": 5,
   "metadata": {},
   "outputs": [],
   "source": [
    "# Batch generator\n",
    "def get_batches(X, y, batch_size):\n",
    "    # Shuffle X,y\n",
    "    shuffled_idx = np.arange(len(y)) # 1,2,...,n\n",
    "    np.random.shuffle(shuffled_idx)\n",
    "    \n",
    "    # Enumerate indexes by steps of batch_size\n",
    "    # i: 0, b, 2b, 3b, 4b, .. where b is the batch size\n",
    "    for i in range(0, len(y), batch_size):\n",
    "        # Batch indexes\n",
    "        batch_idx = shuffled_idx[i:i+batch_size]\n",
    "        yield X[batch_idx], y[batch_idx]"
   ]
  },
  {
   "cell_type": "markdown",
   "metadata": {},
   "source": [
    "### Define the graph: Hidden, dropout and output layers"
   ]
  },
  {
   "cell_type": "code",
   "execution_count": 6,
   "metadata": {},
   "outputs": [
    {
     "name": "stdout",
     "output_type": "stream",
     "text": [
      "Dropout1: (?, 4096)\n",
      "Hidden: (?, 512)\n",
      "Dropout2: (?, 512)\n",
      "Hidden1: (?, 258)\n",
      "Dropout3: (?, 258)\n",
      "hidden2: (?, 128)\n",
      "Dropout4: (?, 128)\n",
      "Output: (?, 4)\n"
     ]
    }
   ],
   "source": [
    "# Define the graph\n",
    "graph = tf.Graph()\n",
    "\n",
    "with graph.as_default():\n",
    "    # Create placeholders\n",
    "    X = tf.placeholder(dtype=tf.float32, shape=[None, 4096])\n",
    "    y = tf.placeholder(dtype=tf.int32, shape=[None])\n",
    "    \n",
    "    # Create training placeholder for the Dropout\n",
    "    training = tf.placeholder(dtype=tf.bool)\n",
    "    \n",
    "    # Apply dropout to the input layer X with a rate of 0.5\n",
    "    dropout1 = tf.layers.dropout(\n",
    "        X, rate=0.5, seed=0, training=training)\n",
    "    print('Dropout1:', dropout1.shape)\n",
    "\n",
    "    # Hidden layer with 512 units\n",
    "    hidden = tf.layers.dense(\n",
    "        dropout1, 512, activation=tf.nn.relu, # ReLU (before X)\n",
    "        kernel_initializer=tf.variance_scaling_initializer(scale=2, seed=0),\n",
    "        bias_initializer=tf.zeros_initializer(),\n",
    "        name='hidden'\n",
    "    )\n",
    "    print('Hidden:', hidden.shape)\n",
    "    \n",
    "    # Apply dropout to the hidden layer with a rate of 0.3\n",
    "    dropout2 = tf.layers.dropout(\n",
    "        hidden, rate=0.3, seed=0, training=training)\n",
    "    print('Dropout2:', dropout2.shape)\n",
    "    \n",
    "    # Hidden 1 layer with 258 units\n",
    "    hidden1 = tf.layers.dense(\n",
    "        dropout2, 258, activation=tf.nn.relu, # ReLU\n",
    "        kernel_initializer=tf.variance_scaling_initializer(scale=2, seed=0),\n",
    "        bias_initializer=tf.zeros_initializer(),\n",
    "        name='hidden1'\n",
    "    )\n",
    "    print('Hidden1:', hidden1.shape)\n",
    "    \n",
    "    # Apply dropout to the hidden 1 layer with a rate of 0.3\n",
    "    dropout3 = tf.layers.dropout(\n",
    "        hidden1, rate=0.3, seed=0, training=training)\n",
    "    print('Dropout3:', dropout3.shape)\n",
    "    \n",
    "    # Hidden 2 layer with 128 units\n",
    "    hidden2 = tf.layers.dense(\n",
    "        dropout3, 128, activation=tf.nn.relu, # ReLU\n",
    "        kernel_initializer=tf.variance_scaling_initializer(scale=2, seed=0),\n",
    "        bias_initializer=tf.zeros_initializer(),\n",
    "        name='hidden2'\n",
    "    )\n",
    "    print('hidden2:', hidden2.shape)\n",
    "    \n",
    "    # Apply dropout to the hidden 2 layer with a rate of 0.5\n",
    "    dropout4 = tf.layers.dropout(\n",
    "        hidden2, rate=0.5, seed=0, training=training)\n",
    "    print('Dropout4:', dropout4.shape)\n",
    "\n",
    "    # Output layer with 4 units\n",
    "    logits = tf.layers.dense(\n",
    "        dropout4, 4, activation=None, # No activation function\n",
    "        kernel_initializer=tf.variance_scaling_initializer(scale=1, seed=0),\n",
    "        bias_initializer=tf.zeros_initializer(),\n",
    "        name='output'\n",
    "    )\n",
    "    print('Output:', logits.shape)"
   ]
  },
  {
   "cell_type": "markdown",
   "metadata": {},
   "source": [
    "### Inspect variables"
   ]
  },
  {
   "cell_type": "code",
   "execution_count": 7,
   "metadata": {},
   "outputs": [
    {
     "name": "stdout",
     "output_type": "stream",
     "text": [
      "<tf.Variable 'hidden/kernel:0' shape=(4096, 512) dtype=float32_ref>\n",
      "<tf.Variable 'hidden/bias:0' shape=(512,) dtype=float32_ref>\n",
      "<tf.Variable 'hidden1/kernel:0' shape=(512, 258) dtype=float32_ref>\n",
      "<tf.Variable 'hidden1/bias:0' shape=(258,) dtype=float32_ref>\n",
      "<tf.Variable 'hidden2/kernel:0' shape=(258, 128) dtype=float32_ref>\n",
      "<tf.Variable 'hidden2/bias:0' shape=(128,) dtype=float32_ref>\n",
      "<tf.Variable 'output/kernel:0' shape=(128, 4) dtype=float32_ref>\n",
      "<tf.Variable 'output/bias:0' shape=(4,) dtype=float32_ref>\n"
     ]
    }
   ],
   "source": [
    "with graph.as_default():\n",
    "    # Get variables in the graph\n",
    "    for v in tf.trainable_variables():\n",
    "        print(v)"
   ]
  },
  {
   "cell_type": "markdown",
   "metadata": {},
   "source": [
    "### Define the graph: Hidden/output layer weights + Loss function with exponential decay learning rate"
   ]
  },
  {
   "cell_type": "code",
   "execution_count": 8,
   "metadata": {},
   "outputs": [],
   "source": [
    "with graph.as_default():\n",
    "    \n",
    "    # Hidden layer weights\n",
    "    with tf.variable_scope('hidden', reuse=True):\n",
    "        W1 = tf.get_variable('kernel')\n",
    "    \n",
    "    # Output layer weight\n",
    "    with tf.variable_scope('output', reuse=True):\n",
    "        W2 = tf.get_variable('kernel')\n",
    "    \n",
    "    # L2 term\n",
    "    l2_term = tf.nn.l2_loss(W1) + tf.nn.l2_loss(W2)\n",
    "\n",
    "    # Regularization strength\n",
    "    alpha = tf.placeholder(dtype=tf.float32)\n",
    "\n",
    "    # Loss fuction: mean cross-entropy\n",
    "    mean_ce = tf.reduce_mean(\n",
    "        tf.nn.sparse_softmax_cross_entropy_with_logits(\n",
    "            labels=y, logits=logits))\n",
    "    \n",
    "    loss = mean_ce + alpha*l2_term\n",
    "    \n",
    "    # Define the parameters of the decayed learning rate\n",
    "    global_step = tf.Variable(0, trainable=False)\n",
    "    starter_learning_rate = 0.01\n",
    "    learning_rate = tf.train.exponential_decay(starter_learning_rate, global_step,\n",
    "                                           100000, 0.9, staircase=True)\n",
    "    \n",
    "    # Passing global_step to minimize() will increment it at each step.\n",
    "    learning_step = tf.train.GradientDescentOptimizer(learning_rate)    \n",
    "\n",
    "    # Minimize cross-entropy\n",
    "    train_op = learning_step.minimize(loss, global_step=global_step)\n",
    "\n",
    "    # Compute predictions and accuracy\n",
    "    predictions = tf.argmax(logits, axis=1, output_type=tf.int32)\n",
    "    is_correct = tf.equal(y, predictions)\n",
    "    accuracy = tf.reduce_mean(tf.cast(is_correct, dtype=tf.float32))"
   ]
  },
  {
   "cell_type": "code",
   "execution_count": 9,
   "metadata": {},
   "outputs": [
    {
     "name": "stdout",
     "output_type": "stream",
     "text": [
      "Epoch 1 - valid: 0.673 train: 0.370 (mean)\n",
      "Epoch 2 - valid: 0.734 train: 0.491 (mean)\n",
      "Epoch 3 - valid: 0.757 train: 0.565 (mean)\n",
      "Epoch 4 - valid: 0.770 train: 0.625 (mean)\n",
      "Epoch 5 - valid: 0.772 train: 0.655 (mean)\n",
      "Epoch 6 - valid: 0.791 train: 0.685 (mean)\n",
      "Epoch 7 - valid: 0.793 train: 0.696 (mean)\n",
      "Epoch 8 - valid: 0.804 train: 0.721 (mean)\n",
      "Epoch 9 - valid: 0.812 train: 0.732 (mean)\n",
      "Epoch 10 - valid: 0.814 train: 0.744 (mean)\n",
      "Epoch 11 - valid: 0.816 train: 0.748 (mean)\n",
      "Epoch 12 - valid: 0.814 train: 0.759 (mean)\n",
      "Epoch 13 - valid: 0.819 train: 0.772 (mean)\n",
      "Epoch 14 - valid: 0.815 train: 0.776 (mean)\n",
      "Epoch 15 - valid: 0.815 train: 0.782 (mean)\n",
      "Epoch 16 - valid: 0.809 train: 0.786 (mean)\n",
      "Epoch 17 - valid: 0.815 train: 0.792 (mean)\n",
      "Epoch 18 - valid: 0.816 train: 0.798 (mean)\n",
      "Epoch 19 - valid: 0.817 train: 0.801 (mean)\n",
      "Epoch 20 - valid: 0.817 train: 0.800 (mean)\n",
      "Epoch 21 - valid: 0.817 train: 0.810 (mean)\n",
      "Epoch 22 - valid: 0.817 train: 0.813 (mean)\n",
      "Epoch 23 - valid: 0.817 train: 0.821 (mean)\n",
      "Epoch 24 - valid: 0.821 train: 0.813 (mean)\n",
      "Epoch 25 - valid: 0.824 train: 0.818 (mean)\n",
      "Epoch 26 - valid: 0.821 train: 0.826 (mean)\n",
      "Epoch 27 - valid: 0.827 train: 0.827 (mean)\n",
      "Epoch 28 - valid: 0.826 train: 0.830 (mean)\n",
      "Epoch 29 - valid: 0.821 train: 0.827 (mean)\n",
      "Epoch 30 - valid: 0.820 train: 0.830 (mean)\n",
      "Epoch 31 - valid: 0.822 train: 0.834 (mean)\n",
      "Epoch 32 - valid: 0.820 train: 0.832 (mean)\n",
      "Epoch 33 - valid: 0.822 train: 0.842 (mean)\n",
      "Epoch 34 - valid: 0.826 train: 0.842 (mean)\n",
      "Epoch 35 - valid: 0.825 train: 0.851 (mean)\n",
      "Epoch 36 - valid: 0.827 train: 0.854 (mean)\n",
      "Epoch 37 - valid: 0.825 train: 0.853 (mean)\n",
      "Epoch 38 - valid: 0.829 train: 0.855 (mean)\n",
      "Epoch 39 - valid: 0.826 train: 0.855 (mean)\n",
      "Epoch 40 - valid: 0.822 train: 0.856 (mean)\n",
      "Epoch 41 - valid: 0.826 train: 0.855 (mean)\n",
      "Epoch 42 - valid: 0.830 train: 0.866 (mean)\n",
      "Epoch 43 - valid: 0.827 train: 0.865 (mean)\n",
      "Epoch 44 - valid: 0.824 train: 0.873 (mean)\n",
      "Epoch 45 - valid: 0.829 train: 0.876 (mean)\n",
      "Epoch 46 - valid: 0.827 train: 0.863 (mean)\n",
      "Epoch 47 - valid: 0.826 train: 0.874 (mean)\n",
      "Epoch 48 - valid: 0.830 train: 0.872 (mean)\n",
      "Epoch 49 - valid: 0.832 train: 0.871 (mean)\n",
      "Epoch 50 - valid: 0.831 train: 0.872 (mean)\n",
      "Test accuracy: 0.831\n"
     ]
    }
   ],
   "source": [
    "# Validation accuracy\n",
    "valid_acc_values = []\n",
    "\n",
    "with tf.Session(graph=graph) as sess:\n",
    "    # Initialize variables\n",
    "    sess.run(tf.global_variables_initializer())\n",
    "\n",
    "    # Set seed\n",
    "    np.random.seed(0)\n",
    "\n",
    "    # Train several epochs\n",
    "    for epoch in range(50):\n",
    "        # Accuracy values (train) after each batch\n",
    "        batch_acc = []\n",
    "\n",
    "        # Get batches of data\n",
    "        for X_batch, y_batch in get_batches(X_train, y_train, 100):\n",
    "            # Run training and evaluate accuracy\n",
    "            _, acc_value = sess.run([train_op, accuracy], feed_dict={\n",
    "                X: X_batch,\n",
    "                y: y_batch,\n",
    "                training: True, # Apply dropout\n",
    "                alpha: 0.05 # Regularization strength\n",
    "            })\n",
    "\n",
    "            # Save accuracy (current batch)\n",
    "            batch_acc.append(acc_value)\n",
    "\n",
    "        # Evaluate validation accuracy\n",
    "        valid_acc = sess.run(accuracy, feed_dict={\n",
    "            X: X_valid,\n",
    "            y: y_valid,\n",
    "            training: False # Do not apply dropout\n",
    "        })\n",
    "        valid_acc_values.append(valid_acc)\n",
    "\n",
    "        # Print progress\n",
    "        print('Epoch {} - valid: {:.3f} train: {:.3f} (mean)'.format(\n",
    "            epoch+1, valid_acc, np.mean(batch_acc)\n",
    "        ))\n",
    "        \n",
    "        # Evaluate test accuracy\n",
    "    test_acc = sess.run(accuracy, feed_dict={\n",
    "        X: X_test,\n",
    "        y: y_test,\n",
    "        training: False # Do not apply dropout\n",
    "    })\n",
    "    print('Test accuracy: {:.3f}'.format(test_acc))\n",
    "\n",
    "    # Weights of the hidden and output layers\n",
    "    weights_hidden = W1.eval()\n",
    "    weights_output = W2.eval()"
   ]
  },
  {
   "cell_type": "markdown",
   "metadata": {},
   "source": [
    "### Plot the accuracy"
   ]
  },
  {
   "cell_type": "code",
   "execution_count": 10,
   "metadata": {},
   "outputs": [
    {
     "data": {
      "image/png": "[encoded data removed]",
      "text/plain": [
       "<Figure size 432x288 with 1 Axes>"
      ]
     },
     "metadata": {
      "needs_background": "light"
     },
     "output_type": "display_data"
    }
   ],
   "source": [
    "# Plot accuracy values\n",
    "plt.plot(valid_acc_values)\n",
    "plt.title('Validation accuracy {:.3f} (mean last 3)'.format(\n",
    "    np.mean(valid_acc_values[-3:]) # last three values\n",
    "))\n",
    "plt.xlabel('epoch')\n",
    "plt.ylabel('accuracy')\n",
    "plt.show()"
   ]
  },
  {
   "cell_type": "code",
   "execution_count": 12,
   "metadata": {},
   "outputs": [
    {
     "name": "stdout",
     "output_type": "stream",
     "text": [
      "Stored 'three_hidden_decaylr_Network' (float)\n"
     ]
    }
   ],
   "source": [
    "#Save the accuracy of the Best Multilayer Fully Connected Network (3 hidden layers, exp. decay lr)\n",
    "three_hidden_decaylr_Network=0.831\n",
    "%store three_hidden_decaylr_Network"
   ]
  },
  {
   "cell_type": "code",
   "execution_count": null,
   "metadata": {},
   "outputs": [],
   "source": []
  },
  {
   "cell_type": "code",
   "execution_count": null,
   "metadata": {},
   "outputs": [],
   "source": []
  },
  {
   "cell_type": "code",
   "execution_count": null,
   "metadata": {},
   "outputs": [],
   "source": []
  },
  {
   "cell_type": "code",
   "execution_count": null,
   "metadata": {},
   "outputs": [],
   "source": []
  },
  {
   "cell_type": "code",
   "execution_count": null,
   "metadata": {},
   "outputs": [],
   "source": []
  },
  {
   "cell_type": "code",
   "execution_count": null,
   "metadata": {},
   "outputs": [],
   "source": []
  }
 ],
 "metadata": {
  "kernelspec": {
   "display_name": "Python 3",
   "language": "python",
   "name": "python3"
  },
  "language_info": {
   "codemirror_mode": {
    "name": "ipython",
    "version": 3
   },
   "file_extension": ".py",
   "mimetype": "text/x-python",
   "name": "python",
   "nbconvert_exporter": "python",
   "pygments_lexer": "ipython3",
   "version": "3.6.9"
  }
 },
 "nbformat": 4,
 "nbformat_minor": 4
}
