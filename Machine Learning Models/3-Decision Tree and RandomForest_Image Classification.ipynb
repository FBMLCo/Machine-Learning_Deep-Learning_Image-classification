{
 "cells": [
  {
   "cell_type": "markdown",
   "metadata": {},
   "source": [
    "# Decision Tree, RandomForest and Gradient Boosting Classifier"
   ]
  },
  {
   "cell_type": "markdown",
   "metadata": {},
   "source": [
    "## Overall approach\n",
    "> * Split dataset is Train, Validation and Test\n",
    "### For each model\n",
    "> * Create a pipeline\n",
    "* Define key hyperparameters to be optimized\n",
    "* Find the best combination of hyperparameters\n",
    "* Plot the accuracy on test and validation dataset\n",
    "### Conclusion\n",
    "> * Apply Best Model from each class to the master Train/Test datasets\n",
    "* Save results for further comparison and decision"
   ]
  },
  {
   "cell_type": "markdown",
   "metadata": {},
   "source": [
    "## Import libraries"
   ]
  },
  {
   "cell_type": "code",
   "execution_count": 1,
   "metadata": {
    "collapsed": true,
    "jupyter": {
     "outputs_hidden": true
    }
   },
   "outputs": [
    {
     "name": "stderr",
     "output_type": "stream",
     "text": [
      "C:\\Users\\fbaff\\AppData\\Roaming\\Python\\Python36\\site-packages\\tensorflow\\python\\framework\\dtypes.py:458: FutureWarning: Passing (type, 1) or '1type' as a synonym of type is deprecated; in a future version of numpy, it will be understood as (type, (1,)) / '(1,)type'.\n",
      "  _np_qint8 = np.dtype([(\"qint8\", np.int8, 1)])\n",
      "C:\\Users\\fbaff\\AppData\\Roaming\\Python\\Python36\\site-packages\\tensorflow\\python\\framework\\dtypes.py:459: FutureWarning: Passing (type, 1) or '1type' as a synonym of type is deprecated; in a future version of numpy, it will be understood as (type, (1,)) / '(1,)type'.\n",
      "  _np_quint8 = np.dtype([(\"quint8\", np.uint8, 1)])\n",
      "C:\\Users\\fbaff\\AppData\\Roaming\\Python\\Python36\\site-packages\\tensorflow\\python\\framework\\dtypes.py:460: FutureWarning: Passing (type, 1) or '1type' as a synonym of type is deprecated; in a future version of numpy, it will be understood as (type, (1,)) / '(1,)type'.\n",
      "  _np_qint16 = np.dtype([(\"qint16\", np.int16, 1)])\n",
      "C:\\Users\\fbaff\\AppData\\Roaming\\Python\\Python36\\site-packages\\tensorflow\\python\\framework\\dtypes.py:461: FutureWarning: Passing (type, 1) or '1type' as a synonym of type is deprecated; in a future version of numpy, it will be understood as (type, (1,)) / '(1,)type'.\n",
      "  _np_quint16 = np.dtype([(\"quint16\", np.uint16, 1)])\n",
      "C:\\Users\\fbaff\\AppData\\Roaming\\Python\\Python36\\site-packages\\tensorflow\\python\\framework\\dtypes.py:462: FutureWarning: Passing (type, 1) or '1type' as a synonym of type is deprecated; in a future version of numpy, it will be understood as (type, (1,)) / '(1,)type'.\n",
      "  _np_qint32 = np.dtype([(\"qint32\", np.int32, 1)])\n",
      "C:\\Users\\fbaff\\AppData\\Roaming\\Python\\Python36\\site-packages\\tensorflow\\python\\framework\\dtypes.py:465: FutureWarning: Passing (type, 1) or '1type' as a synonym of type is deprecated; in a future version of numpy, it will be understood as (type, (1,)) / '(1,)type'.\n",
      "  np_resource = np.dtype([(\"resource\", np.ubyte, 1)])\n"
     ]
    }
   ],
   "source": [
    "import numpy as np\n",
    "import pandas as pd\n",
    "import seaborn as sns\n",
    "from sklearn.preprocessing import StandardScaler\n",
    "from sklearn.neighbors import KNeighborsClassifier\n",
    "from sklearn.neighbors import NearestNeighbors\n",
    "from sklearn.pipeline import Pipeline\n",
    "from sklearn.model_selection import train_test_split\n",
    "from sklearn.dummy import DummyClassifier\n",
    "from sklearn.neighbors import KNeighborsClassifier\n",
    "%matplotlib inline\n",
    "import matplotlib.pyplot as plt\n",
    "from PIL import Image\n",
    "from sklearn.preprocessing import StandardScaler\n",
    "import pickle\n",
    "from sklearn.model_selection import train_test_split\n",
    "from sklearn.pipeline import Pipeline\n",
    "from sklearn.model_selection import ParameterGrid\n",
    "\n",
    "from sklearn import datasets\n",
    "from sklearn.linear_model import LogisticRegression\n",
    "\n",
    "from sklearn.model_selection import KFold\n",
    "from sklearn.model_selection import cross_validate\n",
    "from sklearn.model_selection import ShuffleSplit\n",
    "from sklearn.model_selection import GridSearchCV\n",
    "from sklearn.linear_model import LogisticRegressionCV\n",
    "from sklearn.cluster import KMeans\n",
    "from sklearn.decomposition import PCA\n",
    "\n",
    "from sklearn.tree import DecisionTreeClassifier\n",
    "from sklearn.tree import export_graphviz\n",
    "import graphviz\n",
    "from sklearn.datasets import make_circles\n",
    "from sklearn.ensemble import RandomForestClassifier\n",
    "\n",
    "from sklearn.svm import LinearSVC\n",
    "from sklearn.svm import SVC\n",
    "\n",
    "from sklearn.metrics import confusion_matrix\n",
    "from sklearn.metrics import roc_auc_score\n",
    "from sklearn.metrics import classification_report\n",
    "from sklearn.metrics import roc_curve\n",
    "\n",
    "import tensorflow as tf\n",
    "\n",
    "import random\n",
    "from sklearn import ensemble\n",
    "\n",
    "import warnings\n",
    "warnings.filterwarnings(\"ignore\")\n",
    "\n",
    "# Activate Seaborn style\n",
    "sns.set()"
   ]
  },
  {
   "cell_type": "markdown",
   "metadata": {},
   "source": [
    "## Import data"
   ]
  },
  {
   "cell_type": "code",
   "execution_count": 2,
   "metadata": {},
   "outputs": [],
   "source": [
    "# Load the npz file\n",
    "with np.load('C:/Users/fbaff/EPFL ML Python/4- Machine Learning 2/ML 2 Project/Cifar4-train.npz', allow_pickle=False) as cifar_df:\n",
    "    # It's a dictionary-like object\n",
    "    cifar4 = dict(cifar_df.items())"
   ]
  },
  {
   "cell_type": "markdown",
   "metadata": {},
   "source": [
    "## Create X/y arrays"
   ]
  },
  {
   "cell_type": "code",
   "execution_count": 3,
   "metadata": {},
   "outputs": [
    {
     "name": "stdout",
     "output_type": "stream",
     "text": [
      "(5000, 4096) float32\n",
      "(5000,) int64\n",
      "(4,) <U8\n"
     ]
    }
   ],
   "source": [
    "X=cifar4['overfeat']\n",
    "y=cifar4['labels']\n",
    "names=cifar4['names']\n",
    "\n",
    "print(X.shape, X.dtype)\n",
    "print(y.shape, y.dtype)\n",
    "print(names.shape, names.dtype)"
   ]
  },
  {
   "cell_type": "markdown",
   "metadata": {},
   "source": [
    "## Split data into Train/Test sets"
   ]
  },
  {
   "cell_type": "code",
   "execution_count": 4,
   "metadata": {},
   "outputs": [
    {
     "name": "stdout",
     "output_type": "stream",
     "text": [
      "Train: (4000, 4096) (4000,)\n",
      "Test: (1000, 4096) (1000,)\n",
      "Train2: (3200, 4096) (3200,)\n",
      "Valid: (800, 4096) (800,)\n"
     ]
    }
   ],
   "source": [
    "# Convert the type of the input matrix to float\n",
    "X = X.astype(np.float)\n",
    "\n",
    "# Create train set\n",
    "X_tr_main, X_test, y_tr_main, y_test = train_test_split(X,\n",
    "    y,\n",
    "    test_size=1000, random_state=0)\n",
    "\n",
    "# Create validation and test sets\n",
    "X_tr_2nd, X_valid, y_tr_2nd, y_valid = train_test_split(\n",
    "    X_tr_main, y_tr_main, test_size=800, random_state=0)\n",
    "\n",
    "print('Train:', X_tr_main.shape, y_tr_main.shape)\n",
    "print('Test:', X_test.shape, y_test.shape)\n",
    "print('Train2:', X_tr_2nd.shape, y_tr_2nd.shape)\n",
    "print('Valid:', X_valid.shape, y_valid.shape)"
   ]
  },
  {
   "cell_type": "markdown",
   "metadata": {},
   "source": [
    "## Create a pipeline for DecisionTreeClassifier"
   ]
  },
  {
   "cell_type": "code",
   "execution_count": 5,
   "metadata": {},
   "outputs": [],
   "source": [
    "# Create Decision Tree pipeline\n",
    "pipe = Pipeline([\n",
    "    ('scaler', StandardScaler()), # with standardization StandardScaler()\n",
    "    ('PCA', PCA(n_components=175)), # 175 components to explain 90% of the variance (ref. Data Exploration section)\n",
    "    ('clf', DecisionTreeClassifier(random_state=0))   \n",
    "])"
   ]
  },
  {
   "cell_type": "code",
   "execution_count": 6,
   "metadata": {},
   "outputs": [
    {
     "data": {
      "text/plain": [
       "{'memory': None,\n",
       " 'steps': [('scaler',\n",
       "   StandardScaler(copy=True, with_mean=True, with_std=True)),\n",
       "  ('PCA',\n",
       "   PCA(copy=True, iterated_power='auto', n_components=175, random_state=None,\n",
       "       svd_solver='auto', tol=0.0, whiten=False)),\n",
       "  ('clf',\n",
       "   DecisionTreeClassifier(class_weight=None, criterion='gini', max_depth=None,\n",
       "                          max_features=None, max_leaf_nodes=None,\n",
       "                          min_impurity_decrease=0.0, min_impurity_split=None,\n",
       "                          min_samples_leaf=1, min_samples_split=2,\n",
       "                          min_weight_fraction_leaf=0.0, presort=False,\n",
       "                          random_state=0, splitter='best'))],\n",
       " 'verbose': False,\n",
       " 'scaler': StandardScaler(copy=True, with_mean=True, with_std=True),\n",
       " 'PCA': PCA(copy=True, iterated_power='auto', n_components=175, random_state=None,\n",
       "     svd_solver='auto', tol=0.0, whiten=False),\n",
       " 'clf': DecisionTreeClassifier(class_weight=None, criterion='gini', max_depth=None,\n",
       "                        max_features=None, max_leaf_nodes=None,\n",
       "                        min_impurity_decrease=0.0, min_impurity_split=None,\n",
       "                        min_samples_leaf=1, min_samples_split=2,\n",
       "                        min_weight_fraction_leaf=0.0, presort=False,\n",
       "                        random_state=0, splitter='best'),\n",
       " 'scaler__copy': True,\n",
       " 'scaler__with_mean': True,\n",
       " 'scaler__with_std': True,\n",
       " 'PCA__copy': True,\n",
       " 'PCA__iterated_power': 'auto',\n",
       " 'PCA__n_components': 175,\n",
       " 'PCA__random_state': None,\n",
       " 'PCA__svd_solver': 'auto',\n",
       " 'PCA__tol': 0.0,\n",
       " 'PCA__whiten': False,\n",
       " 'clf__class_weight': None,\n",
       " 'clf__criterion': 'gini',\n",
       " 'clf__max_depth': None,\n",
       " 'clf__max_features': None,\n",
       " 'clf__max_leaf_nodes': None,\n",
       " 'clf__min_impurity_decrease': 0.0,\n",
       " 'clf__min_impurity_split': None,\n",
       " 'clf__min_samples_leaf': 1,\n",
       " 'clf__min_samples_split': 2,\n",
       " 'clf__min_weight_fraction_leaf': 0.0,\n",
       " 'clf__presort': False,\n",
       " 'clf__random_state': 0,\n",
       " 'clf__splitter': 'best'}"
      ]
     },
     "execution_count": 6,
     "metadata": {},
     "output_type": "execute_result"
    }
   ],
   "source": [
    "pipe.get_params()"
   ]
  },
  {
   "cell_type": "markdown",
   "metadata": {},
   "source": [
    "### Define key parameters for the Decision Tree Classifier"
   ]
  },
  {
   "cell_type": "code",
   "execution_count": 7,
   "metadata": {},
   "outputs": [
    {
     "name": "stdout",
     "output_type": "stream",
     "text": [
      "Number of combinations: 10\n"
     ]
    }
   ],
   "source": [
    "# Grid of parameters\n",
    "grid = ParameterGrid({\n",
    "    'clf__max_depth': [2,3,5,7,10,12,15,20,30,40], # depth of trees\n",
    "    'clf__criterion': ['gini'], # quality of the split (# remove entropy)\n",
    "})\n",
    "\n",
    "# Print the number of combinations\n",
    "print('Number of combinations:', len(grid))"
   ]
  },
  {
   "cell_type": "markdown",
   "metadata": {},
   "source": [
    "### Run the Decision Tree model on sub-train data set (3200 data points) and test accuracy on the validation data set (800 data points)"
   ]
  },
  {
   "cell_type": "code",
   "execution_count": 8,
   "metadata": {},
   "outputs": [
    {
     "name": "stdout",
     "output_type": "stream",
     "text": [
      "Combination 1/10\n",
      "Combination 2/10\n",
      "Combination 3/10\n",
      "Combination 4/10\n",
      "Combination 5/10\n",
      "Combination 6/10\n",
      "Combination 7/10\n",
      "Combination 8/10\n",
      "Combination 9/10\n",
      "Combination 10/10\n",
      "done\n"
     ]
    }
   ],
   "source": [
    "#  Save accuracy on train and validation sets\n",
    "train_scores=[]\n",
    "valid_scores = []\n",
    "\n",
    "# Enumerate combinations starting from 1\n",
    "for i, params_dict in enumerate(grid, 1):\n",
    "    # Print progress\n",
    "    print('Combination {}/{}'.format(\n",
    "        i, len(grid) # Total number of combinations\n",
    "    ))\n",
    "    \n",
    "    # Set parameters\n",
    "    pipe.set_params(**params_dict)\n",
    "\n",
    "    # Fit a Decision Tree classifier\n",
    "    pipe.fit(X_tr_2nd, y_tr_2nd) # Train2 3200 data points\n",
    "\n",
    "    # Save accuracy on validation set   \n",
    "    params_dict['accuracy_train']= pipe.score(X_tr_2nd, y_tr_2nd)\n",
    "    params_dict['accuracy_valid'] = pipe.score(X_valid, y_valid)\n",
    "    \n",
    "    # Save result\n",
    "    train_scores.append(params_dict)\n",
    "    valid_scores.append(params_dict)\n",
    "\n",
    "print('done')"
   ]
  },
  {
   "cell_type": "code",
   "execution_count": 9,
   "metadata": {},
   "outputs": [
    {
     "data": {
      "text/html": [
       "<div>\n",
       "<style scoped>\n",
       "    .dataframe tbody tr th:only-of-type {\n",
       "        vertical-align: middle;\n",
       "    }\n",
       "\n",
       "    .dataframe tbody tr th {\n",
       "        vertical-align: top;\n",
       "    }\n",
       "\n",
       "    .dataframe thead th {\n",
       "        text-align: right;\n",
       "    }\n",
       "</style>\n",
       "<table border=\"1\" class=\"dataframe\">\n",
       "  <thead>\n",
       "    <tr style=\"text-align: right;\">\n",
       "      <th></th>\n",
       "      <th>clf__criterion</th>\n",
       "      <th>clf__max_depth</th>\n",
       "      <th>accuracy_train</th>\n",
       "      <th>accuracy_valid</th>\n",
       "    </tr>\n",
       "  </thead>\n",
       "  <tbody>\n",
       "    <tr>\n",
       "      <th>2</th>\n",
       "      <td>gini</td>\n",
       "      <td>5</td>\n",
       "      <td>0.721562</td>\n",
       "      <td>0.66375</td>\n",
       "    </tr>\n",
       "    <tr>\n",
       "      <th>3</th>\n",
       "      <td>gini</td>\n",
       "      <td>7</td>\n",
       "      <td>0.816875</td>\n",
       "      <td>0.63375</td>\n",
       "    </tr>\n",
       "    <tr>\n",
       "      <th>1</th>\n",
       "      <td>gini</td>\n",
       "      <td>3</td>\n",
       "      <td>0.662813</td>\n",
       "      <td>0.62875</td>\n",
       "    </tr>\n",
       "    <tr>\n",
       "      <th>0</th>\n",
       "      <td>gini</td>\n",
       "      <td>2</td>\n",
       "      <td>0.617500</td>\n",
       "      <td>0.60875</td>\n",
       "    </tr>\n",
       "    <tr>\n",
       "      <th>5</th>\n",
       "      <td>gini</td>\n",
       "      <td>12</td>\n",
       "      <td>0.970625</td>\n",
       "      <td>0.59875</td>\n",
       "    </tr>\n",
       "    <tr>\n",
       "      <th>4</th>\n",
       "      <td>gini</td>\n",
       "      <td>10</td>\n",
       "      <td>0.940625</td>\n",
       "      <td>0.59500</td>\n",
       "    </tr>\n",
       "    <tr>\n",
       "      <th>6</th>\n",
       "      <td>gini</td>\n",
       "      <td>15</td>\n",
       "      <td>0.986875</td>\n",
       "      <td>0.59500</td>\n",
       "    </tr>\n",
       "    <tr>\n",
       "      <th>7</th>\n",
       "      <td>gini</td>\n",
       "      <td>20</td>\n",
       "      <td>0.995938</td>\n",
       "      <td>0.58625</td>\n",
       "    </tr>\n",
       "    <tr>\n",
       "      <th>9</th>\n",
       "      <td>gini</td>\n",
       "      <td>40</td>\n",
       "      <td>1.000000</td>\n",
       "      <td>0.57375</td>\n",
       "    </tr>\n",
       "    <tr>\n",
       "      <th>8</th>\n",
       "      <td>gini</td>\n",
       "      <td>30</td>\n",
       "      <td>1.000000</td>\n",
       "      <td>0.54750</td>\n",
       "    </tr>\n",
       "  </tbody>\n",
       "</table>\n",
       "</div>"
      ],
      "text/plain": [
       "  clf__criterion  clf__max_depth  accuracy_train  accuracy_valid\n",
       "2           gini               5        0.721562         0.66375\n",
       "3           gini               7        0.816875         0.63375\n",
       "1           gini               3        0.662813         0.62875\n",
       "0           gini               2        0.617500         0.60875\n",
       "5           gini              12        0.970625         0.59875\n",
       "4           gini              10        0.940625         0.59500\n",
       "6           gini              15        0.986875         0.59500\n",
       "7           gini              20        0.995938         0.58625\n",
       "9           gini              40        1.000000         0.57375\n",
       "8           gini              30        1.000000         0.54750"
      ]
     },
     "execution_count": 9,
     "metadata": {},
     "output_type": "execute_result"
    }
   ],
   "source": [
    "# Create DataFrame with test scores\n",
    "scores_df = pd.DataFrame(valid_scores)\n",
    "# Print scores\n",
    "scores_df.sort_values(by='accuracy_valid', ascending=False)"
   ]
  },
  {
   "cell_type": "markdown",
   "metadata": {},
   "source": [
    "#### Find the best combination of parameters"
   ]
  },
  {
   "cell_type": "code",
   "execution_count": 10,
   "metadata": {},
   "outputs": [
    {
     "name": "stdout",
     "output_type": "stream",
     "text": [
      "Top validation accuracy on set 2\n",
      "Accuracy on validation set 0.664\n",
      "Decision tree with depth 5\n"
     ]
    }
   ],
   "source": [
    "# Find best combination\n",
    "idx = np.argmax(scores_df['accuracy_valid'])\n",
    "print('Top validation accuracy on set {:}'.format(idx))\n",
    "\n",
    "print('Accuracy on validation set {:.3f}'.format(\n",
    "     scores_df.accuracy_valid[idx]\n",
    "     ))\n",
    "\n",
    "# Print depth of tree for the best combination\n",
    "print('Decision tree with depth {:}'.format(\n",
    "    scores_df.clf__max_depth[idx], \n",
    "))\n"
   ]
  },
  {
   "cell_type": "markdown",
   "metadata": {},
   "source": [
    "#### Plot accuracy for train and validation data sets"
   ]
  },
  {
   "cell_type": "code",
   "execution_count": 11,
   "metadata": {},
   "outputs": [
    {
     "data": {
      "image/png": "[encoded data removed]",
      "text/plain": [
       "<Figure size 432x288 with 1 Axes>"
      ]
     },
     "metadata": {
      "needs_background": "light"
     },
     "output_type": "display_data"
    }
   ],
   "source": [
    "# Plot accuracy values\n",
    "plt.plot(scores_df['accuracy_train'], label='train')\n",
    "plt.plot(scores_df['accuracy_valid'], label='validation')\n",
    "plt.title('Validation accuracy')\n",
    "plt.xlabel('# of the model')\n",
    "plt.ylabel('accuracy')\n",
    "plt.legend()\n",
    "plt.show()"
   ]
  },
  {
   "cell_type": "markdown",
   "metadata": {},
   "source": [
    "### Conclusions about Decision Tree\n",
    "* **Best results: Accuracy on valid set = 0.66 with Gini quality of split and tree depth of 5 (StandardScaler and PCA explaining 90% of the variance have been applied)**\n",
    "* **Selected model is the one being the best in terms of generalization as both validation/train curves are the closest among all tested decion tree models**"
   ]
  },
  {
   "cell_type": "markdown",
   "metadata": {},
   "source": [
    "## Create a classifier for Random Forest"
   ]
  },
  {
   "cell_type": "code",
   "execution_count": 12,
   "metadata": {},
   "outputs": [],
   "source": [
    "# Create Random Forest pipeline\n",
    "pipe2 = Pipeline([\n",
    "    ('scaler', StandardScaler()), # with standardization StandardScaler()\n",
    "    ('PCA', PCA(n_components=175)), # 175 components to explain 90% of the variance (ref. Data Exploration section)\n",
    "    ('rf', RandomForestClassifier(n_jobs=-1, random_state=0))  \n",
    "])"
   ]
  },
  {
   "cell_type": "code",
   "execution_count": 13,
   "metadata": {},
   "outputs": [
    {
     "data": {
      "text/plain": [
       "{'memory': None,\n",
       " 'steps': [('scaler',\n",
       "   StandardScaler(copy=True, with_mean=True, with_std=True)),\n",
       "  ('PCA',\n",
       "   PCA(copy=True, iterated_power='auto', n_components=175, random_state=None,\n",
       "       svd_solver='auto', tol=0.0, whiten=False)),\n",
       "  ('rf',\n",
       "   RandomForestClassifier(bootstrap=True, class_weight=None, criterion='gini',\n",
       "                          max_depth=None, max_features='auto', max_leaf_nodes=None,\n",
       "                          min_impurity_decrease=0.0, min_impurity_split=None,\n",
       "                          min_samples_leaf=1, min_samples_split=2,\n",
       "                          min_weight_fraction_leaf=0.0, n_estimators='warn',\n",
       "                          n_jobs=-1, oob_score=False, random_state=0, verbose=0,\n",
       "                          warm_start=False))],\n",
       " 'verbose': False,\n",
       " 'scaler': StandardScaler(copy=True, with_mean=True, with_std=True),\n",
       " 'PCA': PCA(copy=True, iterated_power='auto', n_components=175, random_state=None,\n",
       "     svd_solver='auto', tol=0.0, whiten=False),\n",
       " 'rf': RandomForestClassifier(bootstrap=True, class_weight=None, criterion='gini',\n",
       "                        max_depth=None, max_features='auto', max_leaf_nodes=None,\n",
       "                        min_impurity_decrease=0.0, min_impurity_split=None,\n",
       "                        min_samples_leaf=1, min_samples_split=2,\n",
       "                        min_weight_fraction_leaf=0.0, n_estimators='warn',\n",
       "                        n_jobs=-1, oob_score=False, random_state=0, verbose=0,\n",
       "                        warm_start=False),\n",
       " 'scaler__copy': True,\n",
       " 'scaler__with_mean': True,\n",
       " 'scaler__with_std': True,\n",
       " 'PCA__copy': True,\n",
       " 'PCA__iterated_power': 'auto',\n",
       " 'PCA__n_components': 175,\n",
       " 'PCA__random_state': None,\n",
       " 'PCA__svd_solver': 'auto',\n",
       " 'PCA__tol': 0.0,\n",
       " 'PCA__whiten': False,\n",
       " 'rf__bootstrap': True,\n",
       " 'rf__class_weight': None,\n",
       " 'rf__criterion': 'gini',\n",
       " 'rf__max_depth': None,\n",
       " 'rf__max_features': 'auto',\n",
       " 'rf__max_leaf_nodes': None,\n",
       " 'rf__min_impurity_decrease': 0.0,\n",
       " 'rf__min_impurity_split': None,\n",
       " 'rf__min_samples_leaf': 1,\n",
       " 'rf__min_samples_split': 2,\n",
       " 'rf__min_weight_fraction_leaf': 0.0,\n",
       " 'rf__n_estimators': 'warn',\n",
       " 'rf__n_jobs': -1,\n",
       " 'rf__oob_score': False,\n",
       " 'rf__random_state': 0,\n",
       " 'rf__verbose': 0,\n",
       " 'rf__warm_start': False}"
      ]
     },
     "execution_count": 13,
     "metadata": {},
     "output_type": "execute_result"
    }
   ],
   "source": [
    "pipe2.get_params()"
   ]
  },
  {
   "cell_type": "markdown",
   "metadata": {},
   "source": [
    "### Define key parameters for the Random Forest Classifier"
   ]
  },
  {
   "cell_type": "code",
   "execution_count": 14,
   "metadata": {},
   "outputs": [
    {
     "name": "stdout",
     "output_type": "stream",
     "text": [
      "Number of combinations: 18\n"
     ]
    }
   ],
   "source": [
    "# Grid of parameters\n",
    "grid2 = ParameterGrid({\n",
    "    'rf__n_estimators': [800,1000], # of decision trees\n",
    "    'rf__criterion': ['gini'], # quality of split (Gini provided better results in previous runs than entropy)\n",
    "    'rf__max_features':[0.3,0.5,0.8], # % of features vs total number of features for looking at the best split\n",
    "    'rf__max_depth':[5,10,20], # depth of trees\n",
    "})\n",
    "\n",
    "# Print the number of combinations\n",
    "print('Number of combinations:', len(grid2))"
   ]
  },
  {
   "cell_type": "markdown",
   "metadata": {},
   "source": [
    "### Run the Random Forest model on sub-train data set (3200 data points) and test accuracy on the validation data set (800 data points)"
   ]
  },
  {
   "cell_type": "code",
   "execution_count": 15,
   "metadata": {},
   "outputs": [
    {
     "name": "stdout",
     "output_type": "stream",
     "text": [
      "Combination 1/18\n",
      "Combination 2/18\n",
      "Combination 3/18\n",
      "Combination 4/18\n",
      "Combination 5/18\n",
      "Combination 6/18\n",
      "Combination 7/18\n",
      "Combination 8/18\n",
      "Combination 9/18\n",
      "Combination 10/18\n",
      "Combination 11/18\n",
      "Combination 12/18\n",
      "Combination 13/18\n",
      "Combination 14/18\n",
      "Combination 15/18\n",
      "Combination 16/18\n",
      "Combination 17/18\n",
      "Combination 18/18\n",
      "done\n"
     ]
    }
   ],
   "source": [
    "#  Save accuracy on train and validation sets\n",
    "train_scores=[]\n",
    "valid_scores = []\n",
    "\n",
    "# Enumerate combinations starting from 1\n",
    "for i, params_dict in enumerate(grid2, 1):\n",
    "    # Print progress\n",
    "    print('Combination {}/{}'.format(\n",
    "        i, len(grid2) # Total number of combinations\n",
    "    ))\n",
    "    \n",
    "    # Set parameters\n",
    "    pipe2.set_params(**params_dict)\n",
    "\n",
    "    # Fit a Decision Tree classifier\n",
    "    pipe2.fit(X_tr_2nd, y_tr_2nd) # Train2 3200 data points\n",
    "\n",
    "    # Save accuracy on validation set   \n",
    "    params_dict['accuracy_train']= pipe2.score(X_tr_2nd, y_tr_2nd)\n",
    "    params_dict['accuracy_valid'] = pipe2.score(X_valid, y_valid)\n",
    "    \n",
    "    # Save result\n",
    "    train_scores.append(params_dict)\n",
    "    valid_scores.append(params_dict)\n",
    "\n",
    "print('done')"
   ]
  },
  {
   "cell_type": "code",
   "execution_count": 16,
   "metadata": {},
   "outputs": [
    {
     "data": {
      "text/html": [
       "<div>\n",
       "<style scoped>\n",
       "    .dataframe tbody tr th:only-of-type {\n",
       "        vertical-align: middle;\n",
       "    }\n",
       "\n",
       "    .dataframe tbody tr th {\n",
       "        vertical-align: top;\n",
       "    }\n",
       "\n",
       "    .dataframe thead th {\n",
       "        text-align: right;\n",
       "    }\n",
       "</style>\n",
       "<table border=\"1\" class=\"dataframe\">\n",
       "  <thead>\n",
       "    <tr style=\"text-align: right;\">\n",
       "      <th></th>\n",
       "      <th>rf__criterion</th>\n",
       "      <th>rf__max_depth</th>\n",
       "      <th>rf__max_features</th>\n",
       "      <th>rf__n_estimators</th>\n",
       "      <th>accuracy_train</th>\n",
       "      <th>accuracy_valid</th>\n",
       "    </tr>\n",
       "  </thead>\n",
       "  <tbody>\n",
       "    <tr>\n",
       "      <th>12</th>\n",
       "      <td>gini</td>\n",
       "      <td>20</td>\n",
       "      <td>0.3</td>\n",
       "      <td>800</td>\n",
       "      <td>1.000000</td>\n",
       "      <td>0.76000</td>\n",
       "    </tr>\n",
       "    <tr>\n",
       "      <th>13</th>\n",
       "      <td>gini</td>\n",
       "      <td>20</td>\n",
       "      <td>0.3</td>\n",
       "      <td>1000</td>\n",
       "      <td>1.000000</td>\n",
       "      <td>0.75375</td>\n",
       "    </tr>\n",
       "    <tr>\n",
       "      <th>6</th>\n",
       "      <td>gini</td>\n",
       "      <td>10</td>\n",
       "      <td>0.3</td>\n",
       "      <td>800</td>\n",
       "      <td>0.990938</td>\n",
       "      <td>0.75250</td>\n",
       "    </tr>\n",
       "    <tr>\n",
       "      <th>7</th>\n",
       "      <td>gini</td>\n",
       "      <td>10</td>\n",
       "      <td>0.3</td>\n",
       "      <td>1000</td>\n",
       "      <td>0.990625</td>\n",
       "      <td>0.75125</td>\n",
       "    </tr>\n",
       "    <tr>\n",
       "      <th>8</th>\n",
       "      <td>gini</td>\n",
       "      <td>10</td>\n",
       "      <td>0.5</td>\n",
       "      <td>800</td>\n",
       "      <td>0.985938</td>\n",
       "      <td>0.74125</td>\n",
       "    </tr>\n",
       "    <tr>\n",
       "      <th>9</th>\n",
       "      <td>gini</td>\n",
       "      <td>10</td>\n",
       "      <td>0.5</td>\n",
       "      <td>1000</td>\n",
       "      <td>0.985000</td>\n",
       "      <td>0.73875</td>\n",
       "    </tr>\n",
       "    <tr>\n",
       "      <th>15</th>\n",
       "      <td>gini</td>\n",
       "      <td>20</td>\n",
       "      <td>0.5</td>\n",
       "      <td>1000</td>\n",
       "      <td>1.000000</td>\n",
       "      <td>0.73875</td>\n",
       "    </tr>\n",
       "    <tr>\n",
       "      <th>14</th>\n",
       "      <td>gini</td>\n",
       "      <td>20</td>\n",
       "      <td>0.5</td>\n",
       "      <td>800</td>\n",
       "      <td>1.000000</td>\n",
       "      <td>0.73625</td>\n",
       "    </tr>\n",
       "    <tr>\n",
       "      <th>16</th>\n",
       "      <td>gini</td>\n",
       "      <td>20</td>\n",
       "      <td>0.8</td>\n",
       "      <td>800</td>\n",
       "      <td>1.000000</td>\n",
       "      <td>0.73000</td>\n",
       "    </tr>\n",
       "    <tr>\n",
       "      <th>1</th>\n",
       "      <td>gini</td>\n",
       "      <td>5</td>\n",
       "      <td>0.3</td>\n",
       "      <td>1000</td>\n",
       "      <td>0.780000</td>\n",
       "      <td>0.72750</td>\n",
       "    </tr>\n",
       "    <tr>\n",
       "      <th>10</th>\n",
       "      <td>gini</td>\n",
       "      <td>10</td>\n",
       "      <td>0.8</td>\n",
       "      <td>800</td>\n",
       "      <td>0.980313</td>\n",
       "      <td>0.72625</td>\n",
       "    </tr>\n",
       "    <tr>\n",
       "      <th>0</th>\n",
       "      <td>gini</td>\n",
       "      <td>5</td>\n",
       "      <td>0.3</td>\n",
       "      <td>800</td>\n",
       "      <td>0.778438</td>\n",
       "      <td>0.72500</td>\n",
       "    </tr>\n",
       "    <tr>\n",
       "      <th>17</th>\n",
       "      <td>gini</td>\n",
       "      <td>20</td>\n",
       "      <td>0.8</td>\n",
       "      <td>1000</td>\n",
       "      <td>1.000000</td>\n",
       "      <td>0.72500</td>\n",
       "    </tr>\n",
       "    <tr>\n",
       "      <th>11</th>\n",
       "      <td>gini</td>\n",
       "      <td>10</td>\n",
       "      <td>0.8</td>\n",
       "      <td>1000</td>\n",
       "      <td>0.980625</td>\n",
       "      <td>0.72125</td>\n",
       "    </tr>\n",
       "    <tr>\n",
       "      <th>3</th>\n",
       "      <td>gini</td>\n",
       "      <td>5</td>\n",
       "      <td>0.5</td>\n",
       "      <td>1000</td>\n",
       "      <td>0.764687</td>\n",
       "      <td>0.71250</td>\n",
       "    </tr>\n",
       "    <tr>\n",
       "      <th>2</th>\n",
       "      <td>gini</td>\n",
       "      <td>5</td>\n",
       "      <td>0.5</td>\n",
       "      <td>800</td>\n",
       "      <td>0.764375</td>\n",
       "      <td>0.71125</td>\n",
       "    </tr>\n",
       "    <tr>\n",
       "      <th>5</th>\n",
       "      <td>gini</td>\n",
       "      <td>5</td>\n",
       "      <td>0.8</td>\n",
       "      <td>1000</td>\n",
       "      <td>0.765938</td>\n",
       "      <td>0.70500</td>\n",
       "    </tr>\n",
       "    <tr>\n",
       "      <th>4</th>\n",
       "      <td>gini</td>\n",
       "      <td>5</td>\n",
       "      <td>0.8</td>\n",
       "      <td>800</td>\n",
       "      <td>0.764375</td>\n",
       "      <td>0.70375</td>\n",
       "    </tr>\n",
       "  </tbody>\n",
       "</table>\n",
       "</div>"
      ],
      "text/plain": [
       "   rf__criterion  rf__max_depth  rf__max_features  rf__n_estimators  \\\n",
       "12          gini             20               0.3               800   \n",
       "13          gini             20               0.3              1000   \n",
       "6           gini             10               0.3               800   \n",
       "7           gini             10               0.3              1000   \n",
       "8           gini             10               0.5               800   \n",
       "9           gini             10               0.5              1000   \n",
       "15          gini             20               0.5              1000   \n",
       "14          gini             20               0.5               800   \n",
       "16          gini             20               0.8               800   \n",
       "1           gini              5               0.3              1000   \n",
       "10          gini             10               0.8               800   \n",
       "0           gini              5               0.3               800   \n",
       "17          gini             20               0.8              1000   \n",
       "11          gini             10               0.8              1000   \n",
       "3           gini              5               0.5              1000   \n",
       "2           gini              5               0.5               800   \n",
       "5           gini              5               0.8              1000   \n",
       "4           gini              5               0.8               800   \n",
       "\n",
       "    accuracy_train  accuracy_valid  \n",
       "12        1.000000         0.76000  \n",
       "13        1.000000         0.75375  \n",
       "6         0.990938         0.75250  \n",
       "7         0.990625         0.75125  \n",
       "8         0.985938         0.74125  \n",
       "9         0.985000         0.73875  \n",
       "15        1.000000         0.73875  \n",
       "14        1.000000         0.73625  \n",
       "16        1.000000         0.73000  \n",
       "1         0.780000         0.72750  \n",
       "10        0.980313         0.72625  \n",
       "0         0.778438         0.72500  \n",
       "17        1.000000         0.72500  \n",
       "11        0.980625         0.72125  \n",
       "3         0.764687         0.71250  \n",
       "2         0.764375         0.71125  \n",
       "5         0.765938         0.70500  \n",
       "4         0.764375         0.70375  "
      ]
     },
     "execution_count": 16,
     "metadata": {},
     "output_type": "execute_result"
    }
   ],
   "source": [
    "# Create DataFrame with test scores\n",
    "scores_rf = pd.DataFrame(valid_scores)\n",
    "# Print scores\n",
    "scores_rf.sort_values(by='accuracy_valid', ascending=False)"
   ]
  },
  {
   "cell_type": "markdown",
   "metadata": {},
   "source": [
    "#### Find the best combination of parameters"
   ]
  },
  {
   "cell_type": "code",
   "execution_count": 17,
   "metadata": {},
   "outputs": [
    {
     "name": "stdout",
     "output_type": "stream",
     "text": [
      "Top validation accuracy on set 12\n",
      "Accuracy on validation set 0.760\n",
      "Type of quality of split gini\n",
      "Decision tree with depth 800\n"
     ]
    }
   ],
   "source": [
    "# Find best combination\n",
    "idx = np.argmax(scores_rf['accuracy_valid'])\n",
    "print('Top validation accuracy on set {:}'.format(idx))\n",
    "\n",
    "# Print accuracy on validation set\n",
    "print('Accuracy on validation set {:.3f}'.format(\n",
    "     scores_rf.accuracy_valid[idx]\n",
    "     ))\n",
    "\n",
    "# Print type of quality of split\n",
    "print('Type of quality of split {:}'.format(\n",
    "    scores_rf.rf__criterion[idx], \n",
    "))\n",
    "\n",
    "# Print # of decision trees for the best combination\n",
    "print('Decision tree with depth {:}'.format(\n",
    "    scores_rf.rf__n_estimators[idx], \n",
    "))"
   ]
  },
  {
   "cell_type": "markdown",
   "metadata": {},
   "source": [
    "#### Plot accuracy on train and validation data sets"
   ]
  },
  {
   "cell_type": "code",
   "execution_count": 18,
   "metadata": {},
   "outputs": [
    {
     "data": {
      "image/png": "[encoded data removed]",
      "text/plain": [
       "<Figure size 432x288 with 1 Axes>"
      ]
     },
     "metadata": {
      "needs_background": "light"
     },
     "output_type": "display_data"
    }
   ],
   "source": [
    "# Plot accuracy values\n",
    "plt.plot(scores_rf['accuracy_train'], label='train')\n",
    "plt.plot(scores_rf['accuracy_valid'], label='validation')\n",
    "plt.title('Validation accuracy')\n",
    "plt.xlabel('# of the model')\n",
    "plt.ylabel('accuracy')\n",
    "plt.legend()\n",
    "plt.show()"
   ]
  },
  {
   "cell_type": "markdown",
   "metadata": {},
   "source": [
    "### Conclusions about Random Forest Classifier\n",
    "* **Best 1st results (2 parameters: n_estimators & criterion): Accuracy on valid set = 0.792 with Gini type of quality split and 800 decision trees (out of a maximumn of 1000) BUT high-level of overfitting**\n",
    "* **Best 2nd results (3 parameters: n_estimators, mx_features, max_depth): Selection of the model minimizing the variance between train & validation: Model 1 (gini criterion, 1000 estimators, 30% max_features, 5 mx_depth)**\n",
    "    * Accuracy on validation 0.7275, accuracy on train set 0.779"
   ]
  },
  {
   "cell_type": "markdown",
   "metadata": {},
   "source": [
    "# Create Gradient Boosting classifier"
   ]
  },
  {
   "cell_type": "code",
   "execution_count": 19,
   "metadata": {},
   "outputs": [],
   "source": [
    "# Create pipeline\n",
    "pipe3 = Pipeline([\n",
    "    ('scaler', StandardScaler()), # with standardization StandardScaler()\n",
    "    ('PCA', PCA(n_components=175)), # 175 components to explain 90% of the variance (ref. Data Exploration section)\n",
    "    ('gb', ensemble.GradientBoostingClassifier(random_state=0)) # Loss by default is 'deviance' (logistic regression), 'exponential' will induce  AdaBoosting classifier  \n",
    "])"
   ]
  },
  {
   "cell_type": "code",
   "execution_count": 20,
   "metadata": {},
   "outputs": [
    {
     "data": {
      "text/plain": [
       "{'memory': None,\n",
       " 'steps': [('scaler',\n",
       "   StandardScaler(copy=True, with_mean=True, with_std=True)),\n",
       "  ('PCA',\n",
       "   PCA(copy=True, iterated_power='auto', n_components=175, random_state=None,\n",
       "       svd_solver='auto', tol=0.0, whiten=False)),\n",
       "  ('gb', GradientBoostingClassifier(criterion='friedman_mse', init=None,\n",
       "                              learning_rate=0.1, loss='deviance', max_depth=3,\n",
       "                              max_features=None, max_leaf_nodes=None,\n",
       "                              min_impurity_decrease=0.0, min_impurity_split=None,\n",
       "                              min_samples_leaf=1, min_samples_split=2,\n",
       "                              min_weight_fraction_leaf=0.0, n_estimators=100,\n",
       "                              n_iter_no_change=None, presort='auto',\n",
       "                              random_state=0, subsample=1.0, tol=0.0001,\n",
       "                              validation_fraction=0.1, verbose=0,\n",
       "                              warm_start=False))],\n",
       " 'verbose': False,\n",
       " 'scaler': StandardScaler(copy=True, with_mean=True, with_std=True),\n",
       " 'PCA': PCA(copy=True, iterated_power='auto', n_components=175, random_state=None,\n",
       "     svd_solver='auto', tol=0.0, whiten=False),\n",
       " 'gb': GradientBoostingClassifier(criterion='friedman_mse', init=None,\n",
       "                            learning_rate=0.1, loss='deviance', max_depth=3,\n",
       "                            max_features=None, max_leaf_nodes=None,\n",
       "                            min_impurity_decrease=0.0, min_impurity_split=None,\n",
       "                            min_samples_leaf=1, min_samples_split=2,\n",
       "                            min_weight_fraction_leaf=0.0, n_estimators=100,\n",
       "                            n_iter_no_change=None, presort='auto',\n",
       "                            random_state=0, subsample=1.0, tol=0.0001,\n",
       "                            validation_fraction=0.1, verbose=0,\n",
       "                            warm_start=False),\n",
       " 'scaler__copy': True,\n",
       " 'scaler__with_mean': True,\n",
       " 'scaler__with_std': True,\n",
       " 'PCA__copy': True,\n",
       " 'PCA__iterated_power': 'auto',\n",
       " 'PCA__n_components': 175,\n",
       " 'PCA__random_state': None,\n",
       " 'PCA__svd_solver': 'auto',\n",
       " 'PCA__tol': 0.0,\n",
       " 'PCA__whiten': False,\n",
       " 'gb__criterion': 'friedman_mse',\n",
       " 'gb__init': None,\n",
       " 'gb__learning_rate': 0.1,\n",
       " 'gb__loss': 'deviance',\n",
       " 'gb__max_depth': 3,\n",
       " 'gb__max_features': None,\n",
       " 'gb__max_leaf_nodes': None,\n",
       " 'gb__min_impurity_decrease': 0.0,\n",
       " 'gb__min_impurity_split': None,\n",
       " 'gb__min_samples_leaf': 1,\n",
       " 'gb__min_samples_split': 2,\n",
       " 'gb__min_weight_fraction_leaf': 0.0,\n",
       " 'gb__n_estimators': 100,\n",
       " 'gb__n_iter_no_change': None,\n",
       " 'gb__presort': 'auto',\n",
       " 'gb__random_state': 0,\n",
       " 'gb__subsample': 1.0,\n",
       " 'gb__tol': 0.0001,\n",
       " 'gb__validation_fraction': 0.1,\n",
       " 'gb__verbose': 0,\n",
       " 'gb__warm_start': False}"
      ]
     },
     "execution_count": 20,
     "metadata": {},
     "output_type": "execute_result"
    }
   ],
   "source": [
    "pipe3.get_params()"
   ]
  },
  {
   "cell_type": "code",
   "execution_count": 21,
   "metadata": {},
   "outputs": [
    {
     "name": "stdout",
     "output_type": "stream",
     "text": [
      "Number of combinations: 9\n"
     ]
    }
   ],
   "source": [
    "# Grid of parameters\n",
    "grid3 = ParameterGrid({\n",
    "    'gb__learning_rate':[0.2,0.1,0.01], # learning rate\n",
    "    'gb__n_estimators': [500, 800, 1000] # of boosting stages\n",
    "})\n",
    "\n",
    "# Print the number of combinations\n",
    "print('Number of combinations:', len(grid3))"
   ]
  },
  {
   "cell_type": "markdown",
   "metadata": {},
   "source": [
    "### Run the Gradient Boosting model on sub-train data set (3200 data points) and test accuracy on the validation data set (800 data points)"
   ]
  },
  {
   "cell_type": "code",
   "execution_count": 22,
   "metadata": {},
   "outputs": [
    {
     "name": "stdout",
     "output_type": "stream",
     "text": [
      "Combination 1/9\n",
      "Combination 2/9\n",
      "Combination 3/9\n",
      "Combination 4/9\n",
      "Combination 5/9\n",
      "Combination 6/9\n",
      "Combination 7/9\n",
      "Combination 8/9\n",
      "Combination 9/9\n",
      "done\n"
     ]
    }
   ],
   "source": [
    "# Save accuracy on train and validation sets\n",
    "train_scores=[]\n",
    "valid_scores = []\n",
    "\n",
    "# Enumerate combinations starting from 1\n",
    "for i, params_dict in enumerate(grid3, 1):\n",
    "    # Print progress\n",
    "    print('Combination {}/{}'.format(\n",
    "        i, len(grid3) # Total number of combinations\n",
    "    ))\n",
    "    \n",
    "    # Set parameters\n",
    "    pipe3.set_params(**params_dict)\n",
    "\n",
    "    # Fit a Decision Tree classifier\n",
    "    pipe3.fit(X_tr_2nd, y_tr_2nd) # Train2 3200 data points\n",
    "\n",
    "    # Save accuracy on validation set   \n",
    "    params_dict['accuracy_train']= pipe3.score(X_tr_2nd, y_tr_2nd)\n",
    "    params_dict['accuracy_valid'] = pipe3.score(X_valid, y_valid)\n",
    "    \n",
    "    # Save result\n",
    "    train_scores.append(params_dict)\n",
    "    valid_scores.append(params_dict)\n",
    "\n",
    "print('done')"
   ]
  },
  {
   "cell_type": "markdown",
   "metadata": {},
   "source": [
    "#### Create a dataframe with results"
   ]
  },
  {
   "cell_type": "code",
   "execution_count": 23,
   "metadata": {},
   "outputs": [
    {
     "data": {
      "text/html": [
       "<div>\n",
       "<style scoped>\n",
       "    .dataframe tbody tr th:only-of-type {\n",
       "        vertical-align: middle;\n",
       "    }\n",
       "\n",
       "    .dataframe tbody tr th {\n",
       "        vertical-align: top;\n",
       "    }\n",
       "\n",
       "    .dataframe thead th {\n",
       "        text-align: right;\n",
       "    }\n",
       "</style>\n",
       "<table border=\"1\" class=\"dataframe\">\n",
       "  <thead>\n",
       "    <tr style=\"text-align: right;\">\n",
       "      <th></th>\n",
       "      <th>gb__learning_rate</th>\n",
       "      <th>gb__n_estimators</th>\n",
       "      <th>accuracy_train</th>\n",
       "      <th>accuracy_valid</th>\n",
       "    </tr>\n",
       "  </thead>\n",
       "  <tbody>\n",
       "    <tr>\n",
       "      <th>3</th>\n",
       "      <td>0.10</td>\n",
       "      <td>500</td>\n",
       "      <td>1.000000</td>\n",
       "      <td>0.81000</td>\n",
       "    </tr>\n",
       "    <tr>\n",
       "      <th>0</th>\n",
       "      <td>0.20</td>\n",
       "      <td>500</td>\n",
       "      <td>1.000000</td>\n",
       "      <td>0.80750</td>\n",
       "    </tr>\n",
       "    <tr>\n",
       "      <th>2</th>\n",
       "      <td>0.20</td>\n",
       "      <td>1000</td>\n",
       "      <td>1.000000</td>\n",
       "      <td>0.80500</td>\n",
       "    </tr>\n",
       "    <tr>\n",
       "      <th>4</th>\n",
       "      <td>0.10</td>\n",
       "      <td>800</td>\n",
       "      <td>1.000000</td>\n",
       "      <td>0.80250</td>\n",
       "    </tr>\n",
       "    <tr>\n",
       "      <th>1</th>\n",
       "      <td>0.20</td>\n",
       "      <td>800</td>\n",
       "      <td>1.000000</td>\n",
       "      <td>0.80000</td>\n",
       "    </tr>\n",
       "    <tr>\n",
       "      <th>5</th>\n",
       "      <td>0.10</td>\n",
       "      <td>1000</td>\n",
       "      <td>1.000000</td>\n",
       "      <td>0.79750</td>\n",
       "    </tr>\n",
       "    <tr>\n",
       "      <th>8</th>\n",
       "      <td>0.01</td>\n",
       "      <td>1000</td>\n",
       "      <td>0.965625</td>\n",
       "      <td>0.77875</td>\n",
       "    </tr>\n",
       "    <tr>\n",
       "      <th>7</th>\n",
       "      <td>0.01</td>\n",
       "      <td>800</td>\n",
       "      <td>0.943125</td>\n",
       "      <td>0.77250</td>\n",
       "    </tr>\n",
       "    <tr>\n",
       "      <th>6</th>\n",
       "      <td>0.01</td>\n",
       "      <td>500</td>\n",
       "      <td>0.880313</td>\n",
       "      <td>0.75125</td>\n",
       "    </tr>\n",
       "  </tbody>\n",
       "</table>\n",
       "</div>"
      ],
      "text/plain": [
       "   gb__learning_rate  gb__n_estimators  accuracy_train  accuracy_valid\n",
       "3               0.10               500        1.000000         0.81000\n",
       "0               0.20               500        1.000000         0.80750\n",
       "2               0.20              1000        1.000000         0.80500\n",
       "4               0.10               800        1.000000         0.80250\n",
       "1               0.20               800        1.000000         0.80000\n",
       "5               0.10              1000        1.000000         0.79750\n",
       "8               0.01              1000        0.965625         0.77875\n",
       "7               0.01               800        0.943125         0.77250\n",
       "6               0.01               500        0.880313         0.75125"
      ]
     },
     "execution_count": 23,
     "metadata": {},
     "output_type": "execute_result"
    }
   ],
   "source": [
    "# Create DataFrame with test scores\n",
    "scores_gb = pd.DataFrame(valid_scores)\n",
    "# Print scores\n",
    "scores_gb.sort_values(by='accuracy_valid', ascending=False)"
   ]
  },
  {
   "cell_type": "markdown",
   "metadata": {},
   "source": [
    "#### Find the best combination of parameters"
   ]
  },
  {
   "cell_type": "code",
   "execution_count": 24,
   "metadata": {},
   "outputs": [
    {
     "name": "stdout",
     "output_type": "stream",
     "text": [
      "Top validation accuracy on set 3\n",
      "Accuracy on validation set 0.810\n",
      "Learning rate 0.1\n",
      "Number of estimators 500\n"
     ]
    }
   ],
   "source": [
    "# Find best combination\n",
    "idx = np.argmax(scores_gb['accuracy_valid'])\n",
    "print('Top validation accuracy on set {:}'.format(idx))\n",
    "\n",
    "# Print accuracy on validation set\n",
    "print('Accuracy on validation set {:.3f}'.format(\n",
    "     scores_gb.accuracy_valid[idx]\n",
    "     ))\n",
    "\n",
    "# Print type of quality of split\n",
    "print('Learning rate {:}'.format(\n",
    "    scores_gb.gb__learning_rate[idx], \n",
    "))\n",
    "\n",
    "# Print # of decision trees for the best combination\n",
    "print('Number of estimators {:}'.format(\n",
    "    scores_gb.gb__n_estimators[idx], \n",
    "))"
   ]
  },
  {
   "cell_type": "markdown",
   "metadata": {},
   "source": [
    "#### Print accuracy on Train and Validation data sets"
   ]
  },
  {
   "cell_type": "code",
   "execution_count": 25,
   "metadata": {},
   "outputs": [
    {
     "data": {
      "image/png": "[encoded data removed]",
      "text/plain": [
       "<Figure size 432x288 with 1 Axes>"
      ]
     },
     "metadata": {
      "needs_background": "light"
     },
     "output_type": "display_data"
    }
   ],
   "source": [
    "# Plot accuracy values\n",
    "plt.plot(scores_gb['accuracy_train'], label='train')\n",
    "plt.plot(scores_gb['accuracy_valid'], label='validation')\n",
    "plt.title('Validation accuracy')\n",
    "plt.xlabel('# of the model')\n",
    "plt.ylabel('accuracy')\n",
    "plt.legend()\n",
    "plt.show()"
   ]
  },
  {
   "cell_type": "markdown",
   "metadata": {},
   "source": [
    "## Apply best classifiers on Train / test sets"
   ]
  },
  {
   "cell_type": "markdown",
   "metadata": {},
   "source": [
    "## Select best models"
   ]
  },
  {
   "cell_type": "markdown",
   "metadata": {},
   "source": [
    "### **Decision tree**\n",
    "* **Best results: Accuracy on valid set = 0.66 with Gini quality of split and tree depth of 5 (StandardScaler and PCA explaining 90% of the variance have been applied)**"
   ]
  },
  {
   "cell_type": "code",
   "execution_count": 26,
   "metadata": {},
   "outputs": [],
   "source": [
    "# Create Decision Tree pipeline\n",
    "pipe_dt_final = Pipeline([\n",
    "    ('scaler', StandardScaler()), # with standardization StandardScaler()\n",
    "    ('PCA', PCA(n_components=175)), # 175 components to explain 90% of the variance (ref. Data Exploration section)\n",
    "    ('clf', DecisionTreeClassifier(random_state=0, criterion='gini', max_depth=5))   \n",
    "])"
   ]
  },
  {
   "cell_type": "markdown",
   "metadata": {},
   "source": [
    "### Run the Decision Tree on X/Y data sets"
   ]
  },
  {
   "cell_type": "code",
   "execution_count": 27,
   "metadata": {},
   "outputs": [
    {
     "name": "stdout",
     "output_type": "stream",
     "text": [
      "train accuracy 0.715\n",
      "test accuracy 0.641\n"
     ]
    }
   ],
   "source": [
    "# Fit a Decision Tree classifier\n",
    "pipe_dt_final.fit(X_tr_main, y_tr_main) # Train 4000 data points\n",
    "\n",
    "# Save accuracy on train and test set   \n",
    "score_train=pipe_dt_final.score(X_tr_main, y_tr_main)\n",
    "score_test=pipe_dt_final.score(X_test, y_test)\n",
    "\n",
    "print('train accuracy', score_train)\n",
    "print('test accuracy', score_test) "
   ]
  },
  {
   "cell_type": "markdown",
   "metadata": {},
   "source": [
    "### **RandomForest classifier**\n",
    "**Best 2nd results (3 parameters: n_estimators, mx_features, max_depth): Selection of the model minimizing the variance between train & validation: Model 1 (gini criterion, 1000 estimators, 30% max_features, 5 mx_depth)**\n",
    "    * Accuracy on validation 0.7275, accuracy on train set 0.779"
   ]
  },
  {
   "cell_type": "code",
   "execution_count": 28,
   "metadata": {},
   "outputs": [],
   "source": [
    "# Create RandomForest pipeline\n",
    "pipe_rf_final = Pipeline([\n",
    "    ('scaler', StandardScaler()), # with standardization StandardScaler()\n",
    "    ('PCA', PCA(n_components=175)), # 175 components to explain 90% of the variance (ref. Data Exploration section)\n",
    "    ('rf', RandomForestClassifier(n_jobs=-1, n_estimators=1000, criterion='gini',max_features=0.3, max_depth=5,random_state=0))  \n",
    "])"
   ]
  },
  {
   "cell_type": "code",
   "execution_count": 29,
   "metadata": {},
   "outputs": [
    {
     "name": "stdout",
     "output_type": "stream",
     "text": [
      "train accuracy 0.76325\n",
      "test accuracy 0.709\n"
     ]
    }
   ],
   "source": [
    "# Fit a randomForest classifier\n",
    "pipe_rf_final.fit(X_tr_main, y_tr_main) # Train 4000 data points\n",
    "\n",
    "# Save accuracy on train and test set   \n",
    "score_train=pipe_rf_final.score(X_tr_main, y_tr_main)\n",
    "score_test=pipe_rf_final.score(X_test, y_test)\n",
    "\n",
    "print('train accuracy', score_train)\n",
    "print('test accuracy', score_test)"
   ]
  },
  {
   "cell_type": "markdown",
   "metadata": {},
   "source": [
    "### Gradient Boosting Model\n",
    "**Best Model: Learning rate 0.2, Number of estimators 1000**\n",
    "    * Accuracy on validation 0.8075, accuracy on train set 1.00"
   ]
  },
  {
   "cell_type": "code",
   "execution_count": 30,
   "metadata": {},
   "outputs": [],
   "source": [
    "# Create Gradient Boosting pipeline\n",
    "pipe_gb_final = Pipeline([\n",
    "    ('scaler', StandardScaler()), # with standardization StandardScaler()\n",
    "    ('PCA', PCA(n_components=175)), # 175 components to explain 90% of the variance (ref. Data Exploration section)\n",
    "    ('gb', ensemble.GradientBoostingClassifier(learning_rate=0.2, n_estimators=1000, random_state=0))  \n",
    "])"
   ]
  },
  {
   "cell_type": "code",
   "execution_count": 31,
   "metadata": {},
   "outputs": [
    {
     "name": "stdout",
     "output_type": "stream",
     "text": [
      "train accuracy 1.0\n",
      "test accuracy 0.794\n"
     ]
    }
   ],
   "source": [
    "# Fit Gradient Boosting Model\n",
    "pipe_gb_final.fit(X_tr_main, y_tr_main) # Train 4000 data points\n",
    "\n",
    "# Save accuracy on train and test set   \n",
    "score_train=pipe_gb_final.score(X_tr_main, y_tr_main)\n",
    "score_test=pipe_gb_final.score(X_test, y_test)\n",
    "\n",
    "print('train accuracy', score_train)\n",
    "print('test accuracy', score_test)"
   ]
  },
  {
   "cell_type": "markdown",
   "metadata": {},
   "source": [
    "### Save DecisionTee results"
   ]
  },
  {
   "cell_type": "code",
   "execution_count": 33,
   "metadata": {},
   "outputs": [
    {
     "name": "stdout",
     "output_type": "stream",
     "text": [
      "Stored 'DecisionTree' (float)\n",
      "Stored 'RandomForest' (float)\n",
      "Stored 'GradientBoosting' (float)\n"
     ]
    }
   ],
   "source": [
    "DecisionTree=0.641\n",
    "%store DecisionTree\n",
    "\n",
    "RandomForest=0.709\n",
    "%store RandomForest\n",
    "\n",
    "GradientBoosting=0.794\n",
    "%store GradientBoosting\n"
   ]
  },
  {
   "cell_type": "code",
   "execution_count": null,
   "metadata": {},
   "outputs": [],
   "source": []
  }
 ],
 "metadata": {
  "kernelspec": {
   "display_name": "Python 3",
   "language": "python",
   "name": "python3"
  },
  "language_info": {
   "codemirror_mode": {
    "name": "ipython",
    "version": 3
   },
   "file_extension": ".py",
   "mimetype": "text/x-python",
   "name": "python",
   "nbconvert_exporter": "python",
   "pygments_lexer": "ipython3",
   "version": "3.6.9"
  }
 },
 "nbformat": 4,
 "nbformat_minor": 4
}
